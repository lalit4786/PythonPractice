{
 "cells": [
  {
   "cell_type": "markdown",
   "metadata": {},
   "source": [
    "# Definition and introduction\n",
    "\n",
    "Descriptors are Python objects that implement a method of the descriptor protocol, which gives you the ability to create objects that have special behavior when they’re accessed as attributes of other objects. \n",
    "\n",
    "### Descriptor protocol\n",
    "\n",
    "Object defining any of the below method considered as descriptor and can override default behavior upon being looked up as an attribute.\n",
    "\n",
    "1. ``descr.__get__(self, obj, type=None)``\n",
    "\n",
    "2. ``descr.__set__(self, obj, value)``\n",
    "\n",
    "3. ``descr.__delete__(self, obj)``\n",
    "\n",
    "<br><br>\n",
    "Descriptor can optionally implement the ``__set_name__(self, owner, name)`` method.\n",
    "\n",
    "### Data vs. Non-data Descriptors\n",
    "\n",
    "1. Data descriptors are objects of a class that implements ``__set__ ``method (and/or ``__delete__`` method)\n",
    "2. Non-data descriptors are objects of a class that have the ``__get__`` method only.\n",
    "\n",
    "\n",
    "The ``__set_name__`` method doesn’t affect the classification of the descriptors. \n",
    "\n",
    "The descriptor types determine how Python resolves object’s attributes lookup.\n",
    "\n",
    "Following example defines a descriptor that logs something on the console when it’s accessed:"
   ]
  },
  {
   "cell_type": "code",
   "execution_count": 3,
   "metadata": {},
   "outputs": [
    {
     "data": {
      "application/vnd.jupyter.widget-view+json": {
       "model_id": "62855c81537f42ba80252b2f1f1706d6",
       "version_major": 2,
       "version_minor": 0
      },
      "text/plain": [
       "HTML(value='<h3>Output:</h3>')"
      ]
     },
     "metadata": {},
     "output_type": "display_data"
    },
    {
     "name": "stdout",
     "output_type": "stream",
     "text": [
      "accessing the attribute to get the value\n",
      "42\n"
     ]
    }
   ],
   "source": [
    "from ipywidgets import HTML\n",
    "\n",
    "display(HTML(\"<h3>Output:</h3>\"))\n",
    "# descriptors.py\n",
    "class Verbose_attribute():\n",
    "    def __get__(self, obj, type=None) -> object:\n",
    "        print(\"accessing the attribute to get the value\")\n",
    "        return 42\n",
    "    def __set__(self, obj, value) -> None:\n",
    "        print(\"accessing the attribute to set the value\")\n",
    "        raise AttributeError(\"Cannot change the value\")\n",
    "\n",
    "class Foo():\n",
    "    attribute1 = Verbose_attribute()\n",
    "\n",
    "my_foo_object = Foo()\n",
    "x = my_foo_object.attribute1\n",
    "\n",
    "\n",
    "print(x)"
   ]
  },
  {
   "cell_type": "markdown",
   "metadata": {},
   "source": [
    "In the example above, ``Verbose_attribute()`` implements the descriptor protocol. Once it’s instantiated as an attribute of Foo, it can be considered a descriptor.\n",
    "\n",
    "As a descriptor, it has **binding behavior** when it’s accessed using dot notation. In this case, the descriptor logs a message on the console every time it’s accessed to get or set a value:\n",
    "\n",
    "1. When it’s accessed to .``__get__()`` the value, it always returns the value 42.\n",
    "2. When it’s accessed to .``__set__()`` a specific value, it raises an AttributeError exception, which is the recommended way to implement read-only descriptors.\n",
    "\n",
    "### How Attributes Are Accessed With the Lookup Chain\n",
    "\n",
    " When we access the attribute of an object with dot notation, here’s how Python interpreter knows using a process called the **lookup chain**. \n",
    "\n",
    " Below is the **lookup chain** process:-\n",
    "\n",
    "1. First, we’ll get the result returned from the ``__get__`` method of the data descriptor named after the attribute we’re looking for.\n",
    "\n",
    "2. If that fails, then we’ll get the value of the object’s ``__dict__`` for the key named after the attribute we’re looking for.\n",
    "\n",
    "3. If that fails, then we’ll get the result returned from the ``__get__`` method of the non-data descriptor named after the attribute we’re looking for.\n",
    "\n",
    "4. If that fails, then we’ll get the value of the object type’s ``__dict__`` for the key named after the attribute we’re looking for.\n",
    "\n",
    "5. If that fails, then we’ll get the value of the object parent type’s ``__dict__`` for the key named after the attribute we’re looking for.\n",
    "\n",
    "6. If that fails, then the previous step is repeated for all the parent’s types in the method resolution order of the object.\n",
    "\n",
    "7. If everything else has failed, then we’ll get an **AttributeError** exception.\n",
    "\n",
    "\n",
    "### How to Use Python Descriptors Properly\n",
    "\n",
    "The most important methods of this protocol are .``__get__()`` and .``__set__()``, which have the following signature:\n",
    "\n",
    "```python\n",
    "__get__(self, obj, type=None)\n",
    "__set__(self, obj, value)\n",
    "```\n",
    "\n",
    "**Things to keep in mind:**\n",
    "\n",
    "1. **self** is the instance of the descriptor you’re writing.\n",
    "2. **obj** is the instance of the object your descriptor is attached to.\n",
    "3. **type** is the type of the object the descriptor is attached to.\n",
    "\n",
    ">**Note:**In ``.__set__()``, we don’t have the ``type`` variable, because we can only call ``.__set__()`` on the object. In contrast, we can call ``.__get__()`` on both the object and the class.\n",
    "\n",
    "Another important thing to know is that Python descriptors are instantiated just once per class. That means that every single instance of a class containing a descriptor shares that descriptor instance. This is something that we might not expect and can lead to a classic pitfall, like this:"
   ]
  },
  {
   "cell_type": "code",
   "execution_count": 4,
   "metadata": {},
   "outputs": [
    {
     "data": {
      "application/vnd.jupyter.widget-view+json": {
       "model_id": "afd1cd58dab24e8ab1a9e98a5880e025",
       "version_major": 2,
       "version_minor": 0
      },
      "text/plain": [
       "HTML(value='<h3>Output:</h3>')"
      ]
     },
     "metadata": {},
     "output_type": "display_data"
    },
    {
     "name": "stdout",
     "output_type": "stream",
     "text": [
      "3\n",
      "3\n",
      "3\n"
     ]
    }
   ],
   "source": [
    "from ipywidgets import HTML\n",
    "\n",
    "display(HTML(\"<h3>Output:</h3>\"))\n",
    "\n",
    "# descriptors2.py\n",
    "class OneDigitNumericValue():\n",
    "    def __init__(self):\n",
    "        self.value = 0\n",
    "    def __get__(self, obj, type=None) -> object:\n",
    "        return self.value\n",
    "    def __set__(self, obj, value) -> None:\n",
    "        if value > 9 or value < 0 or int(value) != value:\n",
    "            raise AttributeError(\"The value is invalid\")\n",
    "        self.value = value\n",
    "\n",
    "class Foo():\n",
    "    number = OneDigitNumericValue()\n",
    "\n",
    "my_foo_object = Foo()\n",
    "my_second_foo_object = Foo()\n",
    "\n",
    "my_foo_object.number = 3\n",
    "print(my_foo_object.number)\n",
    "print(my_second_foo_object.number)\n",
    "\n",
    "my_third_foo_object = Foo()\n",
    "print(my_third_foo_object.number)"
   ]
  },
  {
   "cell_type": "markdown",
   "metadata": {},
   "source": [
    "We can see that all the instances of ``Foo`` have the same value for the attribute ``number``.\n",
    "\n",
    "The best solution here is to simply not store values in the descriptor itself, but to store them in the object that the descriptor is attached to as shown below:"
   ]
  },
  {
   "cell_type": "code",
   "execution_count": 8,
   "metadata": {},
   "outputs": [
    {
     "data": {
      "application/vnd.jupyter.widget-view+json": {
       "model_id": "e7395090845e4a78bb2ea86cbecc60e3",
       "version_major": 2,
       "version_minor": 0
      },
      "text/plain": [
       "HTML(value='<h3>Output:</h3>')"
      ]
     },
     "metadata": {},
     "output_type": "display_data"
    },
    {
     "name": "stdout",
     "output_type": "stream",
     "text": [
      "3\n",
      "0\n",
      "0\n"
     ]
    }
   ],
   "source": [
    "# descriptors4.py\n",
    "class OneDigitNumericValue():\n",
    "    def __init__(self, name):\n",
    "        self.name = name\n",
    "\n",
    "    def __get__(self, obj, type=None) -> object:\n",
    "        return obj.__dict__.get(self.name)or 0\n",
    "\n",
    "    def __set__(self, obj, value) -> None:\n",
    "        obj.__dict__[self.name] = value\n",
    "\n",
    "class Foo():\n",
    "    number = OneDigitNumericValue(\"number\")\n",
    "\n",
    "my_foo_object = Foo()\n",
    "my_second_foo_object = Foo()\n",
    "\n",
    "display(HTML(\"<h3>Output:</h3>\"))\n",
    "my_foo_object.number = 3\n",
    "print(my_foo_object.number)\n",
    "print(my_second_foo_object.number)\n",
    "\n",
    "my_third_foo_object = Foo()\n",
    "print(my_third_foo_object.number)"
   ]
  },
  {
   "cell_type": "markdown",
   "metadata": {},
   "source": [
    "In this example, when we set a value to the ``number`` attribute of the object, the descriptor stores it in the ``__dict__`` attribute of the object it’s attached to using the same name of the descriptor itself.\n",
    "\n",
    "The only problem here is that when we instantiate the descriptor you have to specify the name as a parameter like below :\n",
    "\n",
    "```python\n",
    "number = OneDigitNumericValue(\"number\")\n",
    "```\n",
    "\n",
    "In Python 3.6 or higher, the descriptor protocol has a new method ``.__set_name__()``. With this new method, whenever we instantiate a descriptor this method is called and the name parameter automatically set.  Rewriting above code using ``._set_name_()``."
   ]
  },
  {
   "cell_type": "code",
   "execution_count": 10,
   "metadata": {},
   "outputs": [
    {
     "data": {
      "application/vnd.jupyter.widget-view+json": {
       "model_id": "00aff75a3d8c46e19733a70e64262c01",
       "version_major": 2,
       "version_minor": 0
      },
      "text/plain": [
       "HTML(value='<h3>Output:</h3>')"
      ]
     },
     "metadata": {},
     "output_type": "display_data"
    },
    {
     "name": "stdout",
     "output_type": "stream",
     "text": [
      "3\n",
      "0\n",
      "0\n"
     ]
    }
   ],
   "source": [
    "# descriptors5.py\n",
    "class OneDigitNumericValue():\n",
    "    def __set_name__(self, owner, name):\n",
    "        self.name = name\n",
    "\n",
    "    def __get__(self, obj, type=None) -> object:\n",
    "        return obj.__dict__.get(self.name) or 0\n",
    "\n",
    "    def __set__(self, obj, value) -> None:\n",
    "        obj.__dict__[self.name] = value\n",
    "\n",
    "class Foo():\n",
    "    number = OneDigitNumericValue()\n",
    "\n",
    "\n",
    "display(HTML(\"<h3>Output:</h3>\"))\n",
    "\n",
    "my_foo_object = Foo()\n",
    "my_second_foo_object = Foo()\n",
    "\n",
    "my_foo_object.number = 3\n",
    "print(my_foo_object.number)\n",
    "print(my_second_foo_object.number)\n",
    "\n",
    "my_third_foo_object = Foo()\n",
    "print(my_third_foo_object.number)"
   ]
  },
  {
   "cell_type": "markdown",
   "metadata": {},
   "source": [
    "Now, ``.__init__()`` has been removed and ``.__set_name__()`` has been implemented. This makes it possible to create descriptor without specifying the name of the internal attribute that we need to use for storing the value."
   ]
  },
  {
   "cell_type": "markdown",
   "metadata": {},
   "source": [
    "## Why Use Python Descriptors?\n",
    "\n",
    "#### D.R.Y. Code\n",
    "\n",
    "Suppose we have a class ``Person`` with two instance attributes ``first_name`` and ``last_name``and we want the ``first_name`` and ``last_name`` attributes to be non-empty strings. To enforce the data validity, we can use property with a ``getter`` and ``setter`` methods, like this:\n",
    "\n",
    "```python\n",
    "class Person:\n",
    "    def __init__(self, first_name, last_name):\n",
    "        self.first_name = first_name\n",
    "        self.last_name = last_name\n",
    "\n",
    "    @property\n",
    "    def first_name(self):\n",
    "        return self._first_name\n",
    "\n",
    "    @first_name.setter\n",
    "    def first_name(self, value):\n",
    "        if not isinstance(value, str):\n",
    "            raise ValueError('The first name must a string')\n",
    "\n",
    "        if len(value) == 0:\n",
    "            raise ValueError('The first name cannot be empty')\n",
    "\n",
    "        self._first_name = value\n",
    "\n",
    "    @property\n",
    "    def last_name(self):\n",
    "        return self._last_name\n",
    "\n",
    "    @last_name.setter\n",
    "    def last_name(self, value):\n",
    "        if not isinstance(value, str):\n",
    "            raise ValueError('The last name must a string')\n",
    "\n",
    "        if len(value) == 0:\n",
    "            raise ValueError('The last name cannot be empty')\n",
    "\n",
    "        self._last_name = value\n",
    "\n",
    "```\n",
    "\n",
    "This code works perfectly fine. However, it is redundant because the validation logic validates the ``first`` and ``last names`` is the same.\n",
    "\n",
    "Also, if the class has more attributes that require a non-empty string, we need to duplicate this logic in other properties. In other words, this validation logic is not reusable.\n",
    "\n",
    "To avoid duplicating the logic, we may create ``RequiredString`` descriptor will enable reusability across all the propertis of ``Person`` class.\n",
    "\n",
    "Below is the implementation of ``RequiredString`` descriptor class:"
   ]
  },
  {
   "cell_type": "code",
   "execution_count": 11,
   "metadata": {},
   "outputs": [],
   "source": [
    "class RequiredString:\n",
    "    def __set_name__(self, owner, name):\n",
    "        self.property_name = name\n",
    "\n",
    "    def __get__(self, instance, owner):\n",
    "        if instance is None:\n",
    "            return self\n",
    "\n",
    "        return instance.__dict__[self.property_name] or None\n",
    "\n",
    "    def __set__(self, instance, value):\n",
    "        if not isinstance(value, str):\n",
    "            raise ValueError(f'The {self.property_name} must be a string')\n",
    "\n",
    "        if len(value) == 0:\n",
    "            raise ValueError(f'The {self.property_name} cannot be empty')\n",
    "\n",
    "        instance.__dict__[self.property_name] = value"
   ]
  },
  {
   "cell_type": "markdown",
   "metadata": {},
   "source": [
    "Second, use the ``RequiredString`` class in the ``Person`` class:\n",
    "\n",
    "```python\n",
    "class Person:\n",
    "    first_name = RequiredString()\n",
    "    last_name = RequiredString()\n",
    "```\n",
    "\n",
    "f you assign an empty string or a non-string value to the first_name or last_name attribute of the Person class, you’ll get an error.\n",
    "\n",
    "For example, the following attempts to assign an empty string to the first_name attribute:\n",
    "\n",
    "```python\n",
    "try:\n",
    "    person = Person()\n",
    "    person.first_name = ''\n",
    "except ValueError as e:\n",
    "    print(e)\n",
    "```\n",
    "\n",
    "Error:\n",
    "\n",
    "```\n",
    "The first_name must be a string\n",
    "\n",
    "```\n",
    "\n",
    "Besides the ``RequiredString``, we can define other descriptors to enforce other data types like age, email, and phone. \n",
    "\n",
    "Here is the Complete Code:"
   ]
  },
  {
   "cell_type": "code",
   "execution_count": 12,
   "metadata": {},
   "outputs": [
    {
     "data": {
      "application/vnd.jupyter.widget-view+json": {
       "model_id": "9770d58180bd4cb09cf27339708969e5",
       "version_major": 2,
       "version_minor": 0
      },
      "text/plain": [
       "HTML(value='<h3>Ouput:</h3>')"
      ]
     },
     "metadata": {},
     "output_type": "display_data"
    },
    {
     "name": "stdout",
     "output_type": "stream",
     "text": [
      "__set_name__ was called with owner=<class '__main__.Person'> and name=first_name\n",
      "__set_name__ was called with owner=<class '__main__.Person'> and name=last_name\n",
      "__set__ was called with instance=<__main__.Person object at 0x11638a6c0> and value=\n",
      "The first_name cannot be empty\n"
     ]
    }
   ],
   "source": [
    "from ipywidgets import HTML\n",
    "\n",
    "class RequiredString:\n",
    "    def __set_name__(self, owner, name):\n",
    "        print(f'__set_name__ was called with owner={owner} and name={name}')\n",
    "        self.property_name = name\n",
    "\n",
    "    def __get__(self, instance, owner):\n",
    "        print(f'__get__ was called with instance={instance} and owner={owner}')\n",
    "        if instance is None:\n",
    "            return self\n",
    "\n",
    "        return instance.__dict__[self.property_name] or None\n",
    "\n",
    "    def __set__(self, instance, value):\n",
    "        print(f'__set__ was called with instance={instance} and value={value}')\n",
    "\n",
    "        if not isinstance(value, str):\n",
    "            raise ValueError(f'The {self.property_name} must a string')\n",
    "\n",
    "        if len(value) == 0:\n",
    "            raise ValueError(f'The {self.property_name} cannot be empty')\n",
    "\n",
    "        instance.__dict__[self.property_name] = value\n",
    "\n",
    "display(HTML(\"<h3>Ouput:</h3>\"))\n",
    "\n",
    "class Person:\n",
    "    first_name = RequiredString()\n",
    "    last_name = RequiredString()\n",
    "    \n",
    "try:\n",
    "    person = Person()\n",
    "    person.first_name = ''\n",
    "except ValueError as e:\n",
    "    print(e)    "
   ]
  },
  {
   "cell_type": "markdown",
   "metadata": {},
   "source": [
    "## What is happening behind the scene?\n",
    "\n",
    "When Python executes below statements:\n",
    "\n",
    "```python\n",
    "first_name = RequiredString()\n",
    "last_name = RequiredString()\n",
    "```\n",
    "\n",
    "it will  creates the descriptor objects for ``first_name`` and ``last_name`` and automatically call the ``__set_name__`` method of these objects. Here’s the output:\n",
    "\n",
    "```\n",
    "__set_name__ was called with owner=<class '__main__.Person'> and name=first_name\n",
    "__set_name__ was called with owner=<class '__main__.Person'> and name=last_name\n",
    "```\n",
    "\n",
    "In this example, the ``owner`` argument of ``__set_name__`` is set to the Person class in the __main__ module, and the name argument is set to the first_name and last_name attribute accordingly.\n",
    "\n",
    "The following statements are equivalent:\n",
    "\n",
    "```\n",
    "first_name = RequiredString()\n",
    "```\n",
    "\n",
    "and\n",
    "\n",
    "```\n",
    "first_name.__set_name__(Person, 'first_name')\n",
    "```\n",
    "\n",
    "Inside, the ``__set_name__`` method, we assign the name argument to the ``property_name`` instance attribute of the descriptor object so that we can access it later in the `` __get__`` and ``__set__`` method:\n",
    "\n",
    "```\n",
    "self.property_name = name\n",
    "```\n",
    "\n",
    "The ``first_name`` and ``last_name`` are the class variables of the ``Person`` class. If we look at the ``Person.__dict__`` class attribute, we’ll see two descriptor objects ``first_name`` and ``last_name``:"
   ]
  },
  {
   "cell_type": "code",
   "execution_count": 13,
   "metadata": {},
   "outputs": [
    {
     "name": "stdout",
     "output_type": "stream",
     "text": [
      "mappingproxy({'__dict__': <attribute '__dict__' of 'Person' objects>,\n",
      "              '__doc__': None,\n",
      "              '__module__': '__main__',\n",
      "              '__weakref__': <attribute '__weakref__' of 'Person' objects>,\n",
      "              'first_name': <__main__.RequiredString object at 0x11637f4d0>,\n",
      "              'last_name': <__main__.RequiredString object at 0x11638a780>})\n"
     ]
    }
   ],
   "source": [
    "from pprint import pprint\n",
    "\n",
    "pprint(Person.__dict__)"
   ]
  },
  {
   "cell_type": "markdown",
   "metadata": {},
   "source": [
    "When we assign the new value to a descriptor, Python calls ``__set__`` method to set the attribute on an instance of the owner class to the new value."
   ]
  },
  {
   "cell_type": "code",
   "execution_count": 14,
   "metadata": {},
   "outputs": [
    {
     "name": "stdout",
     "output_type": "stream",
     "text": [
      "__set__ was called with instance=<__main__.Person object at 0x11638af90> and value=John\n"
     ]
    }
   ],
   "source": [
    "person = Person()\n",
    "person.first_name = 'John'"
   ]
  },
  {
   "cell_type": "markdown",
   "metadata": {},
   "source": [
    "In this example, the instance argument is ``person`` object and the value is the string ``'John'``. Inside the ``__set__`` method, we raise a ``ValueError`` if the new value is not a string or if it is an empty string.\n",
    "\n",
    "Otherwise, we assign the value to the instance attribute ``first_name`` of the ``person`` object:\n",
    "\n",
    "```python\n",
    "instance.__dict__[self.property_name] = value\n",
    "```\n",
    "\n",
    "Note that Python uses instance.__dict__ dictionary to store instance attributes of the instance object.\n",
    "\n",
    "Once we set the ``first_name`` and ``last_name`` of an instance of the ``Person`` object, we’ll see the instance attributes with the same names in the instance’s ``__dict__.`` For example:"
   ]
  },
  {
   "cell_type": "code",
   "execution_count": 15,
   "metadata": {},
   "outputs": [
    {
     "name": "stdout",
     "output_type": "stream",
     "text": [
      "{}\n",
      "__set__ was called with instance=<__main__.Person object at 0x11638ad80> and value=John\n",
      "__set__ was called with instance=<__main__.Person object at 0x11638ad80> and value=Doe\n",
      "{'first_name': 'John', 'last_name': 'Doe'}\n"
     ]
    }
   ],
   "source": [
    "person = Person()\n",
    "print(person.__dict__)  # {}\n",
    "\n",
    "person.first_name = 'John'\n",
    "person.last_name = 'Doe'\n",
    "\n",
    "print(person.__dict__) # {'first_name': 'John', 'last_name': 'Doe'}"
   ]
  },
  {
   "cell_type": "markdown",
   "metadata": {},
   "source": [
    "Python calls the ``__get__`` method of the ``Person‘s`` object when you access the first_name attribute. For example:\n",
    "\n",
    "```python\n",
    "person = Person()\n",
    "\n",
    "person.first_name = 'John'\n",
    "print(person.first_name)\n",
    "```\n",
    "\n",
    "The ``__get__`` method returns the descriptor if the instance is None. For example, if we access the ``first_name`` or ``last_name`` from the Person class, you’ll see the descriptor object:\n",
    "\n",
    "```python\n",
    "print(Person.first_name)\n",
    "```\n",
    "\n",
    "If the ``instance`` is not ``None``, the ``__get__()`` method returns the value of the attribute with the name ``property_name`` of the instance object."
   ]
  }
 ],
 "metadata": {
  "kernelspec": {
   "display_name": "base",
   "language": "python",
   "name": "python3"
  },
  "language_info": {
   "codemirror_mode": {
    "name": "ipython",
    "version": 3
   },
   "file_extension": ".py",
   "mimetype": "text/x-python",
   "name": "python",
   "nbconvert_exporter": "python",
   "pygments_lexer": "ipython3",
   "version": "3.12.4"
  }
 },
 "nbformat": 4,
 "nbformat_minor": 2
}
