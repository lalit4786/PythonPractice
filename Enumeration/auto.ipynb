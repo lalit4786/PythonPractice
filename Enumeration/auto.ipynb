{
 "cells": [
  {
   "cell_type": "markdown",
   "metadata": {},
   "source": [
    "# Introduction to the enum auto() function\n",
    "\n",
    "Enumerations (enums) in Python define a set of named values, often for representing distinct states or options.\n",
    "\n",
    "Values for each enum member can be manually assigned by setting each member to a specific integer (or other data type).\n",
    "\n",
    "In below example, we manually assign integer values to the members of the enumeration."
   ]
  },
  {
   "cell_type": "code",
   "execution_count": 1,
   "metadata": {},
   "outputs": [],
   "source": [
    "from enum import Enum\n",
    "\n",
    "\n",
    "class State(Enum):\n",
    "    PENDING = 1\n",
    "    FULFILLED = 2\n",
    "    REJECTED = 3"
   ]
  },
  {
   "cell_type": "markdown",
   "metadata": {},
   "source": [
    "To make it more convenient, Python 3.6 introduced the ``auto()`` helper class in the enum module, which automatically generates unique values for the enumeration members. For example:"
   ]
  },
  {
   "cell_type": "code",
   "execution_count": 9,
   "metadata": {},
   "outputs": [
    {
     "data": {
      "application/vnd.jupyter.widget-view+json": {
       "model_id": "0a141765998b409d9cd0fd70051e7721",
       "version_major": 2,
       "version_minor": 0
      },
      "text/plain": [
       "HTML(value='<h3>Output:</h3>')"
      ]
     },
     "metadata": {},
     "output_type": "display_data"
    },
    {
     "name": "stdout",
     "output_type": "stream",
     "text": [
      "PENDING(1)\n",
      "FULFILLED(2)\n",
      "REJECTED(3)\n"
     ]
    }
   ],
   "source": [
    "from enum import Enum, auto\n",
    "from ipywidgets import HTML\n",
    "\n",
    "\n",
    "class State(Enum):\n",
    "    PENDING = auto()\n",
    "    FULFILLED = auto()\n",
    "    REJECTED = auto()\n",
    "\n",
    "    def __str__(self):\n",
    "        return f'{self.name}({self.value})'\n",
    "\n",
    "\n",
    "display(HTML(\"<h3>Output:</h3>\"))\n",
    "\n",
    "for member in State:\n",
    "    print(member)  \n"
   ]
  },
  {
   "cell_type": "markdown",
   "metadata": {},
   "source": [
    "### How enum() auto works\n",
    "\n",
    "\n",
    "Technically, the ``auto()`` calls the ``_generate_next_value_()`` method to generate values for the members. \n",
    "\n",
    "Here’s the syntax of the ``_generate_next_value_()`` method:\n",
    "\n",
    "```python\n",
    "_generate_next_value_(name, start, count, last_values)\n",
    "```\n",
    "\n",
    "The ``_generate_next_value_()`` has the following parameters:\n",
    "\n",
    "-   **``name``** is the member’s name\n",
    "-   **``start``** is the starting value of the enum members.\n",
    "-   **``count``** is the number of enum members, including aliases, that have been created.\n",
    "-   **``last_values``** is a list of all preceding values used for the enum members.\n",
    "\n",
    "By default, the ``_generate_next_value_()`` generates the next number in a sequence of integers starting from one.\n",
    "\n",
    "It’s possible to override the ``_generate_next_value_()`` method to add a custom logic that generates unique values. \n",
    "\n",
    "If so, we need to place the ``_generate_next_value_()`` method before defining all the members.\n",
    "\n",
    "The following shows how to override the ``_generate_next_value_()`` method to generate values for members by using their names:"
   ]
  },
  {
   "cell_type": "code",
   "execution_count": 11,
   "metadata": {},
   "outputs": [
    {
     "data": {
      "application/vnd.jupyter.widget-view+json": {
       "model_id": "a200ad83ee8042208f714bab2ccd815e",
       "version_major": 2,
       "version_minor": 0
      },
      "text/plain": [
       "HTML(value='<h3>Output:</h3>')"
      ]
     },
     "metadata": {},
     "output_type": "display_data"
    },
    {
     "name": "stdout",
     "output_type": "stream",
     "text": [
      "PENDING(pending)\n",
      "FULFILLED(fulfilled)\n",
      "REJECTED(rejected)\n"
     ]
    }
   ],
   "source": [
    "from enum import Enum,auto\n",
    "\n",
    "class State(Enum):\n",
    "    def _generate_next_value_(name,start,count,last_values):\n",
    "        return name.lower()\n",
    "    \n",
    "    PENDING = auto()\n",
    "    FULFILLED = auto()\n",
    "    REJECTED = auto()\n",
    "    \n",
    "display(HTML(\"<h3>Output:</h3>\"))\n",
    "\n",
    "for state in State:\n",
    "    print(f'{state.name}({state.value})')    "
   ]
  }
 ],
 "metadata": {
  "kernelspec": {
   "display_name": "base",
   "language": "python",
   "name": "python3"
  },
  "language_info": {
   "codemirror_mode": {
    "name": "ipython",
    "version": 3
   },
   "file_extension": ".py",
   "mimetype": "text/x-python",
   "name": "python",
   "nbconvert_exporter": "python",
   "pygments_lexer": "ipython3",
   "version": "3.12.4"
  }
 },
 "nbformat": 4,
 "nbformat_minor": 2
}
