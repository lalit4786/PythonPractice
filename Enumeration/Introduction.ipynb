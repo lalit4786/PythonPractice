{
 "cells": [
  {
   "cell_type": "markdown",
   "metadata": {},
   "source": [
    "# Introduction to Python Enumeration\n",
    "\n",
    "An enumeration is a set of members that have associated unique constant values. Enumeration is often called enum.\n",
    "\n",
    "Python provides ``enum`` module that contains the ``Enum`` type for defining new enumerations.\n",
    "\n",
    "To define a new enumeration type by subclassing the ``Enum`` class.\n",
    "\n",
    "```python\n",
    "from enum import Enum\n",
    "\n",
    "\n",
    "class Color(Enum):\n",
    "    RED = 1\n",
    "    GREEN = 2\n",
    "    BLUE = 3\n",
    "```\n",
    "\n",
    "In this example, the ``Color`` is an **enumeration**. \n",
    "\n",
    "The ``RED``, ``GREEN``, and ``BLUE`` are members of the ``Color`` enumeration. They have associated values 1, 2, and 3.\n",
    "\n",
    "The type of a ``member`` is the enumeration to which it belongs.\n",
    "\n",
    "Members of Enumeration are also instance of Enumeration. Here ``RED`` is also instance of ``Color`` Enumeration.\n",
    "\n",
    "The following illustrates that the type of ``Color.RED`` is the Color enumeration:"
   ]
  },
  {
   "cell_type": "code",
   "execution_count": 3,
   "metadata": {},
   "outputs": [
    {
     "ename": "NameError",
     "evalue": "name 'Enum' is not defined",
     "output_type": "error",
     "traceback": [
      "\u001b[0;31m---------------------------------------------------------------------------\u001b[0m",
      "\u001b[0;31mNameError\u001b[0m                                 Traceback (most recent call last)",
      "Cell \u001b[0;32mIn[3], line 1\u001b[0m\n\u001b[0;32m----> 1\u001b[0m \u001b[38;5;28;01mclass\u001b[39;00m \u001b[38;5;21;01mColor\u001b[39;00m(Enum):\n\u001b[1;32m      2\u001b[0m     RED \u001b[38;5;241m=\u001b[39m \u001b[38;5;241m1\u001b[39m\n\u001b[1;32m      3\u001b[0m     GREEN \u001b[38;5;241m=\u001b[39m \u001b[38;5;241m2\u001b[39m\n",
      "\u001b[0;31mNameError\u001b[0m: name 'Enum' is not defined"
     ]
    }
   ],
   "source": [
    "\n",
    "\n",
    "class Color(Enum):\n",
    "    RED = 1\n",
    "    GREEN = 2\n",
    "    BLUE = 3\n",
    "\n",
    "display(HTML(\"<h3>Output:</h3>\"))    \n",
    "print(f'Type of Color.RED is {type(Color.RED)}')\n",
    "print(f'Is RED is instnace of Color :{isinstance(Color.RED,Color)}')\n",
    "    "
   ]
  },
  {
   "cell_type": "markdown",
   "metadata": {},
   "source": [
    "All Member of Enumeration has ``name`` and ``value`` attribute.\n",
    "Following example illustrate how to print ``name`` and ``value`` attribute of ``RED``:"
   ]
  },
  {
   "cell_type": "code",
   "execution_count": 31,
   "metadata": {},
   "outputs": [
    {
     "data": {
      "text/html": [
       "<h3>Output:</h3>"
      ],
      "text/plain": [
       "<IPython.core.display.HTML object>"
      ]
     },
     "metadata": {},
     "output_type": "display_data"
    },
    {
     "name": "stdout",
     "output_type": "stream",
     "text": [
      "Name is RED and Value is 1\n"
     ]
    }
   ],
   "source": [
    "display(HTML(\"<h3>Output:</h3>\"))    \n",
    "print(f'Name is {Color.RED.name} and Value is {Color.RED.value}')"
   ]
  },
  {
   "cell_type": "markdown",
   "metadata": {},
   "source": [
    "To check if a member is in an enumeration, we use the ``in`` operator. For example:"
   ]
  },
  {
   "cell_type": "code",
   "execution_count": 32,
   "metadata": {},
   "outputs": [
    {
     "data": {
      "text/html": [
       "<h3>Output:</h3>"
      ],
      "text/plain": [
       "<IPython.core.display.HTML object>"
      ]
     },
     "metadata": {},
     "output_type": "display_data"
    },
    {
     "name": "stdout",
     "output_type": "stream",
     "text": [
      "Is RED exist in Enumeration : True\n"
     ]
    }
   ],
   "source": [
    "display(HTML(\"<h3>Output:</h3>\"))   \n",
    "print(f'Is RED exist in Enumeration : {Color.RED in Color}')"
   ]
  },
  {
   "cell_type": "markdown",
   "metadata": {},
   "source": [
    "To compare two members, we can use either is or ``==`` operator. For example:"
   ]
  },
  {
   "cell_type": "code",
   "execution_count": 36,
   "metadata": {},
   "outputs": [
    {
     "data": {
      "text/html": [
       "<h3>Output:</h3>"
      ],
      "text/plain": [
       "<IPython.core.display.HTML object>"
      ]
     },
     "metadata": {},
     "output_type": "display_data"
    },
    {
     "name": "stdout",
     "output_type": "stream",
     "text": [
      "Red is not Green\n",
      "Red is not equal 1\n",
      "Red Value is 1\n"
     ]
    }
   ],
   "source": [
    "display(HTML(\"<h3>Output:</h3>\"))  \n",
    "\n",
    "if Color.RED == Color.GREEN:\n",
    "    print(f'Red is Green')\n",
    "else:\n",
    "    print(f'Red is not Green')\n",
    "    \n",
    "# Note that a member and its associated value are not equal\n",
    "if Color.RED == 1:\n",
    "    print(f'Red == 1')\n",
    "else:\n",
    "    print(f'Red is not equal 1')   \n",
    "    \n",
    "    \n",
    "if Color.RED.value == 1:\n",
    "    print(f'Red Value is 1')\n",
    "                "
   ]
  },
  {
   "cell_type": "markdown",
   "metadata": {},
   "source": [
    "### Enumeration members are hashable\n",
    "\n",
    "Enumeration members are always **hashable**. \n",
    "\n",
    "It means that we can use the enumeration members as keys in a ``dictionary`` or as elements of a ``Set``.\n",
    "\n",
    "The following example uses the members of the ``Color`` enumeration in a dictionary:"
   ]
  },
  {
   "cell_type": "code",
   "execution_count": 38,
   "metadata": {},
   "outputs": [
    {
     "data": {
      "text/html": [
       "<h3>Output:</h3>"
      ],
      "text/plain": [
       "<IPython.core.display.HTML object>"
      ]
     },
     "metadata": {},
     "output_type": "display_data"
    },
    {
     "name": "stdout",
     "output_type": "stream",
     "text": [
      "HexCode of Blue color is #0000ff\n"
     ]
    }
   ],
   "source": [
    "rgb = {\n",
    "     Color.RED: '#ff0000',\n",
    "    Color.GREEN: '#00ff00',\n",
    "    Color.BLUE: '#0000ff'\n",
    "}\n",
    "\n",
    "display(HTML(\"<h3>Output:</h3>\"))  \n",
    "print(f'HexCode of Blue color is {rgb[Color.BLUE]}')"
   ]
  },
  {
   "cell_type": "markdown",
   "metadata": {},
   "source": [
    "The typical way to access an enumeration member is to use the dot notation (.), Enum also implements the ``__getitem__`` method, we can also use a square brackets [] syntax to get a member by its name like this:\n",
    "\n",
    "```python\n",
    "print(Color[RED]) # Color.RED\n",
    "```\n",
    "\n",
    "Since an enumeration is ``callable``, we can get a member by its value. For example, the following return the RED member of the Color enumeration by its value:\n",
    "\n",
    "```python\n",
    "print(Color(1)) #Color.RED\n",
    "\n",
    "#The following expression returns True because it accesses the same enumeration member using name and value:\n",
    "print(Color[RED] == Color(1)) # True\n",
    "```"
   ]
  },
  {
   "cell_type": "markdown",
   "metadata": {},
   "source": [
    "### Iterate enumeration members\n",
    "\n",
    "Enumerations are iterables so we can iterate them using a for loop. For example:"
   ]
  },
  {
   "cell_type": "code",
   "execution_count": 41,
   "metadata": {},
   "outputs": [
    {
     "data": {
      "text/html": [
       "<h3>Output:</h3>"
      ],
      "text/plain": [
       "<IPython.core.display.HTML object>"
      ]
     },
     "metadata": {},
     "output_type": "display_data"
    },
    {
     "name": "stdout",
     "output_type": "stream",
     "text": [
      "Color.RED\n",
      "Color.GREEN\n",
      "Color.BLUE\n"
     ]
    }
   ],
   "source": [
    "# Notice that the order of the members is the same as in the enumeration definition.\n",
    "display(HTML(\"<h3>Output:</h3>\"))\n",
    "for color in Color:\n",
    "    print(color)"
   ]
  },
  {
   "cell_type": "markdown",
   "metadata": {},
   "source": [
    "To get the list of members from an enumeration, we use ``list()`` function:\n",
    "\n",
    "```python\n",
    "print(list(Color))\n",
    "\n",
    "Output:\n",
    "[<Color.RED: 1>, <Color.GREEN: 2>, <Color.BLUE: 3>]\n",
    "```"
   ]
  },
  {
   "cell_type": "markdown",
   "metadata": {},
   "source": [
    "### Enumerations are immutable\n",
    "\n",
    "Enumerations are **immutable**. \n",
    "\n",
    "-   We cannot add or remove members once an enumeration is defined. \n",
    "-   We cannot change the member values.\n",
    "\n",
    "Following example illustrate Enumeratiion causes **Value Error** if we try to add / remove member.\n",
    "Also, it shows that Enumeration causes **Attribute Error** if we try to change the value of Enumeration's member."
   ]
  },
  {
   "cell_type": "code",
   "execution_count": 43,
   "metadata": {},
   "outputs": [
    {
     "ename": "TypeError",
     "evalue": "'EnumType' object does not support item assignment",
     "output_type": "error",
     "traceback": [
      "\u001b[0;31m---------------------------------------------------------------------------\u001b[0m",
      "\u001b[0;31mTypeError\u001b[0m                                 Traceback (most recent call last)",
      "Cell \u001b[0;32mIn[43], line 1\u001b[0m\n\u001b[0;32m----> 1\u001b[0m Color[\u001b[38;5;124m'\u001b[39m\u001b[38;5;124mYELLOW\u001b[39m\u001b[38;5;124m'\u001b[39m] \u001b[38;5;241m=\u001b[39m \u001b[38;5;241m4\u001b[39m\n",
      "\u001b[0;31mTypeError\u001b[0m: 'EnumType' object does not support item assignment"
     ]
    }
   ],
   "source": [
    "Color['YELLOW'] = 4\n"
   ]
  },
  {
   "cell_type": "code",
   "execution_count": 44,
   "metadata": {},
   "outputs": [
    {
     "ename": "AttributeError",
     "evalue": "<enum 'Enum'> cannot set attribute 'value'",
     "output_type": "error",
     "traceback": [
      "\u001b[0;31m---------------------------------------------------------------------------\u001b[0m",
      "\u001b[0;31mAttributeError\u001b[0m                            Traceback (most recent call last)",
      "Cell \u001b[0;32mIn[44], line 1\u001b[0m\n\u001b[0;32m----> 1\u001b[0m Color\u001b[38;5;241m.\u001b[39mRED\u001b[38;5;241m.\u001b[39mvalue \u001b[38;5;241m=\u001b[39m \u001b[38;5;241m100\u001b[39m\n",
      "File \u001b[0;32m/opt/anaconda3/lib/python3.12/enum.py:230\u001b[0m, in \u001b[0;36mproperty.__set__\u001b[0;34m(self, instance, value)\u001b[0m\n\u001b[1;32m    228\u001b[0m \u001b[38;5;28;01mif\u001b[39;00m \u001b[38;5;28mself\u001b[39m\u001b[38;5;241m.\u001b[39mfset \u001b[38;5;129;01mis\u001b[39;00m \u001b[38;5;129;01mnot\u001b[39;00m \u001b[38;5;28;01mNone\u001b[39;00m:\n\u001b[1;32m    229\u001b[0m     \u001b[38;5;28;01mreturn\u001b[39;00m \u001b[38;5;28mself\u001b[39m\u001b[38;5;241m.\u001b[39mfset(instance, value)\n\u001b[0;32m--> 230\u001b[0m \u001b[38;5;28;01mraise\u001b[39;00m \u001b[38;5;167;01mAttributeError\u001b[39;00m(\n\u001b[1;32m    231\u001b[0m         \u001b[38;5;124m\"\u001b[39m\u001b[38;5;124m<enum \u001b[39m\u001b[38;5;132;01m%r\u001b[39;00m\u001b[38;5;124m> cannot set attribute \u001b[39m\u001b[38;5;132;01m%r\u001b[39;00m\u001b[38;5;124m\"\u001b[39m \u001b[38;5;241m%\u001b[39m (\u001b[38;5;28mself\u001b[39m\u001b[38;5;241m.\u001b[39mclsname, \u001b[38;5;28mself\u001b[39m\u001b[38;5;241m.\u001b[39mname)\n\u001b[1;32m    232\u001b[0m         )\n",
      "\u001b[0;31mAttributeError\u001b[0m: <enum 'Enum'> cannot set attribute 'value'"
     ]
    }
   ],
   "source": [
    "Color.RED.value = 100"
   ]
  },
  {
   "cell_type": "markdown",
   "metadata": {},
   "source": [
    "### Inherits from an enumeration\n",
    "\n",
    "An enumeration cannot be inherited unless it contains no members. \n",
    "\n",
    "The following example works fine because the ``Color`` enumeration contains no members:\n",
    "\n",
    "```python\n",
    "class Color(Enum):\n",
    "    pass\n",
    "\n",
    "\n",
    "class RGB(Color):\n",
    "    RED = 1\n",
    "    GREEN = 2\n",
    "    BLUE = 3\n",
    "\n",
    "```\n",
    "\n",
    "However, the following example won’t work because the RGB enumeration has members and cause ``TypeError: Cannot extend enumerations``\n",
    "\n",
    "```python\n",
    "class RGBA(RGB):\n",
    "    ALPHA = 4\n",
    "```    "
   ]
  },
  {
   "cell_type": "markdown",
   "metadata": {},
   "source": [
    "### Python enumeration example\n",
    "\n",
    "Given a JSON response from an HTTP request in the form:\n",
    "\n",
    "```json\n",
    "response = '''{\n",
    "    \"status\":\"fulfilled\"\n",
    "}''\n",
    "```\n",
    "write a program that parses this response to extract the \"status\" value and uses it to look up the corresponding value in a predefined ResponseStatus enumeration. The goal is to match the extracted status string with the appropriate enumeration constant.\n",
    "\n",
    "**Predefined ResponseStatus Enumeration Class**\n",
    "\n",
    "```python\n",
    "class ResponseStatus(Enum):\n",
    "    PENDING = 'pending'\n",
    "    FULFILLED = 'fulfilled'\n",
    "    REJECTED = 'rejected'\n",
    "```"
   ]
  },
  {
   "cell_type": "code",
   "execution_count": 2,
   "metadata": {},
   "outputs": [
    {
     "name": "stdout",
     "output_type": "stream",
     "text": [
      "Value of data[status] is fulfilled\n",
      "The Request is completed\n"
     ]
    }
   ],
   "source": [
    "from enum import Enum\n",
    "import json\n",
    "\n",
    "class ResposneStatus(Enum):\n",
    "    PENDING = 'pending'\n",
    "    FULLFILLED = 'fulfilled'\n",
    "    REJECTED = 'rejected'\n",
    "\n",
    "response = '''{\n",
    "    \"status\":\"fulfilled\"\n",
    "}'''\n",
    "\n",
    "# Convert Response string to dictionary\n",
    "data = json.loads(response)\n",
    "\n",
    "print(f'Value of data[status] is {data['status']}')\n",
    "\n",
    "try:\n",
    "    if ResposneStatus(data['status']) is ResposneStatus.FULLFILLED:\n",
    "        print(f'The Request is completed')\n",
    "except ValueError as error:\n",
    "    print(f'error')        "
   ]
  }
 ],
 "metadata": {
  "kernelspec": {
   "display_name": "base",
   "language": "python",
   "name": "python3"
  },
  "language_info": {
   "codemirror_mode": {
    "name": "ipython",
    "version": 3
   },
   "file_extension": ".py",
   "mimetype": "text/x-python",
   "name": "python",
   "nbconvert_exporter": "python",
   "pygments_lexer": "ipython3",
   "version": "3.12.4"
  }
 },
 "nbformat": 4,
 "nbformat_minor": 2
}
