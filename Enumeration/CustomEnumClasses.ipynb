{
 "cells": [
  {
   "cell_type": "markdown",
   "metadata": {},
   "source": [
    "# Customize and Extend Python Enum Class\n",
    "\n",
    "Python enumerations are classes. It means that we can add methods to them, or implement the dunder methods to customize their behaviors.\n",
    "\n",
    "### Implementing ``__str__`` method\n",
    "\n",
    "The following example defines the PaymentStatus enumeration class:\n",
    "\n",
    "```python\n",
    "from enum import Enum\n",
    "\n",
    "\n",
    "class PaymentStatus(Enum):\n",
    "    PENDING = 1\n",
    "    COMPLETED = 2\n",
    "    REFUNDED = 3\n",
    "```\n",
    "\n",
    "The ``PaymentStatus`` enumeration has three members: ``PENDING``, ``COMPLETED``, and ``REFUND``.\n",
    "\n",
    "The following displays the member of the ``PaymentStatus``‘ member:\n",
    "\n",
    "```python\n",
    "print(PaymentStatus.PENDING) \n",
    "```\n",
    "\n",
    "It shows the following:\n",
    "\n",
    "```python\n",
    "PaymentStatus.PENDING\n",
    "```\n",
    "\n",
    "To customize how the PaymentStatus member’s is represented in the string, yweou can implement the ``__str__`` method. For example :-"
   ]
  },
  {
   "cell_type": "code",
   "execution_count": 5,
   "metadata": {},
   "outputs": [
    {
     "data": {
      "application/vnd.jupyter.widget-view+json": {
       "model_id": "af80dc342bda487180693ba37c60ecc1",
       "version_major": 2,
       "version_minor": 0
      },
      "text/plain": [
       "HTML(value='<h3>Output:</h3>')"
      ]
     },
     "metadata": {},
     "output_type": "display_data"
    },
    {
     "name": "stdout",
     "output_type": "stream",
     "text": [
      "COMPLETED(2)\n"
     ]
    }
   ],
   "source": [
    "from enum import Enum\n",
    "from ipywidgets import HTML\n",
    "\n",
    "class PaymentStatus(Enum):\n",
    "    PENDING = 1\n",
    "    COMPLETED = 2\n",
    "    REFUNDED = 3\n",
    "    \n",
    "    def __str__(self):\n",
    "        return f'{self.name}({self.value})'\n",
    "\n",
    "display(HTML(\"<h3>Output:</h3>\"))        \n",
    "print(PaymentStatus.COMPLETED)        "
   ]
  },
  {
   "cell_type": "markdown",
   "metadata": {},
   "source": [
    "### Implementing ``__eq__`` method\n",
    "\n",
    "Executing below statement will show nothing.\n",
    "\n",
    "```python\n",
    "if PaymentStatus.PENDING == 1:\n",
    "    print(f'The payment is pending')\n",
    "```\n",
    "\n",
    "This happen because ``PaymentStatus.PENDING`` is not equal to 1.\n",
    "\n",
    "To allow the comparison between  members of Enumeration Class and integer, we need to implement ``__eq__`` dunder method as below :-\n",
    "\n",
    "```python\n",
    "def __eq__(self,other):\n",
    "    if isinstance(other,int):\n",
    "        return self.value == other\n",
    "\n",
    "    if isinstance(other,PaymentStatus):\n",
    "        return self is other\n",
    "\n",
    "    return False  \n",
    "\n",
    "\n",
    "if PaymentStatus.PENDING == 1:\n",
    "    print('The payment is pending.') # The payment is pending.\n",
    "```\n",
    "\n",
    "In the __eq__ method:\n",
    "\n",
    "-   If the value to compare is an integer, it compares the value of the member with the integer.\n",
    "-   If the value to compare is an instance of the ``PaymentStatus`` enumeration, it compares the value with the member of the ``PaymentStatus member`` using the is operator.\n",
    "-   Otherwise, it returns False.\n",
    "\n",
    "<br>\n",
    "\n",
    "**Below is the complete code:**"
   ]
  },
  {
   "cell_type": "code",
   "execution_count": 8,
   "metadata": {},
   "outputs": [
    {
     "data": {
      "application/vnd.jupyter.widget-view+json": {
       "model_id": "5dee96eb9da74550a237badac11d4ea8",
       "version_major": 2,
       "version_minor": 0
      },
      "text/plain": [
       "HTML(value='<h3>Output:<h3>')"
      ]
     },
     "metadata": {},
     "output_type": "display_data"
    },
    {
     "name": "stdout",
     "output_type": "stream",
     "text": [
      "The payment is pending\n",
      "PENDING(1)\n"
     ]
    }
   ],
   "source": [
    "from enum import Enum\n",
    "from ipywidgets import HTML\n",
    "\n",
    "class PaymentStatus(Enum):\n",
    "    PENDING = 1\n",
    "    COMPLETED = 2\n",
    "    REFUNDED = 3\n",
    "    \n",
    "    def __str__(self):\n",
    "        return f'{self.name}({self.value})'\n",
    "    \n",
    "    \n",
    "    def __eq__(self,other):\n",
    "        if isinstance(other,int):\n",
    "            return self.value == other\n",
    "        if isinstance(other,PaymentStatus):\n",
    "            return self is other\n",
    "        return False\n",
    "\n",
    "display(HTML(\"<h3>Output:<h3>\"))\n",
    "\n",
    "if PaymentStatus.PENDING == 1:\n",
    "    print(f'The payment is pending')\n",
    "if PaymentStatus.REFUNDED == PaymentStatus.PENDING:\n",
    "    print(f'Pending is equal to Refunded')\n",
    "else:\n",
    "    print(PaymentStatus.PENDING)                "
   ]
  },
  {
   "cell_type": "markdown",
   "metadata": {},
   "source": [
    "### Implementing ``__lt__`` method\n",
    "\n",
    "The  ``__lt__``  method in Python is a special, or “magic,” method used to define the behavior of the “less than” (<) operator for instances of a class.\n",
    "\n",
    "**Syntax of ``__lt__``:**\n",
    "\n",
    "The ``__lt__`` method has the following syntax:\n",
    "\n",
    "```python\n",
    "\n",
    "def __lt__(self, other):\n",
    "    # comparison logic here\n",
    "    return True or False\n",
    "```\n",
    "\n",
    "**Returns:**\n",
    "\n",
    "The method should return ``True`` if self is considered “less than” other, and ``False`` otherwise.\n",
    "\n",
    "Suppose that we want to compare members of the ``PaymentStatus`` with an integer. To do that, we can implement the ``__lt__`` method as below:\n"
   ]
  },
  {
   "cell_type": "code",
   "execution_count": 14,
   "metadata": {},
   "outputs": [
    {
     "data": {
      "application/vnd.jupyter.widget-view+json": {
       "model_id": "4c42d0ae29454426a708fb330c0a85f7",
       "version_major": 2,
       "version_minor": 0
      },
      "text/plain": [
       "HTML(value='<h3>Output:<h3>')"
      ]
     },
     "metadata": {},
     "output_type": "display_data"
    },
    {
     "name": "stdout",
     "output_type": "stream",
     "text": [
      "The payment has not completed\n",
      "The payment is still pending\n"
     ]
    }
   ],
   "source": [
    "from enum import Enum\n",
    "from ipywidgets import HTML\n",
    "\n",
    "class PaymentStatus(Enum):\n",
    "     PENDING = 1\n",
    "     COMPLETED = 2\n",
    "     REFUNDED = 3\n",
    "    \n",
    "     def __str__(self):\n",
    "        return f'{self.name}({self.value})'\n",
    "    \n",
    "    \n",
    "     def __eq__(self,other):\n",
    "        if isinstance(other,int):\n",
    "            return self.value == other\n",
    "        if isinstance(other,PaymentStatus):\n",
    "            return self is other\n",
    "        return False\n",
    "    \n",
    "     def __lt__(self,other):\n",
    "        if isinstance(other,int):\n",
    "            return self.value < other\n",
    "        if isinstance(other,PaymentStatus):\n",
    "            return self.value < other.value\n",
    "\n",
    "display(HTML(\"<h3>Output:<h3>\"))\n",
    "\n",
    "# compare with an integer\n",
    "\n",
    "if PaymentStatus.PENDING < 2:\n",
    "    print('The payment has not completed')\n",
    "\n",
    "# compare with another member\n",
    "if PaymentStatus.PENDING < PaymentStatus.COMPLETED:\n",
    "    print('The payment is still pending')\n"
   ]
  },
  {
   "cell_type": "markdown",
   "metadata": {},
   "source": [
    "### @total_ordering\n",
    "\n",
    "Python supports other comparison magic methods as well, such as ``__le__`` (≤), ``__eq__`` (==), ``__ne__`` (!=), ``__gt__`` (>), and ``__ge__`` (≥), allowing us to fully control how objects compare to each other.\n",
    "\n",
    "``@total_ordering`` is a decorator in Python’s functools module that simplifies the process of defining all rich comparison methods for a class. \n",
    "\n",
    "By implementing only a few core comparison methods (typically __eq__ and one of __lt__, __le__, __gt__, or __ge__), the @total_ordering decorator automatically fills in the other comparison methods.\n",
    "\n",
    "For example, if we define ``__eq__`` and ``__lt__``, ``@total_ordering`` can automatically create ``__le__``, ``__gt__``, and ``__ge__``.\n",
    "\n",
    "If we tag above ``PaymentStatus`` enum class with ``@total_ordering``, we can able to perform ``>=``,``<=``,`>` operations.\n",
    "\n",
    "Here’s an example of using ``@total_ordering`` with a class that only defines ``__eq__`` and ``__lt__``:"
   ]
  },
  {
   "cell_type": "code",
   "execution_count": 15,
   "metadata": {},
   "outputs": [
    {
     "data": {
      "application/vnd.jupyter.widget-view+json": {
       "model_id": "55e73231fd82494588a935524b5b98f8",
       "version_major": 2,
       "version_minor": 0
      },
      "text/plain": [
       "HTML(value='<h3>Output:<h3>')"
      ]
     },
     "metadata": {},
     "output_type": "display_data"
    },
    {
     "name": "stdout",
     "output_type": "stream",
     "text": [
      "The payment has not completed\n",
      "The payment is still pending\n",
      "The payment status yet to be complete\n",
      "Payment Status is completed now\n"
     ]
    }
   ],
   "source": [
    "from enum import Enum\n",
    "from ipywidgets import HTML\n",
    "from functools import total_ordering\n",
    "\n",
    "@total_ordering\n",
    "class PaymentStatus(Enum):\n",
    "     PENDING = 1\n",
    "     COMPLETED = 2\n",
    "     REFUNDED = 3\n",
    "    \n",
    "     def __str__(self):\n",
    "        return f'{self.name}({self.value})'\n",
    "    \n",
    "    \n",
    "     def __eq__(self,other):\n",
    "        if isinstance(other,int):\n",
    "            return self.value == other\n",
    "        if isinstance(other,PaymentStatus):\n",
    "            return self is other\n",
    "        return False\n",
    "    \n",
    "     def __lt__(self,other):\n",
    "        if isinstance(other,int):\n",
    "            return self.value < other\n",
    "        if isinstance(other,PaymentStatus):\n",
    "            return self.value < other.value\n",
    "\n",
    "display(HTML(\"<h3>Output:<h3>\"))\n",
    "\n",
    "# compare with an integer\n",
    "\n",
    "if PaymentStatus.PENDING < 2:\n",
    "    print('The payment has not completed')\n",
    "\n",
    "# compare with another member\n",
    "if PaymentStatus.PENDING < PaymentStatus.COMPLETED:\n",
    "    print('The payment is still pending')\n",
    "    \n",
    "if PaymentStatus.PENDING >=1:\n",
    "    print(f'The payment status yet to be complete') \n",
    "\n",
    "if PaymentStatus.COMPLETED > PaymentStatus.PENDING:\n",
    "    print(f'Payment Status is completed now')        \n"
   ]
  },
  {
   "cell_type": "markdown",
   "metadata": {},
   "source": [
    "# Sorting Enums\n",
    "\n",
    "The issue is that ``Enum`` members in Python don’t support ordering comparisons (<, >, etc.) by default. \n",
    "\n",
    "To enable sorting for ``Enum`` members, we need to explicitly define how they should be compared, either by using ``IntEnum`` if values are integers, or by defining custom comparison methods.\n",
    "\n",
    "**Solution 1: Use IntEnum Instead of Enum**\n",
    "\n",
    "If the Enum values are integers (as in your example), we can use IntEnum from the enum module. IntEnum members are comparable and sortable by their integer values without needing additional code."
   ]
  },
  {
   "cell_type": "code",
   "execution_count": 23,
   "metadata": {},
   "outputs": [
    {
     "data": {
      "application/vnd.jupyter.widget-view+json": {
       "model_id": "6efb6a9ab4b74a178f09de39aeb9d387",
       "version_major": 2,
       "version_minor": 0
      },
      "text/plain": [
       "HTML(value='<h3>Output:</h3>')"
      ]
     },
     "metadata": {},
     "output_type": "display_data"
    },
    {
     "name": "stdout",
     "output_type": "stream",
     "text": [
      "[<Priority.MEDIUM: 2>, <Priority.HIGH: 3>, <Priority.LOW: 4>]\n"
     ]
    }
   ],
   "source": [
    "from enum import IntEnum\n",
    "from ipywidgets import HTML\n",
    "\n",
    "class Priority(IntEnum):\n",
    "    LOW = 4\n",
    "    MEDIUM = 2\n",
    "    HIGH = 3\n",
    "\n",
    "# Sorting works as expected\n",
    "priorities = [Priority.HIGH, Priority.LOW, Priority.MEDIUM]\n",
    "sorted_priorities = sorted(priorities)\n",
    "\n",
    "\n",
    "display(HTML(\"<h3>Output:</h3>\"))\n",
    "print(sorted_priorities)  # Output: [<Priority.LOW: 1>, <Priority.MEDIUM: 2>, <Priority.HIGH: 3>]"
   ]
  },
  {
   "cell_type": "markdown",
   "metadata": {},
   "source": [
    "**Define Comparison Methods**\n",
    "\n",
    "If we need to use ``Enum`` (not IntEnum), we can define custom comparison methods to support sorting. \n",
    "\n",
    "Here’s how to use ``@total_ordering`` with Enum:"
   ]
  },
  {
   "cell_type": "code",
   "execution_count": 25,
   "metadata": {},
   "outputs": [
    {
     "data": {
      "application/vnd.jupyter.widget-view+json": {
       "model_id": "adf059e9e0704fd0865531ba7eae811b",
       "version_major": 2,
       "version_minor": 0
      },
      "text/plain": [
       "HTML(value='<h3>Output:</h3>')"
      ]
     },
     "metadata": {},
     "output_type": "display_data"
    },
    {
     "name": "stdout",
     "output_type": "stream",
     "text": [
      "[<Priority.LOW: 1>, <Priority.MEDIUM: 2>, <Priority.HIGH: 3>]\n"
     ]
    }
   ],
   "source": [
    "from enum import Enum\n",
    "from functools import total_ordering\n",
    "from ipywidgets import HTML\n",
    "\n",
    "@total_ordering\n",
    "class Priority(Enum):\n",
    "    LOW = 1\n",
    "    MEDIUM = 2\n",
    "    HIGH = 3\n",
    "\n",
    "    def __eq__(self, other):\n",
    "        if isinstance(other, Priority):\n",
    "            return self.value == other.value\n",
    "        return NotImplemented\n",
    "\n",
    "    def __lt__(self, other):\n",
    "        if isinstance(other, Priority):\n",
    "            return self.value < other.value\n",
    "        return NotImplemented\n",
    "\n",
    "# Sorting works as expected\n",
    "priorities = [Priority.HIGH, Priority.LOW, Priority.MEDIUM]\n",
    "sorted_priorities = sorted(priorities)\n",
    "\n",
    "display(HTML(\"<h3>Output:</h3>\"))\n",
    "print(sorted_priorities)  # Output: [<Priority.LOW: 1>, <Priority.MEDIUM: 2>, <Priority.HIGH: 3>]"
   ]
  },
  {
   "cell_type": "markdown",
   "metadata": {},
   "source": [
    "### Implementing the __bool__ method\n",
    "\n",
    "By default, all members of an enumeration are truthy. For example:"
   ]
  },
  {
   "cell_type": "code",
   "execution_count": 27,
   "metadata": {},
   "outputs": [
    {
     "data": {
      "application/vnd.jupyter.widget-view+json": {
       "model_id": "074d5b81985640f4bab5ae1760c4d695",
       "version_major": 2,
       "version_minor": 0
      },
      "text/plain": [
       "HTML(value='<h3>Output:</h3>')"
      ]
     },
     "metadata": {},
     "output_type": "display_data"
    },
    {
     "name": "stdout",
     "output_type": "stream",
     "text": [
      "PENDING(1) True\n",
      "COMPLETED(2) True\n",
      "REFUNDED(3) True\n"
     ]
    }
   ],
   "source": [
    "\n",
    "display(HTML(\"<h3>Output:</h3>\"))\n",
    "\n",
    "for member in PaymentStatus:\n",
    "    print(member, bool(member))"
   ]
  },
  {
   "cell_type": "markdown",
   "metadata": {},
   "source": [
    "Suppose you want the COMPLETED and REFUNDED members to be True while the PENDING to be False.\n",
    "\n",
    "To customize this behavior, we can implement the ``__bool__`` method.\n",
    "The following shows how to implement this logic:"
   ]
  },
  {
   "cell_type": "code",
   "execution_count": 29,
   "metadata": {},
   "outputs": [
    {
     "data": {
      "application/vnd.jupyter.widget-view+json": {
       "model_id": "6e85bdeb010b4d7c98cadb4c5b1a470b",
       "version_major": 2,
       "version_minor": 0
      },
      "text/plain": [
       "HTML(value='<h3>Output:<h3>')"
      ]
     },
     "metadata": {},
     "output_type": "display_data"
    },
    {
     "name": "stdout",
     "output_type": "stream",
     "text": [
      "The payment has not completed\n",
      "The payment is still pending\n",
      "The payment status yet to be complete\n",
      "Payment Status is completed now\n",
      "PENDING->False\n",
      "COMPLETED->True\n",
      "REFUNDED->True\n"
     ]
    }
   ],
   "source": [
    "from enum import Enum\n",
    "from ipywidgets import HTML\n",
    "from functools import total_ordering\n",
    "\n",
    "@total_ordering\n",
    "class PaymentStatus(Enum):\n",
    "     PENDING = 1\n",
    "     COMPLETED = 2\n",
    "     REFUNDED = 3\n",
    "    \n",
    "     def __str__(self):\n",
    "        return f'{self.name}({self.value})'\n",
    "    \n",
    "     def __bool__(self):\n",
    "         if self is PaymentStatus.COMPLETED:\n",
    "             return True\n",
    "         elif self is PaymentStatus.REFUNDED:\n",
    "             return True\n",
    "         else:\n",
    "             return False\n",
    "    \n",
    "\n",
    "     def __eq__(self,other):\n",
    "        if isinstance(other,int):\n",
    "            return self.value == other\n",
    "        if isinstance(other,PaymentStatus):\n",
    "            return self is other\n",
    "        return False\n",
    "    \n",
    "     def __lt__(self,other):\n",
    "        if isinstance(other,int):\n",
    "            return self.value < other\n",
    "        if isinstance(other,PaymentStatus):\n",
    "            return self.value < other.value\n",
    "\n",
    "display(HTML(\"<h3>Output:<h3>\"))\n",
    "\n",
    "# compare with an integer\n",
    "\n",
    "if PaymentStatus.PENDING < 2:\n",
    "    print('The payment has not completed')\n",
    "\n",
    "# compare with another member\n",
    "if PaymentStatus.PENDING < PaymentStatus.COMPLETED:\n",
    "    print('The payment is still pending')\n",
    "    \n",
    "if PaymentStatus.PENDING >=1:\n",
    "    print(f'The payment status yet to be complete') \n",
    "\n",
    "if PaymentStatus.COMPLETED > PaymentStatus.PENDING:\n",
    "    print(f'Payment Status is completed now') \n",
    "    \n",
    "for member in PaymentStatus:\n",
    "    print(f'{member.name}->{bool(member)}')\n",
    "               "
   ]
  },
  {
   "cell_type": "markdown",
   "metadata": {},
   "source": [
    "### Extend Python enum classes\n",
    "\n",
    "Python doesn’t allow us to extend an ``enum`` class unless it has no member. However, this is not a limitation. \n",
    "\n",
    "Because we can define a base class that has methods but no member and then extend this base class. For example:\n",
    "\n",
    "First, define the ``OrderedEnum`` base class that orders the members by their values.\n",
    "\n",
    "Second, define the ApprovalStatus that extends the ``OrderedEnum`` class and compare the members of the ``ApprovalStatus`` enum class:"
   ]
  },
  {
   "cell_type": "code",
   "execution_count": 31,
   "metadata": {},
   "outputs": [
    {
     "data": {
      "application/vnd.jupyter.widget-view+json": {
       "model_id": "86a0ebeff4ef46dc9f4310aefa4b3f81",
       "version_major": 2,
       "version_minor": 0
      },
      "text/plain": [
       "HTML(value='<h3>Output:</h3>')"
      ]
     },
     "metadata": {},
     "output_type": "display_data"
    },
    {
     "name": "stdout",
     "output_type": "stream",
     "text": [
      "The request has not been approved.\n"
     ]
    }
   ],
   "source": [
    "from enum import Enum\n",
    "from functools import total_ordering\n",
    "\n",
    "\n",
    "@total_ordering\n",
    "class OrderedEnum(Enum):\n",
    "    def __lt__(self, other):\n",
    "        if isinstance(other, OrderedEnum):\n",
    "            return self.value < other.value\n",
    "        return NotImplemented\n",
    "\n",
    "class ApprovalStatus(OrderedEnum):\n",
    "    PENDING = 1\n",
    "    IN_PROGRESS = 2\n",
    "    APPROVED = 3\n",
    "    \n",
    "status = ApprovalStatus(2)\n",
    "\n",
    "display(HTML(\"<h3>Output:</h3>\"))\n",
    "if status < ApprovalStatus.APPROVED:\n",
    "    print('The request has not been approved.')    "
   ]
  }
 ],
 "metadata": {
  "kernelspec": {
   "display_name": "base",
   "language": "python",
   "name": "python3"
  },
  "language_info": {
   "codemirror_mode": {
    "name": "ipython",
    "version": 3
   },
   "file_extension": ".py",
   "mimetype": "text/x-python",
   "name": "python",
   "nbconvert_exporter": "python",
   "pygments_lexer": "ipython3",
   "version": "3.12.4"
  }
 },
 "nbformat": 4,
 "nbformat_minor": 2
}
