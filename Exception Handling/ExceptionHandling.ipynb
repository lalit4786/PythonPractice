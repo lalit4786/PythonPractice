{
 "cells": [
  {
   "attachments": {
    "image.png": {
     "image/png": "[encoded data removed]"
    }
   },
   "cell_type": "markdown",
   "metadata": {},
   "source": [
    "# Introduction to Python exceptions\n",
    "\n",
    "All exception classes are the subclasses of the ``BaseException`` class.\n",
    "\n",
    "However, almost all built-in exception classes inherit from the ``Exception`` class, which is the subclass of the ``BaseException`` class:\n",
    "\n",
    "![image.png](attachment:image.png)\n",
    "\n",
    "The following example defines a list of three elements and attempts to access the fourth one which caused the ``IndexError`` exception due to invalid index.\n",
    "\n",
    "To handle exceptions, we use the try statement. The try statement has the following clauses:\n",
    "\n",
    "```python\n",
    "\n",
    "try:\n",
    "    # code that you want to protect from exceptions\n",
    "except <ExceptionType> as ex:\n",
    "    # code that handle the exception\n",
    "finally:\n",
    "    # code that always execute whether the exception occurred or not\n",
    "else:\n",
    "    # code that excutes if try execute normally (an except clause must be present)\n",
    "\n",
    "```\n",
    "\n",
    "### try\n",
    "\n",
    "In the try clause, we place the code that protects from one or more potential exceptions.\n",
    "\n",
    "The try clause appears exactly one time in the try statement.\n",
    "\n",
    "### except\n",
    "\n",
    "In the except clause, we place the code that handles a specific exception type. A try statement can have zero or more except clauses. Typically, each except clause handles different exception types in specific ways.\n",
    "\n",
    "In an except clause, the as ex is optional. And the <ExceptionType> is also optional. However, if you omit the <ExceptionType> as ex, we’ll have a bare exception handler.\n",
    "\n",
    "When specifying exception types in the except clauses, we place the most specific to least specific exceptions from top to bottom.\n",
    "\n",
    "If we have the same logic that handles different exception types, we can group them in a single except clause. For example:\n",
    "\n",
    "```python\n",
    "try:\n",
    "...\n",
    "except <ExceptionType1> as ex:\n",
    "    log(ex)\n",
    "except <ExceptionType2> as ex:\n",
    "    log(ex)\n",
    "```\n",
    "\n",
    "```python\n",
    "try:\n",
    "...\n",
    "except (<ExceptionType1>, <ExceptionType2>) as ex:\n",
    "    log(ex)\n",
    "```\n",
    "It’s important to note that the except order matters because Python will run the first except clause whose exception type matches the occurred exception.\n",
    "\n",
    "### finally\n",
    "The finally clause may appear zero or 1 time in a try statement. The finally clause always executes whether an exception occurred or not.\n",
    "\n",
    "### else\n",
    "The else clause also appears zero or 1 time. And the else clause is only valid if the try statement has at least one except clause.\n",
    "\n",
    "Typically, we place the code that executes if the try clause terminates normally."
   ]
  },
  {
   "cell_type": "code",
   "execution_count": 15,
   "metadata": {},
   "outputs": [
    {
     "name": "stdout",
     "output_type": "stream",
     "text": [
      "<class 'IndexError'> - list index out of range\n",
      "Continue to run\n"
     ]
    }
   ],
   "source": [
    "colors = ['red', 'green', 'blue']\n",
    "\n",
    "try:\n",
    "    print(colors[3])\n",
    "except Exception as e:\n",
    "    print(e.__class__, '-', e)\n",
    "\n",
    "print('Continue to run')"
   ]
  },
  {
   "cell_type": "markdown",
   "metadata": {},
   "source": [
    "## Catching Multiple Exceptions\n",
    "\n",
    "Suppose we need to defines a ``division`` function that returns the result of a is divided by b.\n",
    "\n",
    "``division`` function returns a dictionary that has three elements:\n",
    "\n",
    "-   **success** is a boolean value that indicates whethere the operation is successful or not.\n",
    "-   **message** indicates the error or success message.\n",
    "-   **result** stores the result of a / b or None if b is zero.\n",
    "\n",
    "If b is zero, the ``ZeroDivisionError`` exception will occur. \n",
    "\n",
    "If the ``ZeroDivisionError`` occurs,the ``divison`` returns following output:\n",
    "\n",
    "```\n",
    "{\n",
    "    'success': False, \n",
    "    'message': 'b cannot be zero', \n",
    "    'result': None\n",
    "}\n",
    "\n",
    "```\n",
    "\n",
    "However, if we pass two strings instead of two numbers to the ``division`` function, we’ll get ``TypeError``.\n",
    "\n",
    "Following program defines ``divison`` function that catch ``ZeroDivisionError`` and ``TypeError``.\n",
    "\n"
   ]
  },
  {
   "cell_type": "code",
   "execution_count": 19,
   "metadata": {},
   "outputs": [
    {
     "name": "stdout",
     "output_type": "stream",
     "text": [
      "{'success': False, 'message': 'Both a & b must be numbers', 'result': None}\n",
      "{'success': False, 'message': 'b cannot be zero', 'result': None}\n",
      "{'success': True, 'message': 'OK', 'result': 2.0}\n"
     ]
    }
   ],
   "source": [
    "def division(a, b):\n",
    "    try:\n",
    "        return {\n",
    "            'success': True,\n",
    "            'message': 'OK',\n",
    "            'result': a / b\n",
    "        }\n",
    "    except TypeError as e:\n",
    "        return {\n",
    "            'success': False,\n",
    "            'message': 'Both a & b must be numbers',\n",
    "            'result': None\n",
    "        }\n",
    "    except ZeroDivisionError as e:\n",
    "        return {\n",
    "            'success': False,\n",
    "            'message': 'b cannot be zero',\n",
    "            'result': None\n",
    "        }\n",
    "    except Exception as e:\n",
    "        return {\n",
    "            'success': False,\n",
    "            'message': str(e),\n",
    "            'result': None\n",
    "        }\n",
    "\n",
    "\n",
    "result = division('10', '2')\n",
    "print(result)\n",
    "result = division(10, 0)\n",
    "print(result)\n",
    "result = division(10, 5)\n",
    "print(result)"
   ]
  },
  {
   "cell_type": "markdown",
   "metadata": {},
   "source": [
    "Above example shows that one should always handle the exceptions from the most specific to the least specific.\n",
    "\n",
    "If the code that handles different exceptions are the same, we can group all exceptions into one as follows:\n",
    "\n",
    "```python\n",
    "def division(a, b):\n",
    "    try:\n",
    "        return {\n",
    "            'success': True,\n",
    "            'message': 'OK',\n",
    "            'result': a / b\n",
    "        }\n",
    "    except (TypeError, ZeroDivisionError, Exception) as e:\n",
    "        return {\n",
    "            'success': False,\n",
    "            'message': str(e),\n",
    "            'result': None\n",
    "        }\n",
    "\n",
    "\n",
    "result = division(10, 0)\n",
    "print(result)\n",
    "```"
   ]
  },
  {
   "attachments": {
    "image.png": {
     "image/png": "[encoded data removed]"
    }
   },
   "cell_type": "markdown",
   "metadata": {},
   "source": [
    "## Except order \n",
    "\n",
    "When we catch an exception in the except clause, you need to place the exceptions from most specific to the least specific in terms of exception hierarchy.\n",
    "\n",
    "The following shows three exception classes: ``Exception``, ``LookupError``, and ``IndexError``:\n",
    "\n",
    "![image.png](attachment:image.png)\n",
    "\n",
    "If we catch the exception, we need to place them in the following order: ``IndexError``, ``LookupErorr``, and ``Exception``.\n",
    "\n",
    "For example, the following defines a list of three strings and attempts to access the 4th element:"
   ]
  },
  {
   "cell_type": "code",
   "execution_count": 20,
   "metadata": {},
   "outputs": [
    {
     "name": "stdout",
     "output_type": "stream",
     "text": [
      "<class 'IndexError'> Index error\n"
     ]
    }
   ],
   "source": [
    "colors = ['red', 'green', 'blue']\n",
    "try:\n",
    "    print(colors[3])\n",
    "except IndexError as e:\n",
    "    print(type(e), 'Index error')\n",
    "except LookupError as e:\n",
    "    print(type(e), 'Lookup error')"
   ]
  },
  {
   "cell_type": "markdown",
   "metadata": {},
   "source": [
    "The ``colors[3]`` access causes an ``IndexError`` exception. However, if we swap the ``except`` clauses and ``catch`` the ``LookupError`` first and the ``IndexError`` second like this:\n",
    "\n",
    "```python\n",
    "colors = ['red', 'green', 'blue']\n",
    "try:\n",
    "    print(colors[3])\n",
    "except LookupError as e:\n",
    "    print(type(e), 'Lookup error')\n",
    "except IndexError as e:\n",
    "    print(type(e), 'Index error')\n",
    "```\n",
    "\n",
    "The output is still ``<class 'IndexError'> Lookup error`` but the message is misleading.\n",
    "\n",
    "Please note that when we handle an exception, the exception handler will catch the exception type we specify and any of its subclasses."
   ]
  },
  {
   "cell_type": "markdown",
   "metadata": {},
   "source": [
    "## Bare exception handlers\n",
    "\n",
    "A bare exception handler does not specify an exception type:\n",
    "\n",
    "```python\n",
    "\n",
    "try:\n",
    "    ...\n",
    "except:\n",
    "    ...\n",
    "\n",
    "\n",
    "```\n",
    "\n",
    "It is equivalent to the following:\n",
    "\n",
    "```python\n",
    "\n",
    "try:\n",
    "    ...\n",
    "except BaseException:\n",
    "\n",
    "    ...\n",
    "\n",
    "```\n",
    "\n",
    "A bare exception handler will catch any exceptions including the ``SystemExit`` and ``KeyboardInterupt`` exceptions.\n",
    "\n",
    "A bare exception will make it harder to interrupt a program with Control-C and disguise other programs.\n",
    "\n",
    "In practice, we should avoid using bare exception handlers.\n",
    "\n",
    "## sys.exc_info()\n",
    "\n",
    "To get exception information from a bare exception handler, we use the ``exc_info()`` function from the ``sys`` module.\n",
    "\n",
    "The ``sys.exc_info()`` function returns a tuple that consists of three values:\n",
    "\n",
    "-   ``type`` is the type of the exception occurred. It’s a subclass of the ``BaseException``.\n",
    "-   ``value`` is the instance of the exception type.\n",
    "-   ``traceback`` is an object that encapsulates the call stack at the point where the exception originally ocurred.\n",
    "\n",
    "The following example uses the ``sys.exc_info()`` function to examine the exception when a string is divided by a number:"
   ]
  },
  {
   "cell_type": "code",
   "execution_count": 21,
   "metadata": {},
   "outputs": [
    {
     "name": "stdout",
     "output_type": "stream",
     "text": [
      "(<class 'TypeError'>, TypeError(\"unsupported operand type(s) for /: 'str' and 'int'\"), <traceback object at 0x104a2bfc0>)\n"
     ]
    }
   ],
   "source": [
    "import sys\n",
    "\n",
    "try:\n",
    "    '20' / 2\n",
    "except:\n",
    "    exc_info = sys.exc_info()\n",
    "    print(exc_info)"
   ]
  },
  {
   "cell_type": "markdown",
   "metadata": {},
   "source": [
    "The output shows that the code in the try clause causes a TypeError exception.Therefore, we can modify the code to handle it specifically as follows:\n",
    "\n",
    "```python\n",
    "\n",
    "try:\n",
    "    '20' / 2\n",
    "except TypeError as e:\n",
    "    print(e)\n",
    "\n",
    "```    "
   ]
  },
  {
   "cell_type": "markdown",
   "metadata": {},
   "source": [
    "# Raise Statement\n",
    "\n",
    "To raise an exception, we use the ``raise`` statement:\n",
    "\n",
    "```python\n",
    "raise ExceptionType()\n",
    "```\n",
    "\n",
    "The ``ExceptionType()`` must be subclass of the ``BaseException`` class. \n",
    "\n",
    "Typically, it is a subclass of the ``Exception`` class. \n",
    "\n",
    ">Note that the ``ExceptionType`` doesn’t need to be directly inherited from the ``Exception`` class. It can indirectly inherit from a class that is a subclass of the Exception class.\n",
    "\n",
    "The BaseException class has the ``__init__`` method that accepts an *args argument. It means that you can pass any number of arguments to the exception object when raising an exception.\n",
    "\n",
    "The following example uses the ``raise`` statement to raise a ValueError exception. It passes three arguments to the ValueError ``__init__`` method:"
   ]
  },
  {
   "cell_type": "code",
   "execution_count": 22,
   "metadata": {},
   "outputs": [
    {
     "name": "stdout",
     "output_type": "stream",
     "text": [
      "('The value error exception', 'x', 'y')\n"
     ]
    }
   ],
   "source": [
    "try:\n",
    "    raise ValueError('The value error exception', 'x', 'y')\n",
    "except ValueError as ex:\n",
    "    print(ex.args)"
   ]
  },
  {
   "cell_type": "markdown",
   "metadata": {},
   "source": [
    "## Reraise the current exception\n",
    "\n",
    "If we ``raise`` statement without specifying an exception object, it re-raises the exception currently being handled. \n",
    "\n",
    "This approach is useful if we want to handle an exception in some way (like logging it) and then allow it to propagate up the call stack.\n",
    "\n",
    "In the following example, if we pass zero to the second argument of the ``division()`` function, the ``ZeroDivisionError`` exception will occur.\n",
    "\n",
    "However, instead of handling the exception, we can log the exception and raise it again."
   ]
  },
  {
   "cell_type": "code",
   "execution_count": 24,
   "metadata": {},
   "outputs": [
    {
     "name": "stdout",
     "output_type": "stream",
     "text": [
      "Logging exception: division by zero\n"
     ]
    },
    {
     "ename": "ZeroDivisionError",
     "evalue": "division by zero",
     "output_type": "error",
     "traceback": [
      "\u001b[0;31m---------------------------------------------------------------------------\u001b[0m",
      "\u001b[0;31mZeroDivisionError\u001b[0m                         Traceback (most recent call last)",
      "Cell \u001b[0;32mIn[24], line 8\u001b[0m\n\u001b[1;32m      5\u001b[0m         \u001b[38;5;28mprint\u001b[39m(\u001b[38;5;124m'\u001b[39m\u001b[38;5;124mLogging exception:\u001b[39m\u001b[38;5;124m'\u001b[39m, \u001b[38;5;28mstr\u001b[39m(ex))\n\u001b[1;32m      6\u001b[0m         \u001b[38;5;28;01mraise\u001b[39;00m\n\u001b[0;32m----> 8\u001b[0m division(\u001b[38;5;241m1\u001b[39m,\u001b[38;5;241m0\u001b[39m)\n",
      "Cell \u001b[0;32mIn[24], line 3\u001b[0m, in \u001b[0;36mdivision\u001b[0;34m(a, b)\u001b[0m\n\u001b[1;32m      1\u001b[0m \u001b[38;5;28;01mdef\u001b[39;00m \u001b[38;5;21mdivision\u001b[39m(a, b):\n\u001b[1;32m      2\u001b[0m     \u001b[38;5;28;01mtry\u001b[39;00m:\n\u001b[0;32m----> 3\u001b[0m         \u001b[38;5;28;01mreturn\u001b[39;00m a \u001b[38;5;241m/\u001b[39m b\n\u001b[1;32m      4\u001b[0m     \u001b[38;5;28;01mexcept\u001b[39;00m \u001b[38;5;167;01mZeroDivisionError\u001b[39;00m \u001b[38;5;28;01mas\u001b[39;00m ex:\n\u001b[1;32m      5\u001b[0m         \u001b[38;5;28mprint\u001b[39m(\u001b[38;5;124m'\u001b[39m\u001b[38;5;124mLogging exception:\u001b[39m\u001b[38;5;124m'\u001b[39m, \u001b[38;5;28mstr\u001b[39m(ex))\n",
      "\u001b[0;31mZeroDivisionError\u001b[0m: division by zero"
     ]
    }
   ],
   "source": [
    "def division(a, b):\n",
    "    try:\n",
    "        return a / b\n",
    "    except ZeroDivisionError as ex:\n",
    "        print('Logging exception:', str(ex))\n",
    "        raise\n",
    "\n",
    "division(1,0)    "
   ]
  },
  {
   "cell_type": "markdown",
   "metadata": {},
   "source": [
    "## Raise another exception during handling an exception\n",
    "\n",
    "Suppose we want to raise ``ValueError`` error if the ``ZeroDivisionError`` occurs, we can modify the above code as below:"
   ]
  },
  {
   "cell_type": "code",
   "execution_count": 25,
   "metadata": {},
   "outputs": [
    {
     "ename": "ValueError",
     "evalue": "b must not zero",
     "output_type": "error",
     "traceback": [
      "\u001b[0;31m---------------------------------------------------------------------------\u001b[0m",
      "\u001b[0;31mZeroDivisionError\u001b[0m                         Traceback (most recent call last)",
      "Cell \u001b[0;32mIn[25], line 3\u001b[0m, in \u001b[0;36mdivision\u001b[0;34m(a, b)\u001b[0m\n\u001b[1;32m      2\u001b[0m \u001b[38;5;28;01mtry\u001b[39;00m:\n\u001b[0;32m----> 3\u001b[0m     \u001b[38;5;28;01mreturn\u001b[39;00m a \u001b[38;5;241m/\u001b[39m b\n\u001b[1;32m      4\u001b[0m \u001b[38;5;28;01mexcept\u001b[39;00m \u001b[38;5;167;01mZeroDivisionError\u001b[39;00m \u001b[38;5;28;01mas\u001b[39;00m ex:\n",
      "\u001b[0;31mZeroDivisionError\u001b[0m: division by zero",
      "\nDuring handling of the above exception, another exception occurred:\n",
      "\u001b[0;31mValueError\u001b[0m                                Traceback (most recent call last)",
      "Cell \u001b[0;32mIn[25], line 7\u001b[0m\n\u001b[1;32m      4\u001b[0m     \u001b[38;5;28;01mexcept\u001b[39;00m \u001b[38;5;167;01mZeroDivisionError\u001b[39;00m \u001b[38;5;28;01mas\u001b[39;00m ex:\n\u001b[1;32m      5\u001b[0m         \u001b[38;5;28;01mraise\u001b[39;00m \u001b[38;5;167;01mValueError\u001b[39;00m(\u001b[38;5;124m'\u001b[39m\u001b[38;5;124mb must not zero\u001b[39m\u001b[38;5;124m'\u001b[39m)\n\u001b[0;32m----> 7\u001b[0m division(\u001b[38;5;241m1\u001b[39m,\u001b[38;5;241m0\u001b[39m)\n",
      "Cell \u001b[0;32mIn[25], line 5\u001b[0m, in \u001b[0;36mdivision\u001b[0;34m(a, b)\u001b[0m\n\u001b[1;32m      3\u001b[0m     \u001b[38;5;28;01mreturn\u001b[39;00m a \u001b[38;5;241m/\u001b[39m b\n\u001b[1;32m      4\u001b[0m \u001b[38;5;28;01mexcept\u001b[39;00m \u001b[38;5;167;01mZeroDivisionError\u001b[39;00m \u001b[38;5;28;01mas\u001b[39;00m ex:\n\u001b[0;32m----> 5\u001b[0m     \u001b[38;5;28;01mraise\u001b[39;00m \u001b[38;5;167;01mValueError\u001b[39;00m(\u001b[38;5;124m'\u001b[39m\u001b[38;5;124mb must not zero\u001b[39m\u001b[38;5;124m'\u001b[39m)\n",
      "\u001b[0;31mValueError\u001b[0m: b must not zero"
     ]
    }
   ],
   "source": [
    "def division(a, b):\n",
    "    try:\n",
    "        return a / b\n",
    "    except ZeroDivisionError as ex:\n",
    "        raise ValueError('b must not zero')\n",
    "    \n",
    "division(1,0)    "
   ]
  },
  {
   "cell_type": "markdown",
   "metadata": {},
   "source": [
    "First, the ``ZeroDivisionError`` exception occurs:\n",
    "\n",
    "```python\n",
    "Traceback (most recent call last):\n",
    "  File \"C:/pythontutorial/app.py\", line 3, in division\n",
    "    return a / b\n",
    "ZeroDivisionError: division by zero\n",
    "```\n",
    "\n",
    "Second, during handling the ``ZeroDivisionError`` exception, the ``ValueError`` exception occurs:\n",
    "\n",
    "```python\n",
    "Traceback (most recent call last):\n",
    "  File \"C:/pythontutorial/app.py\", line 8, in <module>\n",
    "    division(1, 0)\n",
    "  File \"C:/pythontutorial/app.py\", line 5, in division\n",
    "    raise ValueError('b must not zero')\n",
    "ValueError: b must not zero\n",
    "```"
   ]
  },
  {
   "cell_type": "markdown",
   "metadata": {},
   "source": [
    "## Introduction to the Python raise from statement\n",
    "\n",
    "The ``raise from`` statement has the following syntax:\n",
    "\n",
    "```python\n",
    "raise <ExceptionType> from <cause>\n",
    "```\n",
    "\n",
    "Technically, it’s equivalent to the following:\n",
    "\n",
    "```python\n",
    "ex = ExceptionType\n",
    "ex.__cause__ = cause\n",
    "raise ex\n",
    "```\n",
    "\n",
    "By default, the ``__cause__`` attribute on exception objects is always initialized to None.\n",
    "\n",
    "### Example"
   ]
  },
  {
   "cell_type": "code",
   "execution_count": 27,
   "metadata": {},
   "outputs": [],
   "source": [
    "def divide(a, b):\n",
    "    try:\n",
    "        return a / b\n",
    "    except ZeroDivisionError as ex:\n",
    "        raise ValueError('b must not be zero')"
   ]
  },
  {
   "cell_type": "markdown",
   "metadata": {},
   "source": [
    "The ``divide()`` function has an exception handler that catches the ``ZeroDivisionError`` exception. Inside the handler, we raise a new ``ValueError`` exception. \n",
    "\n",
    "If we pass zero to the second argument of the ``divide()`` function, we’ll get the following stack trace:"
   ]
  },
  {
   "cell_type": "code",
   "execution_count": 28,
   "metadata": {},
   "outputs": [
    {
     "ename": "ValueError",
     "evalue": "b must not be zero",
     "output_type": "error",
     "traceback": [
      "\u001b[0;31m---------------------------------------------------------------------------\u001b[0m",
      "\u001b[0;31mZeroDivisionError\u001b[0m                         Traceback (most recent call last)",
      "Cell \u001b[0;32mIn[27], line 3\u001b[0m, in \u001b[0;36mdivide\u001b[0;34m(a, b)\u001b[0m\n\u001b[1;32m      2\u001b[0m \u001b[38;5;28;01mtry\u001b[39;00m:\n\u001b[0;32m----> 3\u001b[0m     \u001b[38;5;28;01mreturn\u001b[39;00m a \u001b[38;5;241m/\u001b[39m b\n\u001b[1;32m      4\u001b[0m \u001b[38;5;28;01mexcept\u001b[39;00m \u001b[38;5;167;01mZeroDivisionError\u001b[39;00m \u001b[38;5;28;01mas\u001b[39;00m ex:\n",
      "\u001b[0;31mZeroDivisionError\u001b[0m: division by zero",
      "\nDuring handling of the above exception, another exception occurred:\n",
      "\u001b[0;31mValueError\u001b[0m                                Traceback (most recent call last)",
      "Cell \u001b[0;32mIn[28], line 1\u001b[0m\n\u001b[0;32m----> 1\u001b[0m divide(\u001b[38;5;241m1\u001b[39m,\u001b[38;5;241m0\u001b[39m)\n",
      "Cell \u001b[0;32mIn[27], line 5\u001b[0m, in \u001b[0;36mdivide\u001b[0;34m(a, b)\u001b[0m\n\u001b[1;32m      3\u001b[0m     \u001b[38;5;28;01mreturn\u001b[39;00m a \u001b[38;5;241m/\u001b[39m b\n\u001b[1;32m      4\u001b[0m \u001b[38;5;28;01mexcept\u001b[39;00m \u001b[38;5;167;01mZeroDivisionError\u001b[39;00m \u001b[38;5;28;01mas\u001b[39;00m ex:\n\u001b[0;32m----> 5\u001b[0m     \u001b[38;5;28;01mraise\u001b[39;00m \u001b[38;5;167;01mValueError\u001b[39;00m(\u001b[38;5;124m'\u001b[39m\u001b[38;5;124mb must not be zero\u001b[39m\u001b[38;5;124m'\u001b[39m)\n",
      "\u001b[0;31mValueError\u001b[0m: b must not be zero"
     ]
    }
   ],
   "source": [
    "divide(1,0)"
   ]
  },
  {
   "cell_type": "markdown",
   "metadata": {},
   "source": [
    "The import message is:\n",
    "\n",
    "```\n",
    "During handling of the above exception, another exception occurred:\n",
    "```\n",
    "It means that while we were handling the ``ZeroDivisionError`` exception, the ``ValueError`` exception occurred.\n",
    "\n",
    "To instruct Python that we want to modify and forward the ``ZeroDivisionError`` exception, we can use the ``raise`` from statement like this:"
   ]
  },
  {
   "cell_type": "code",
   "execution_count": 29,
   "metadata": {},
   "outputs": [
    {
     "ename": "ValueError",
     "evalue": "b must not be zero",
     "output_type": "error",
     "traceback": [
      "\u001b[0;31m---------------------------------------------------------------------------\u001b[0m",
      "\u001b[0;31mZeroDivisionError\u001b[0m                         Traceback (most recent call last)",
      "Cell \u001b[0;32mIn[29], line 3\u001b[0m, in \u001b[0;36mdivide\u001b[0;34m(a, b)\u001b[0m\n\u001b[1;32m      2\u001b[0m \u001b[38;5;28;01mtry\u001b[39;00m:\n\u001b[0;32m----> 3\u001b[0m     \u001b[38;5;28;01mreturn\u001b[39;00m a \u001b[38;5;241m/\u001b[39m b\n\u001b[1;32m      4\u001b[0m \u001b[38;5;28;01mexcept\u001b[39;00m \u001b[38;5;167;01mZeroDivisionError\u001b[39;00m \u001b[38;5;28;01mas\u001b[39;00m ex:\n",
      "\u001b[0;31mZeroDivisionError\u001b[0m: division by zero",
      "\nThe above exception was the direct cause of the following exception:\n",
      "\u001b[0;31mValueError\u001b[0m                                Traceback (most recent call last)",
      "Cell \u001b[0;32mIn[29], line 7\u001b[0m\n\u001b[1;32m      4\u001b[0m     \u001b[38;5;28;01mexcept\u001b[39;00m \u001b[38;5;167;01mZeroDivisionError\u001b[39;00m \u001b[38;5;28;01mas\u001b[39;00m ex:\n\u001b[1;32m      5\u001b[0m         \u001b[38;5;28;01mraise\u001b[39;00m \u001b[38;5;167;01mValueError\u001b[39;00m(\u001b[38;5;124m'\u001b[39m\u001b[38;5;124mb must not be zero\u001b[39m\u001b[38;5;124m'\u001b[39m) \u001b[38;5;28;01mfrom\u001b[39;00m \u001b[38;5;21;01mex\u001b[39;00m\n\u001b[0;32m----> 7\u001b[0m divide(\u001b[38;5;241m10\u001b[39m, \u001b[38;5;241m0\u001b[39m)\n",
      "Cell \u001b[0;32mIn[29], line 5\u001b[0m, in \u001b[0;36mdivide\u001b[0;34m(a, b)\u001b[0m\n\u001b[1;32m      3\u001b[0m     \u001b[38;5;28;01mreturn\u001b[39;00m a \u001b[38;5;241m/\u001b[39m b\n\u001b[1;32m      4\u001b[0m \u001b[38;5;28;01mexcept\u001b[39;00m \u001b[38;5;167;01mZeroDivisionError\u001b[39;00m \u001b[38;5;28;01mas\u001b[39;00m ex:\n\u001b[0;32m----> 5\u001b[0m     \u001b[38;5;28;01mraise\u001b[39;00m \u001b[38;5;167;01mValueError\u001b[39;00m(\u001b[38;5;124m'\u001b[39m\u001b[38;5;124mb must not be zero\u001b[39m\u001b[38;5;124m'\u001b[39m) \u001b[38;5;28;01mfrom\u001b[39;00m \u001b[38;5;21;01mex\u001b[39;00m\n",
      "\u001b[0;31mValueError\u001b[0m: b must not be zero"
     ]
    }
   ],
   "source": [
    "def divide(a, b):\n",
    "    try:\n",
    "        return a / b\n",
    "    except ZeroDivisionError as ex:\n",
    "        raise ValueError('b must not be zero') from ex\n",
    "\n",
    "divide(10, 0)"
   ]
  },
  {
   "cell_type": "markdown",
   "metadata": {},
   "source": [
    "Now, we receive the ValueError exception with a cause added to the ``__cause__`` attribute of the exception object.\n",
    "\n",
    "The following modifies the above code to show the ``__cause__`` attribute of the ValueError exception:"
   ]
  },
  {
   "cell_type": "code",
   "execution_count": 30,
   "metadata": {},
   "outputs": [
    {
     "name": "stdout",
     "output_type": "stream",
     "text": [
      "cause: division by zero\n",
      "exception: b must not be zero\n"
     ]
    }
   ],
   "source": [
    "def divide(a, b):\n",
    "    try:\n",
    "        return a / b\n",
    "    except ZeroDivisionError as ex:\n",
    "        raise ValueError('b must not be zero') from ex\n",
    "\n",
    "\n",
    "try:\n",
    "    divide(10, 0)\n",
    "except ValueError as ex:\n",
    "    print('cause:', ex.__cause__)\n",
    "    print('exception:', ex)"
   ]
  },
  {
   "cell_type": "markdown",
   "metadata": {},
   "source": [
    "## raise exception from None\n",
    "\n",
    "If the cause of the exception is not important, we can omit the cause by using the raise exception from None statement:\n",
    "\n",
    "```python\n",
    "raise <ExceptionType> from None\n",
    "```\n",
    "\n",
    "For example, we can hide the cause of the ``ValueError`` exception in the ``divide()`` function as follows:"
   ]
  },
  {
   "cell_type": "code",
   "execution_count": 31,
   "metadata": {},
   "outputs": [
    {
     "name": "stdout",
     "output_type": "stream",
     "text": [
      "cause: None\n",
      "exception: b must not be zero\n"
     ]
    }
   ],
   "source": [
    "def divide(a, b):\n",
    "    try:\n",
    "        return a / b\n",
    "    except ZeroDivisionError:\n",
    "        raise ValueError('b must not be zero') from None\n",
    "\n",
    "\n",
    "try:\n",
    "    divide(10, 0)\n",
    "except ValueError as ex:\n",
    "    print('cause:', ex.__cause__)\n",
    "    print('exception:', ex)"
   ]
  },
  {
   "attachments": {
    "image.png": {
     "image/png": "[encoded data removed]"
    }
   },
   "cell_type": "markdown",
   "metadata": {},
   "source": [
    "## Introduction to the Python custom exception\n",
    "\n",
    "To create a custom exception class, we define a class that inherits from the built-in Exception class or one of its subclasses such as ``ValueError`` class:\n",
    "\n",
    "![image.png](attachment:image.png)\n",
    "\n",
    "The following example defines a ``CustomException`` class that inherits from the ``Exception`` class:\n",
    "\n",
    "```python\n",
    "class CustomException(Exception):\n",
    "    \"\"\" my custom exception class \"\"\"\n",
    "```\n",
    "\n",
    ">Note that the CustomException class has a docstring that behaves like a statement. Therefore, we don’t need to add the pass statement to make the syntax valid.\n",
    "\n",
    "To raise the ``CustomException``, we use the ``raise`` statement.\n",
    "\n",
    "```python\n",
    "class CustomException(Exception):\n",
    "    \"\"\" my custom exception class \"\"\"\n",
    "\n",
    "\n",
    "try:\n",
    "    raise CustomException('This is my custom exception')\n",
    "except CustomException as ex:\n",
    "    print(ex)\n",
    "```\n",
    "\n",
    "Like standard exception classes, custom exceptions are also classes. Hence, we can add functionality to the custom exception classes like:\n",
    "\n",
    "-   Adding attributes and properties.\n",
    "-   Adding methods e.g., log the exception, format the output, etc.\n",
    "-   Overriding the  ``__str__`` and ``__repr__`` methods\n",
    "-   And doing anything else that you can do with regular classes.\n",
    "\n",
    "### Custom Exception Example\n",
    "\n",
    "Suppose we need to develop a program that converts a temperature from Fahrenheit to Celsius.\n",
    "\n",
    "The minimum and maximum values of a temperature in Fahrenheit are 32 and 212. If users enter a value that is not in this range, you want to raise a custom exception e.g., ``FahrenheitError``.\n",
    "\n",
    "The following defines the ``FahrenheitError`` exception class:\n"
   ]
  },
  {
   "cell_type": "code",
   "execution_count": 32,
   "metadata": {},
   "outputs": [],
   "source": [
    "class FahrenheitError(Exception):\n",
    "    min_f = 32\n",
    "    max_f = 212\n",
    "\n",
    "    def __init__(self, f, *args):\n",
    "        super().__init__(args)\n",
    "        self.f = f\n",
    "\n",
    "    def __str__(self):\n",
    "        return f'The {self.f} is not in a valid range {self.min_f, self.max_f}'\n",
    "    \n",
    "# The following defines the fahrenheit_to_celsius function that accepts a temperature in Fahrenheit and returns a temperature in Celcius:\n",
    "\n",
    "'''The fahrenheit_to_celsius function raises the FahrenheitError excpetion if the input temperature is not in the valid range. \n",
    "Otherwise, it converts the temperature from Fahrenheit to Celcius.'''\n",
    "\n",
    "def fahrenheit_to_celsius(f: float) -> float:\n",
    "    if f < FahrenheitError.min_f or f > FahrenheitError.max_f:\n",
    "        raise FahrenheitError(f)\n",
    "\n",
    "    return (f - 32) * 5 / 9    "
   ]
  },
  {
   "cell_type": "markdown",
   "metadata": {},
   "source": [
    "The following main program uses the ``fahrenheit_to_celsius`` function and the ``FahrenheitError`` custom exception class:"
   ]
  },
  {
   "cell_type": "code",
   "execution_count": 38,
   "metadata": {},
   "outputs": [
    {
     "name": "stdout",
     "output_type": "stream",
     "text": [
      "89.0 Fahrenheit = 31.6667 Celsius\n"
     ]
    }
   ],
   "source": [
    "if __name__ == '__main__':\n",
    "    f = input('Enter a temperature in Fahrenheit:')\n",
    "    try:\n",
    "        f = float(f)\n",
    "    except ValueError as ex:\n",
    "        print(ex)\n",
    "    else:\n",
    "        try:\n",
    "            c = fahrenheit_to_celsius(float(f))\n",
    "        except FahrenheitError as ex:\n",
    "            print(ex)\n",
    "        else:\n",
    "            print(f'{f} Fahrenheit = {c:.4f} Celsius')"
   ]
  },
  {
   "cell_type": "markdown",
   "metadata": {},
   "source": [
    "Above program will print below output, if we give 6789 as input parameter. \n",
    "\n",
    "```python\n",
    "The 6789.0 is not in a valid range (32, 212)\n",
    "```\n",
    "\n",
    "Also, if we give input as \"89\", we will get below output:-\n",
    "\n",
    "```python\n",
    "could not convert string to float: '\"89\"'\n",
    "```\n",
    "\n",
    "If we give 89 as input parameter, will get ``89.0 Fahrenheit = 31.6667 Celsius`` in output."
   ]
  },
  {
   "cell_type": "markdown",
   "metadata": {},
   "source": [
    "### Another example of try...catch...else"
   ]
  },
  {
   "cell_type": "code",
   "execution_count": 40,
   "metadata": {},
   "outputs": [
    {
     "name": "stdout",
     "output_type": "stream",
     "text": [
      "Your body mass index is 0.0\n",
      "This is considered underweight!\n"
     ]
    }
   ],
   "source": [
    "def calculate_bmi(height, weight):\n",
    "    \"\"\" calculate body mass index (BMI) \"\"\"\n",
    "    return weight / height**2\n",
    "\n",
    "\n",
    "def evaluate_bmi(bmi):\n",
    "    \"\"\" evaluate the bmi \"\"\"\n",
    "    if 18.5 <= bmi <= 24.9:\n",
    "        return 'healthy'\n",
    "\n",
    "    if bmi >= 25:\n",
    "        return 'overweight'\n",
    "\n",
    "    return 'underweight'\n",
    "\n",
    "def main():\n",
    "    try:\n",
    "        height = float(input('Enter your height (meters):'))\n",
    "        weight = float(input('Enter your weight (kilograms):'))\n",
    "\n",
    "    except ValueError as error:\n",
    "        print('Error! please enter a valid number.')\n",
    "    else:\n",
    "        bmi = round(calculate_bmi(height, weight), 1)\n",
    "        evaluation = evaluate_bmi(bmi)\n",
    "\n",
    "        print(f'Your body mass index is {bmi}')\n",
    "        print(f'This is considered {evaluation}!')\n",
    "\n",
    "main()"
   ]
  }
 ],
 "metadata": {
  "kernelspec": {
   "display_name": "base",
   "language": "python",
   "name": "python3"
  },
  "language_info": {
   "codemirror_mode": {
    "name": "ipython",
    "version": 3
   },
   "file_extension": ".py",
   "mimetype": "text/x-python",
   "name": "python",
   "nbconvert_exporter": "python",
   "pygments_lexer": "ipython3",
   "version": "3.12.4"
  }
 },
 "nbformat": 4,
 "nbformat_minor": 2
}
