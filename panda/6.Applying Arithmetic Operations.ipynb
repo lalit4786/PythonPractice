{
 "cells": [
  {
   "cell_type": "markdown",
   "metadata": {},
   "source": [
    "We can apply basic arithmetic operations such as addition, subtraction, multiplication, and division to pandas Series and DataFrame objects.\n",
    "\n",
    "We can use this technique to insert a new column to a pandas DataFrame. For example, try calculating a total score as a linear combination of your candidates’ Python, Django, and JavaScript scores:"
   ]
  },
  {
   "cell_type": "code",
   "execution_count": 7,
   "metadata": {},
   "outputs": [
    {
     "name": "stdout",
     "output_type": "stream",
     "text": [
      "       name         city  age  py-score\n",
      "101  Xavier  Mexico City   41      88.0\n",
      "102     Ann      Toronto   28      79.0\n",
      "103    Jana       Prague   33      81.0\n",
      "104      Yi     Shanghai   34      80.0\n",
      "105   Robin   Manchester   38      68.0\n",
      "106    Amal        Cairo   31      61.0\n",
      "107    Nori        Osaka   37      84.0\n",
      "\n",
      "*** Adding Column django-score and js-score\n",
      "\n",
      "       name         city  age  py-score  django-score  js-score\n",
      "101  Xavier  Mexico City   41      88.0          86.0      71.0\n",
      "102     Ann      Toronto   28      79.0          81.0      95.0\n",
      "103    Jana       Prague   33      81.0          78.0      88.0\n",
      "104      Yi     Shanghai   34      80.0          88.0      79.0\n",
      "105   Robin   Manchester   38      68.0          74.0      91.0\n",
      "106    Amal        Cairo   31      61.0          70.0      91.0\n",
      "107    Nori        Osaka   37      84.0          81.0      80.0\n",
      "\n",
      "Add new column by calculating total score from py-score,django-score and js-score\n",
      "\n",
      "       name         city  age  py-score  django-score  js-score  total_score\n",
      "101  Xavier  Mexico City   41      88.0          86.0      71.0         82.3\n",
      "102     Ann      Toronto   28      79.0          81.0      95.0         84.4\n",
      "103    Jana       Prague   33      81.0          78.0      88.0         82.2\n",
      "104      Yi     Shanghai   34      80.0          88.0      79.0         82.1\n",
      "105   Robin   Manchester   38      68.0          74.0      91.0         76.7\n",
      "106    Amal        Cairo   31      61.0          70.0      91.0         72.7\n",
      "107    Nori        Osaka   37      84.0          81.0      80.0         81.9\n"
     ]
    }
   ],
   "source": [
    "import os\n",
    "import numpy as np\n",
    "import pandas as pd\n",
    "\n",
    "file_path = os.path.join('resources','candidate.csv')\n",
    "\n",
    "df = pd.read_csv(file_path,index_col=0)\n",
    "\n",
    "print(df)\n",
    "\n",
    "# Adding Column django and javascript scores\n",
    "\n",
    "df['js-score'] = np.array([71.0, 95.0, 88.0, 79.0, 91.0, 91.0, 80.0])\n",
    "df.insert(loc=4,column='django-score',value=np.array([86.0, 81.0, 78.0, 88.0, 74.0, 70.0, 81.0]))\n",
    "print()\n",
    "print('*** Adding Column django-score and js-score')\n",
    "print()\n",
    "print(df)\n",
    "\n",
    "print()\n",
    "print('Add new column by calculating total score from py-score,django-score and js-score')\n",
    "print()\n",
    "\n",
    "df['total_score'] = 0.4 * df['py-score'] + 0.3 * df['django-score'] + 0.3 * df['js-score']\n",
    "\n",
    "print(df)\n",
    "\n"
   ]
  },
  {
   "cell_type": "markdown",
   "metadata": {},
   "source": [
    "### Determining Data Statistics\n",
    "\n",
    "We can get basic statistics for the numerical columns of a pandas DataFrame with ``.describe()``:"
   ]
  },
  {
   "cell_type": "code",
   "execution_count": 8,
   "metadata": {},
   "outputs": [
    {
     "name": "stdout",
     "output_type": "stream",
     "text": [
      "Getting general statistics for numerical column of DataFrame\n",
      "\n",
      "             age   py-score  django-score   js-score  total_score\n",
      "count   7.000000   7.000000      7.000000   7.000000     7.000000\n",
      "mean   34.571429  77.285714     79.714286  85.000000    80.328571\n",
      "std     4.429339   9.446592      6.343350   8.544004     4.101510\n",
      "min    28.000000  61.000000     70.000000  71.000000    72.700000\n",
      "25%    32.000000  73.500000     76.000000  79.500000    79.300000\n",
      "50%    34.000000  80.000000     81.000000  88.000000    82.100000\n",
      "75%    37.500000  82.500000     83.500000  91.000000    82.250000\n",
      "max    41.000000  88.000000     88.000000  95.000000    84.400000\n"
     ]
    }
   ],
   "source": [
    "print('Getting general statistics for numerical column of DataFrame')\n",
    "\n",
    "print()\n",
    "\n",
    "print(df.describe())"
   ]
  },
  {
   "cell_type": "markdown",
   "metadata": {},
   "source": [
    "Here, .describe() returns a new DataFrame with the number of rows indicated by count, as well as the mean, standard deviation, minimum, maximum, and quartiles of the columns.\n",
    "\n",
    "To get particular statistics for some or all of the columns, then we can call methods such as ``.mean()`` or ``.std()``.\n",
    "\n"
   ]
  },
  {
   "cell_type": "code",
   "execution_count": 15,
   "metadata": {},
   "outputs": [
    {
     "name": "stdout",
     "output_type": "stream",
     "text": [
      "To get mean of py-score columns\n",
      "\n",
      "77.28571428571429\n",
      "\n",
      "To get std deviation of total-score columns\n",
      "\n",
      "4.101509594329988\n",
      "\n",
      "To get std deviation of all columns\n",
      "age             4.429339\n",
      "py-score        9.446592\n",
      "django-score    6.343350\n",
      "js-score        8.544004\n",
      "total_score     4.101510\n",
      "dtype: float64\n"
     ]
    }
   ],
   "source": [
    "print('To get mean of py-score columns')\n",
    "\n",
    "print()\n",
    "\n",
    "print(df['py-score'].mean())\n",
    "\n",
    "print()\n",
    "\n",
    "print('To get std deviation of total-score columns')\n",
    "\n",
    "print()\n",
    "\n",
    "print(df['total_score'].std())\n",
    "\n",
    "print()\n",
    "\n",
    "print('To get std deviation of all columns')\n",
    "\n",
    "print(df.std(numeric_only=True))\n"
   ]
  },
  {
   "cell_type": "markdown",
   "metadata": {},
   "source": [
    ">Note:When applied to a pandas DataFrame, these methods return Series with the results for each column. When applied to a Series object, or a single column of a DataFrame, the methods return scalars."
   ]
  }
 ],
 "metadata": {
  "kernelspec": {
   "display_name": "base",
   "language": "python",
   "name": "python3"
  },
  "language_info": {
   "codemirror_mode": {
    "name": "ipython",
    "version": 3
   },
   "file_extension": ".py",
   "mimetype": "text/x-python",
   "name": "python",
   "nbconvert_exporter": "python",
   "pygments_lexer": "ipython3",
   "version": "3.12.4"
  }
 },
 "nbformat": 4,
 "nbformat_minor": 2
}
