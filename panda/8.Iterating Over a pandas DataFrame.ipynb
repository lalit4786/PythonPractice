{
 "cells": [
  {
   "cell_type": "code",
   "execution_count": 2,
   "metadata": {},
   "outputs": [
    {
     "name": "stdout",
     "output_type": "stream",
     "text": [
      "       name         city  age  py-score\n",
      "101  Xavier  Mexico City   41      88.0\n",
      "102     Ann      Toronto   28      79.0\n",
      "103    Jana       Prague   33      81.0\n",
      "104      Yi     Shanghai   34      80.0\n",
      "105   Robin   Manchester   38      68.0\n",
      "106    Amal        Cairo   31      61.0\n",
      "107    Nori        Osaka   37      84.0\n"
     ]
    }
   ],
   "source": [
    "import os\n",
    "import pandas as pd\n",
    "import numpy as np\n",
    "\n",
    "file_path = os.path.join('resources','candidate.csv')\n",
    "\n",
    "df = pd.read_csv(file_path,index_col=0)\n",
    "\n",
    "print(df)"
   ]
  },
  {
   "cell_type": "markdown",
   "metadata": {},
   "source": [
    "### .items() or .iteritems()\n",
    "\n",
    "To iterate over columns"
   ]
  },
  {
   "cell_type": "code",
   "execution_count": 6,
   "metadata": {},
   "outputs": [
    {
     "name": "stdout",
     "output_type": "stream",
     "text": [
      "name\n",
      "101    Xavier\n",
      "102       Ann\n",
      "103      Jana\n",
      "104        Yi\n",
      "105     Robin\n",
      "106      Amal\n",
      "107      Nori\n",
      "Name: name, dtype: object\n",
      "\n",
      "city\n",
      "101    Mexico City\n",
      "102        Toronto\n",
      "103         Prague\n",
      "104       Shanghai\n",
      "105     Manchester\n",
      "106          Cairo\n",
      "107          Osaka\n",
      "Name: city, dtype: object\n",
      "\n",
      "age\n",
      "101    41\n",
      "102    28\n",
      "103    33\n",
      "104    34\n",
      "105    38\n",
      "106    31\n",
      "107    37\n",
      "Name: age, dtype: int64\n",
      "\n",
      "py-score\n",
      "101    88.0\n",
      "102    79.0\n",
      "103    81.0\n",
      "104    80.0\n",
      "105    68.0\n",
      "106    61.0\n",
      "107    84.0\n",
      "Name: py-score, dtype: float64\n",
      "\n"
     ]
    }
   ],
   "source": [
    "for col_label,col in df.items():\n",
    "    print(col_label,col , sep='\\n',end='\\n\\n')\n",
    "    \n",
    "    "
   ]
  },
  {
   "cell_type": "markdown",
   "metadata": {},
   "source": [
    "### .iterrows()\n",
    "\n",
    "To iterate over rows"
   ]
  },
  {
   "cell_type": "code",
   "execution_count": 7,
   "metadata": {},
   "outputs": [
    {
     "name": "stdout",
     "output_type": "stream",
     "text": [
      "101\n",
      "name             Xavier\n",
      "city        Mexico City\n",
      "age                  41\n",
      "py-score           88.0\n",
      "Name: 101, dtype: object\n",
      "\n",
      "102\n",
      "name            Ann\n",
      "city        Toronto\n",
      "age              28\n",
      "py-score       79.0\n",
      "Name: 102, dtype: object\n",
      "\n",
      "103\n",
      "name          Jana\n",
      "city        Prague\n",
      "age             33\n",
      "py-score      81.0\n",
      "Name: 103, dtype: object\n",
      "\n",
      "104\n",
      "name              Yi\n",
      "city        Shanghai\n",
      "age               34\n",
      "py-score        80.0\n",
      "Name: 104, dtype: object\n",
      "\n",
      "105\n",
      "name             Robin\n",
      "city        Manchester\n",
      "age                 38\n",
      "py-score          68.0\n",
      "Name: 105, dtype: object\n",
      "\n",
      "106\n",
      "name         Amal\n",
      "city        Cairo\n",
      "age            31\n",
      "py-score     61.0\n",
      "Name: 106, dtype: object\n",
      "\n",
      "107\n",
      "name         Nori\n",
      "city        Osaka\n",
      "age            37\n",
      "py-score     84.0\n",
      "Name: 107, dtype: object\n",
      "\n"
     ]
    }
   ],
   "source": [
    "for row_label,row in df.iterrows():\n",
    "    print(row_label,row,sep='\\n',end='\\n\\n')"
   ]
  },
  {
   "cell_type": "markdown",
   "metadata": {},
   "source": [
    "### .itertuples()\n",
    "\n",
    "iterates over the rows and in each iteration yields a named tuple with (optionally) the index and data:"
   ]
  },
  {
   "cell_type": "code",
   "execution_count": 10,
   "metadata": {},
   "outputs": [
    {
     "name": "stdout",
     "output_type": "stream",
     "text": [
      "Pandas(Index=101, name='Xavier', city='Mexico City', age=41)\n",
      "Pandas(Index=102, name='Ann', city='Toronto', age=28)\n",
      "Pandas(Index=103, name='Jana', city='Prague', age=33)\n",
      "Pandas(Index=104, name='Yi', city='Shanghai', age=34)\n",
      "Pandas(Index=105, name='Robin', city='Manchester', age=38)\n",
      "Pandas(Index=106, name='Amal', city='Cairo', age=31)\n",
      "Pandas(Index=107, name='Nori', city='Osaka', age=37)\n"
     ]
    }
   ],
   "source": [
    "for row in df.loc[:,['name','city','age']].itertuples():\n",
    "    print(row)"
   ]
  },
  {
   "cell_type": "markdown",
   "metadata": {},
   "source": [
    "## Creating DataFrames With Time-Series Labels\n",
    "\n",
    "We’ll create a pandas DataFrame using the hourly temperature data from a single day.\n",
    "\n",
    "We can start by creating a list of data values\n",
    "\n",
    "```python\n",
    "temp_c = [ 8.0,  7.1,  6.8,  6.4,  6.0,  5.4,  4.8,  5.0,\n",
    "9.1, 12.8, 15.3, 19.1, 21.2, 22.1, 22.4, 23.1,\n",
    "21.0, 17.9, 15.5, 14.4, 11.9, 11.0, 10.2,  9.1]\n",
    "```\n",
    "Now we have the variable ``temp_c``, which refers to the list of temperature values.\n",
    "\n",
    "\n",
    "The next step is to create a sequence of dates and times. pandas provides a very convenient function, ``date_range()``, for this purpose:\n",
    "\n",
    "```python\n",
    "dt = pd.date_range(start='2019-10-27 00:00:00.0', periods=24,freq='H')\n",
    "```\n",
    "\n",
    "Now that we have the temperature values and the corresponding dates and times, we can create the DataFrame. In many cases, it’s convenient to use date-time values as the row labels:\n",
    "\n",
    "```python\n",
    "temp = pd.DataFrame(data={'temp_c': temp_c}, index=dt)\n",
    "```"
   ]
  },
  {
   "cell_type": "code",
   "execution_count": 16,
   "metadata": {},
   "outputs": [
    {
     "name": "stdout",
     "output_type": "stream",
     "text": [
      "DataFrame with two columns - temp_c and date\n",
      "    temp_c                date\n",
      "0      8.0 2019-10-27 00:00:00\n",
      "1      7.1 2019-10-27 01:00:00\n",
      "2      6.8 2019-10-27 02:00:00\n",
      "3      6.4 2019-10-27 03:00:00\n",
      "4      6.0 2019-10-27 04:00:00\n",
      "5      5.4 2019-10-27 05:00:00\n",
      "6      4.8 2019-10-27 06:00:00\n",
      "7      5.0 2019-10-27 07:00:00\n",
      "8      9.1 2019-10-27 08:00:00\n",
      "9     12.8 2019-10-27 09:00:00\n",
      "10    15.3 2019-10-27 10:00:00\n",
      "11    19.1 2019-10-27 11:00:00\n",
      "12    21.2 2019-10-27 12:00:00\n",
      "13    22.1 2019-10-27 13:00:00\n",
      "14    22.4 2019-10-27 14:00:00\n",
      "15    23.1 2019-10-27 15:00:00\n",
      "16    21.0 2019-10-27 16:00:00\n",
      "17    17.9 2019-10-27 17:00:00\n",
      "18    15.5 2019-10-27 18:00:00\n",
      "19    14.4 2019-10-27 19:00:00\n",
      "20    11.9 2019-10-27 20:00:00\n",
      "21    11.0 2019-10-27 21:00:00\n",
      "22    10.2 2019-10-27 22:00:00\n",
      "23     9.1 2019-10-27 23:00:00\n",
      "\n",
      "DataFrame with 1 columns - temp_c and row_label as date\n",
      "                     temp_c\n",
      "2019-10-27 00:00:00     8.0\n",
      "2019-10-27 01:00:00     7.1\n",
      "2019-10-27 02:00:00     6.8\n",
      "2019-10-27 03:00:00     6.4\n",
      "2019-10-27 04:00:00     6.0\n",
      "2019-10-27 05:00:00     5.4\n",
      "2019-10-27 06:00:00     4.8\n",
      "2019-10-27 07:00:00     5.0\n",
      "2019-10-27 08:00:00     9.1\n",
      "2019-10-27 09:00:00    12.8\n",
      "2019-10-27 10:00:00    15.3\n",
      "2019-10-27 11:00:00    19.1\n",
      "2019-10-27 12:00:00    21.2\n",
      "2019-10-27 13:00:00    22.1\n",
      "2019-10-27 14:00:00    22.4\n",
      "2019-10-27 15:00:00    23.1\n",
      "2019-10-27 16:00:00    21.0\n",
      "2019-10-27 17:00:00    17.9\n",
      "2019-10-27 18:00:00    15.5\n",
      "2019-10-27 19:00:00    14.4\n",
      "2019-10-27 20:00:00    11.9\n",
      "2019-10-27 21:00:00    11.0\n",
      "2019-10-27 22:00:00    10.2\n",
      "2019-10-27 23:00:00     9.1\n"
     ]
    },
    {
     "name": "stderr",
     "output_type": "stream",
     "text": [
      "/var/folders/53/f01281xn23gc030p40nc7p2h0000gn/T/ipykernel_13893/3741669895.py:5: FutureWarning: 'H' is deprecated and will be removed in a future version, please use 'h' instead.\n",
      "  dt = pd.date_range(start='2019-10-27 00:00:00.0', periods=24,freq='H')\n"
     ]
    }
   ],
   "source": [
    "temp_c = [ 8.0,  7.1,  6.8,  6.4,  6.0,  5.4,  4.8,  5.0,\n",
    "9.1, 12.8, 15.3, 19.1, 21.2, 22.1, 22.4, 23.1,\n",
    "21.0, 17.9, 15.5, 14.4, 11.9, 11.0, 10.2,  9.1]\n",
    "\n",
    "dt = pd.date_range(start='2019-10-27 00:00:00.0', periods=24,freq='H')\n",
    "\n",
    "\n",
    "df = pd.DataFrame(data={'temp_c':temp_c,'date':dt})\n",
    "\n",
    "\n",
    "print('DataFrame with two columns - temp_c and date')\n",
    "print(df)\n",
    "\n",
    "print()\n",
    "\n",
    "df1 = pd.DataFrame(data={'temp_c':temp_c},index=dt)\n",
    "\n",
    "print('DataFrame with 1 columns - temp_c and row_label as date')\n",
    "\n",
    "print(df1)\n",
    "\n"
   ]
  },
  {
   "cell_type": "markdown",
   "metadata": {},
   "source": [
    "### Resampling and Rolling\n",
    "\n",
    "If we want to split a day into four six-hour intervals and get the mean temperature for each interval, pandas provides us method ``.resample()``.\n",
    "\n",
    "**Rolling-window analysis** involves calculating a statistic over a specified number of consecutive rows, known as the “window,” and then shifting this window one row at a time to perform the calculation again. Starting from the first row, the window moves down the DataFrame row by row, repeating the calculation until it reaches the end.\n",
    "\n",
    "Pandas provides the ``.rolling()`` method to perform rolling-window calculations.\n",
    "\n"
   ]
  },
  {
   "cell_type": "code",
   "execution_count": 18,
   "metadata": {},
   "outputs": [
    {
     "name": "stdout",
     "output_type": "stream",
     "text": [
      "Calculate Mean of Sample at 6H Interval\n",
      "                        temp_c\n",
      "2019-10-27 00:00:00   6.616667\n",
      "2019-10-27 06:00:00  11.016667\n",
      "2019-10-27 12:00:00  21.283333\n",
      "2019-10-27 18:00:00  12.016667\n",
      "Calculate Means at rolling window of 3H\n",
      "                        temp_c\n",
      "2019-10-27 00:00:00        NaN\n",
      "2019-10-27 01:00:00        NaN\n",
      "2019-10-27 02:00:00   7.300000\n",
      "2019-10-27 03:00:00   6.766667\n",
      "2019-10-27 04:00:00   6.400000\n",
      "2019-10-27 05:00:00   5.933333\n",
      "2019-10-27 06:00:00   5.400000\n",
      "2019-10-27 07:00:00   5.066667\n",
      "2019-10-27 08:00:00   6.300000\n",
      "2019-10-27 09:00:00   8.966667\n",
      "2019-10-27 10:00:00  12.400000\n",
      "2019-10-27 11:00:00  15.733333\n",
      "2019-10-27 12:00:00  18.533333\n",
      "2019-10-27 13:00:00  20.800000\n",
      "2019-10-27 14:00:00  21.900000\n",
      "2019-10-27 15:00:00  22.533333\n",
      "2019-10-27 16:00:00  22.166667\n",
      "2019-10-27 17:00:00  20.666667\n",
      "2019-10-27 18:00:00  18.133333\n",
      "2019-10-27 19:00:00  15.933333\n",
      "2019-10-27 20:00:00  13.933333\n",
      "2019-10-27 21:00:00  12.433333\n",
      "2019-10-27 22:00:00  11.033333\n",
      "2019-10-27 23:00:00  10.100000\n"
     ]
    }
   ],
   "source": [
    "df2 = df1.resample(rule='6h').mean()\n",
    "\n",
    "print(\"Calculate Mean of Sample at 6H Interval\")\n",
    "print(df2)\n",
    "\n",
    "print(\"Calculate Means at rolling window of 3H\")\n",
    "\n",
    "df3 = df1.rolling(window=3).mean()\n",
    "\n",
    "print(df3)\n"
   ]
  }
 ],
 "metadata": {
  "kernelspec": {
   "display_name": "base",
   "language": "python",
   "name": "python3"
  },
  "language_info": {
   "codemirror_mode": {
    "name": "ipython",
    "version": 3
   },
   "file_extension": ".py",
   "mimetype": "text/x-python",
   "name": "python",
   "nbconvert_exporter": "python",
   "pygments_lexer": "ipython3",
   "version": "3.12.4"
  }
 },
 "nbformat": 4,
 "nbformat_minor": 2
}
