{
 "cells": [
  {
   "cell_type": "markdown",
   "metadata": {},
   "source": [
    "# Inserting and Deleting Rows\n",
    "\n",
    "Imagine we want to add a new person to our list of job candidates. \n",
    "\n",
    "1. Creat a new Series object that represents this new candidate.\n",
    "2. Add the series object created in Step 1 as a new row to the end of df with `.concat()`."
   ]
  },
  {
   "cell_type": "code",
   "execution_count": 12,
   "metadata": {},
   "outputs": [
    {
     "name": "stdout",
     "output_type": "stream",
     "text": [
      "****Printing Candidate DataFrame****\n",
      "       name         city  age  py-score\n",
      "101  Xavier  Mexico City   41      88.0\n",
      "102     Ann      Toronto   28      79.0\n",
      "103    Jana       Prague   33      81.0\n",
      "104      Yi     Shanghai   34      80.0\n",
      "105   Robin   Manchester   38      68.0\n",
      "106    Amal        Cairo   31      61.0\n",
      "107    Nori        Osaka   37      84.0\n",
      "***** Priniting Series Object - John ********\n",
      "name             John\n",
      "city        New Delhi\n",
      "age                21\n",
      "py-score         90.0\n",
      "Name: 108, dtype: object\n",
      "****Printing Candidate DataFrame****\n",
      "     name         city age py-score\n",
      "0  Xavier  Mexico City  41     88.0\n",
      "1     Ann      Toronto  28     79.0\n",
      "2    Jana       Prague  33     81.0\n",
      "3      Yi     Shanghai  34     80.0\n",
      "4   Robin   Manchester  38     68.0\n",
      "5    Amal        Cairo  31     61.0\n",
      "6    Nori        Osaka  37     84.0\n",
      "7    John    New Delhi  21     90.0\n"
     ]
    }
   ],
   "source": [
    "import pandas as pd\n",
    "import os\n",
    "\n",
    "file_path = os.path.join('resources','candidate.csv')\n",
    "df = pd.read_csv(file_path,index_col=0)\n",
    "\n",
    "print('****Printing Candidate DataFrame****')\n",
    "print(df)\n",
    "\n",
    "# Creating Series Object for John\n",
    "\n",
    "john = pd.Series(['John','New Delhi','21','90.0'],index=df.columns,name=108)\n",
    "\n",
    "print('***** Priniting Series Object - John ********')\n",
    "print(john)\n",
    "\n",
    "# Appending John Object to DataFrame\n",
    "\n",
    "df = pd.concat([df,pd.DataFrame([john])],ignore_index=True)\n",
    "\n",
    "print('****Printing Candidate DataFrame****')\n",
    "print(df)"
   ]
  },
  {
   "cell_type": "markdown",
   "metadata": {},
   "source": [
    "We can delete it with a single call to ``.drop()``.\n",
    "\n",
    "``.drop()`` removes the rows specified with the parameter labels. \n",
    "\n",
    "By default, it returns the pandas DataFrame with the specified rows removed."
   ]
  },
  {
   "cell_type": "code",
   "execution_count": 15,
   "metadata": {},
   "outputs": [
    {
     "name": "stdout",
     "output_type": "stream",
     "text": [
      "***** printing dataframe after removing john*****\n",
      "     name         city age py-score\n",
      "0  Xavier  Mexico City  41     88.0\n",
      "1     Ann      Toronto  28     79.0\n",
      "2    Jana       Prague  33     81.0\n",
      "3      Yi     Shanghai  34     80.0\n",
      "4   Robin   Manchester  38     68.0\n",
      "5    Amal        Cairo  31     61.0\n",
      "6    Nori        Osaka  37     84.0\n"
     ]
    }
   ],
   "source": [
    "df = df.drop(labels=[7])\n",
    "\n",
    "print('***** printing dataframe after removing john*****')\n",
    "\n",
    "print(df)"
   ]
  },
  {
   "cell_type": "markdown",
   "metadata": {},
   "source": [
    "### Inserting and Deleting Columns\n",
    "\n",
    "The most straightforward way to insert a column in a pandas DataFrame is to follow the same procedure that we use when we add an item to a dictionary. "
   ]
  },
  {
   "cell_type": "code",
   "execution_count": 16,
   "metadata": {},
   "outputs": [
    {
     "name": "stdout",
     "output_type": "stream",
     "text": [
      "****** Adding Column js-score to DataFrame *******\n",
      "     name         city age py-score  js-score\n",
      "0  Xavier  Mexico City  41     88.0      71.0\n",
      "1     Ann      Toronto  28     79.0      95.0\n",
      "2    Jana       Prague  33     81.0      88.0\n",
      "3      Yi     Shanghai  34     80.0      79.0\n",
      "4   Robin   Manchester  38     68.0      91.0\n",
      "5    Amal        Cairo  31     61.0      91.0\n",
      "6    Nori        Osaka  37     84.0      80.0\n"
     ]
    }
   ],
   "source": [
    "import numpy as np\n",
    "\n",
    "df['js-score'] = np.array([71.0, 95.0, 88.0, 79.0, 91.0, 91.0, 80.0])\n",
    "\n",
    "print('****** Adding Column js-score to DataFrame *******')\n",
    "\n",
    "print(df)"
   ]
  },
  {
   "cell_type": "markdown",
   "metadata": {},
   "source": [
    "Now the original DataFrame has one more column, js-score, at its end.\n",
    "\n",
    "We can add a new column with a single value:"
   ]
  },
  {
   "cell_type": "code",
   "execution_count": 17,
   "metadata": {},
   "outputs": [
    {
     "name": "stdout",
     "output_type": "stream",
     "text": [
      "****** Adding Column total-score *****\n",
      "     name         city age py-score  js-score  total-score\n",
      "0  Xavier  Mexico City  41     88.0      71.0            0\n",
      "1     Ann      Toronto  28     79.0      95.0            0\n",
      "2    Jana       Prague  33     81.0      88.0            0\n",
      "3      Yi     Shanghai  34     80.0      79.0            0\n",
      "4   Robin   Manchester  38     68.0      91.0            0\n",
      "5    Amal        Cairo  31     61.0      91.0            0\n",
      "6    Nori        Osaka  37     84.0      80.0            0\n"
     ]
    }
   ],
   "source": [
    "df['total-score'] = 0\n",
    "\n",
    "print('****** Adding Column total-score *****')\n",
    "\n",
    "print(df)"
   ]
  },
  {
   "cell_type": "markdown",
   "metadata": {},
   "source": [
    "The DataFrame df now has an additional column filled with zeros.\n",
    "\n",
    "However, it doesn’t allow us to specify the location of the new column. \n",
    "\n",
    "We can use ``.insert()`` to insert a column at the specified location in DataFrame."
   ]
  },
  {
   "cell_type": "code",
   "execution_count": 18,
   "metadata": {},
   "outputs": [
    {
     "name": "stdout",
     "output_type": "stream",
     "text": [
      "**** Adding Column django-score ******\n",
      "     name         city age py-score  django-score  js-score  total-score\n",
      "0  Xavier  Mexico City  41     88.0          86.0      71.0            0\n",
      "1     Ann      Toronto  28     79.0          81.0      95.0            0\n",
      "2    Jana       Prague  33     81.0          78.0      88.0            0\n",
      "3      Yi     Shanghai  34     80.0          88.0      79.0            0\n",
      "4   Robin   Manchester  38     68.0          74.0      91.0            0\n",
      "5    Amal        Cairo  31     61.0          70.0      91.0            0\n",
      "6    Nori        Osaka  37     84.0          81.0      80.0            0\n"
     ]
    }
   ],
   "source": [
    "df.insert(loc=4,column='django-score',value=np.array([86.0, 81.0, 78.0, 88.0, 74.0, 70.0, 81.0]))\n",
    "\n",
    "print('**** Adding Column django-score ******')\n",
    "print(df)"
   ]
  },
  {
   "cell_type": "markdown",
   "metadata": {},
   "source": [
    "1. To delete one or more columns from a panda DataFrame,use the ``del`` statement.\n",
    "2. Instead of ``del``,we can use ``.pop()`` method to removes the specified column and returns it.\n",
    "3. To remove one or more columns,we can ``.drop()`` method along with the argument ``axis=1``."
   ]
  },
  {
   "cell_type": "code",
   "execution_count": 25,
   "metadata": {},
   "outputs": [
    {
     "name": "stdout",
     "output_type": "stream",
     "text": [
      "***** Dropping Column(s) using del keyword *****\n",
      "total-score column already deleted\n",
      "     name py-score  django-score  js-score\n",
      "0  Xavier     88.0          86.0      71.0\n",
      "1     Ann     79.0          81.0      95.0\n",
      "2    Jana     81.0          78.0      88.0\n",
      "3      Yi     80.0          88.0      79.0\n",
      "4   Robin     68.0          74.0      91.0\n",
      "5    Amal     61.0          70.0      91.0\n",
      "6    Nori     84.0          81.0      80.0\n",
      "***** Dropping Column(s) using pop method *****\n",
      "city column already removed\n",
      "0    Mexico City\n",
      "1        Toronto\n",
      "2         Prague\n",
      "3       Shanghai\n",
      "4     Manchester\n",
      "5          Cairo\n",
      "6          Osaka\n",
      "Name: city, dtype: object\n",
      "***** Dropping Column(s) using drop method *****\n",
      "age column already deleted\n",
      "     name py-score  django-score  js-score\n",
      "0  Xavier     88.0          86.0      71.0\n",
      "1     Ann     79.0          81.0      95.0\n",
      "2    Jana     81.0          78.0      88.0\n",
      "3      Yi     80.0          88.0      79.0\n",
      "4   Robin     68.0          74.0      91.0\n",
      "5    Amal     61.0          70.0      91.0\n",
      "6    Nori     84.0          81.0      80.0\n"
     ]
    }
   ],
   "source": [
    "print('***** Dropping Column(s) using del keyword *****')\n",
    "\n",
    "try:\n",
    "    del df['total-score']\n",
    "except KeyError as error:\n",
    "    print('total-score column already deleted')    \n",
    "\n",
    "print(df)\n",
    "\n",
    "print('***** Dropping Column(s) using pop method *****')\n",
    "\n",
    "try:\n",
    "    city = df.pop('city')\n",
    "except KeyError as error:\n",
    "    print('city column already removed')    \n",
    "\n",
    "print(city)\n",
    "\n",
    "print('***** Dropping Column(s) using drop method *****')\n",
    "\n",
    "try:\n",
    "    df = df.drop(labels='age',axis=1)\n",
    "except KeyError as error:\n",
    "    print('age column already deleted')\n",
    "    \n",
    "print(df)        \n",
    "\n"
   ]
  }
 ],
 "metadata": {
  "kernelspec": {
   "display_name": "base",
   "language": "python",
   "name": "python3"
  },
  "language_info": {
   "codemirror_mode": {
    "name": "ipython",
    "version": 3
   },
   "file_extension": ".py",
   "mimetype": "text/x-python",
   "name": "python",
   "nbconvert_exporter": "python",
   "pygments_lexer": "ipython3",
   "version": "3.12.4"
  }
 },
 "nbformat": 4,
 "nbformat_minor": 2
}
