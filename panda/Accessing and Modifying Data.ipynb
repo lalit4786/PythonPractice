{
 "cells": [
  {
   "cell_type": "markdown",
   "metadata": {},
   "source": [
    "### Getting Data With Accessors\n",
    "\n",
    "pandas has four accessors in total:\n",
    "\n",
    "-   ``.loc[]`` accepts the labels of rows and columns and returns Series or DataFrames. It can be used for getting entire rows or columns, as well as their parts.\n",
    "\n",
    "-   ``.iloc[]`` accepts the zero-based indices of rows and columns and returns Series or DataFrames. It can be used for getting entire rows or columns, or their parts.\n",
    "\n",
    "-   ``.at[]`` accepts the labels of rows and columns and returns a single data value.\n",
    "\n",
    "-   ``.iat[]`` accepts the zero-based indices of rows and columns and returns a single data value."
   ]
  },
  {
   "cell_type": "code",
   "execution_count": 8,
   "metadata": {},
   "outputs": [
    {
     "name": "stdout",
     "output_type": "stream",
     "text": [
      "       name         city  age  py-score\n",
      "101  Xavier  Mexico City   41      88.0\n",
      "102     Ann      Toronto   28      79.0\n",
      "103    Jana       Prague   33      81.0\n",
      "104      Yi     Shanghai   34      80.0\n",
      "105   Robin   Manchester   38      68.0\n",
      "106    Amal        Cairo   31      61.0\n",
      "107    Nori        Osaka   37      84.0\n",
      "Fetch All Cities using column name - city\n",
      "101    Mexico City\n",
      "102        Toronto\n",
      "103         Prague\n",
      "104       Shanghai\n",
      "105     Manchester\n",
      "106          Cairo\n",
      "107          Osaka\n",
      "Name: city, dtype: object\n",
      "Fetch all data corresponding row label - 101\n",
      "name             Xavier\n",
      "city        Mexico City\n",
      "age                  41\n",
      "py-score           88.0\n",
      "Name: 101, dtype: object\n",
      "Fetch All Cities using index of city column\n",
      "101    Mexico City\n",
      "102        Toronto\n",
      "103         Prague\n",
      "104       Shanghai\n",
      "105     Manchester\n",
      "106          Cairo\n",
      "107          Osaka\n",
      "Name: city, dtype: object\n",
      "Fetch all data corresponding row index - 0\n",
      "name             Xavier\n",
      "city        Mexico City\n",
      "age                  41\n",
      "py-score           88.0\n",
      "Name: 101, dtype: object\n",
      "Fetching value at row_label 101 and column city\n",
      "Mexico City\n",
      "Fetching value at row index 0 and column 1\n",
      "Mexico City\n"
     ]
    }
   ],
   "source": [
    "import os\n",
    "import pandas as pd \n",
    "\n",
    "\n",
    "directory = 'resources'\n",
    "\n",
    "if not os.path.exists(directory):\n",
    "    os.makedirs(directory)\n",
    "\n",
    "file_path = os.path.join(directory,'candidate.csv')\n",
    "\n",
    "df = pd.read_csv(file_path,index_col=0)\n",
    "\n",
    "print(df)\n",
    "\n",
    "\n",
    "print('Fetch All Cities using column name - city')\n",
    "\n",
    "print(df.loc[:,'city'])\n",
    "\n",
    "print('Fetch all data corresponding row label - 101')\n",
    "\n",
    "print(df.loc[101])\n",
    "\n",
    "print('Fetch All Cities using index of city column')\n",
    "\n",
    "print(df.iloc[:,1])\n",
    "\n",
    "print('Fetch all data corresponding row index - 0')\n",
    "\n",
    "print(df.iloc[0])\n",
    "\n",
    "print('Fetching value at row_label 101 and column city')\n",
    "\n",
    "print(df.at[101,'city'])\n",
    "\n",
    "print('Fetching value at row index 0 and column 1')\n",
    "\n",
    "print(df.iat[0,1])\n",
    "\n",
    "\n"
   ]
  },
  {
   "cell_type": "markdown",
   "metadata": {},
   "source": [
    "The ``slice`` construct (:) in the row label place means that all the rows should be included.\n",
    "\n",
    "``df.loc[:, 'city']`` returns the column city and ``df.iloc[:, 1]`` returns the same column because the zero-based index 1 refers to the second column, city."
   ]
  },
  {
   "cell_type": "code",
   "execution_count": 9,
   "metadata": {},
   "outputs": [
    {
     "name": "stdout",
     "output_type": "stream",
     "text": [
      "Fetch all rows from row_label 100 to 103(inclusive) for column name and city\n",
      "       name         city\n",
      "101  Xavier  Mexico City\n",
      "102     Ann      Toronto\n",
      "103    Jana       Prague\n",
      "Fetch all rows from index 0 to 4(exclusive) for column index 0 and 1\n",
      "       name         city\n",
      "101  Xavier  Mexico City\n",
      "102     Ann      Toronto\n",
      "103    Jana       Prague\n",
      "104      Yi     Shanghai\n"
     ]
    }
   ],
   "source": [
    "print('Fetch all rows from row_label 100 to 103(inclusive) for column name and city')\n",
    "\n",
    "print(df.loc[100:103,['name','city']])\n",
    "\n",
    "print('Fetch all rows from index 0 to 4(exclusive) for column index 0 and 1')\n",
    "\n",
    "print(df.iloc[0:4,[0,1]])"
   ]
  },
  {
   "cell_type": "markdown",
   "metadata": {},
   "source": [
    "With ``.loc[]``, however, both start and stop indices are inclusive, meaning they are included with the returned values.\n",
    "\n",
    "With ``.iloc[]``, the stop index of a slice is exclusive, meaning it is excluded from the returned values.\n",
    "\n",
    "We can skip rows and columns with .iloc[] the same way we can with slicing tuples, lists, and NumPy arrays:"
   ]
  },
  {
   "cell_type": "code",
   "execution_count": 10,
   "metadata": {},
   "outputs": [
    {
     "name": "stdout",
     "output_type": "stream",
     "text": [
      "Fetch all rows from index 1 to 5 -skipping every second row for column index - 0\n",
      "102     Ann\n",
      "104      Yi\n",
      "106    Amal\n",
      "Name: name, dtype: object\n"
     ]
    }
   ],
   "source": [
    "print('Fetch all rows from index 1 to 5 -skipping every second row for column index - 0')\n",
    "\n",
    "print(df.iloc[1:6:2, 0])"
   ]
  },
  {
   "cell_type": "markdown",
   "metadata": {},
   "source": [
    "### Setting Data With Accessors\n",
    "\n",
    "We can use accessors to modify parts of a pandas DataFrame by passing a Python sequence, NumPy array, or single value."
   ]
  },
  {
   "cell_type": "code",
   "execution_count": 19,
   "metadata": {},
   "outputs": [
    {
     "name": "stdout",
     "output_type": "stream",
     "text": [
      "Display all rows from row_label 100 to 104 for column py-score\n",
      "101    88.0\n",
      "102    79.0\n",
      "103    81.0\n",
      "104    80.0\n",
      "Name: py-score, dtype: float64\n",
      "Modifying all rows from row_label 101 to 104 for column py-score\n",
      "Display all rows from row_label 101 to 104 for column py-score\n",
      "101    40.0\n",
      "102    50.0\n",
      "103    70.0\n",
      "104    90.0\n",
      "Name: py-score, dtype: float64\n",
      "Display all rows from row_label 101 to 104 for column py-score\n",
      "101    40.0\n",
      "102    50.0\n",
      "103    70.0\n",
      "104    90.0\n",
      "105     0.0\n",
      "106     0.0\n",
      "107     0.0\n",
      "Name: py-score, dtype: float64\n",
      "Display all rows from row_label 100 to 104 for column py-score\n",
      "101    88.0\n",
      "102    79.0\n",
      "103    81.0\n",
      "104    80.0\n",
      "105    68.0\n",
      "106    61.0\n",
      "107    84.0\n",
      "Name: py-score, dtype: float64\n"
     ]
    }
   ],
   "source": [
    "import numpy as np\n",
    "\n",
    "print('Display all rows from row_label 100 to 104 for column py-score')\n",
    "\n",
    "print(df.loc[:104,'py-score'])\n",
    "\n",
    "print('Modifying all rows from row_label 101 to 104 for column py-score')\n",
    "\n",
    "df.loc[:104,'py-score'] = [40,50,70,90] # Modifies the first four items \n",
    "\n",
    "print('Display all rows from row_label 101 to 104 for column py-score')\n",
    "\n",
    "print(df.loc[:104,'py-score'])\n",
    "\n",
    "df.loc[105:,'py-score'] = 0 # sets the remaining values in this column to 0\n",
    "\n",
    "print('Display all rows from row_label 101 to 104 for column py-score')\n",
    "\n",
    "print(df.loc[:,'py-score'])\n",
    "\n",
    "df.iloc[:,-1] = np.array([88.0, 79.0, 81.0, 80.0, 68.0, 61.0, 84.0])\n",
    "\n",
    "print('Display all rows from row_label 100 to 104 for column py-score')\n",
    "\n",
    "print(df.loc[:,'py-score'])\n"
   ]
  }
 ],
 "metadata": {
  "kernelspec": {
   "display_name": "base",
   "language": "python",
   "name": "python3"
  },
  "language_info": {
   "codemirror_mode": {
    "name": "ipython",
    "version": 3
   },
   "file_extension": ".py",
   "mimetype": "text/x-python",
   "name": "python",
   "nbconvert_exporter": "python",
   "pygments_lexer": "ipython3",
   "version": "3.12.4"
  }
 },
 "nbformat": 4,
 "nbformat_minor": 2
}
