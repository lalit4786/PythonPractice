{
 "cells": [
  {
   "cell_type": "markdown",
   "metadata": {},
   "source": [
    "### Creating a pandas DataFrame With Lists\n",
    "\n",
    "-   **Create DataFrame using list of dictionaries**\n",
    "\n",
    "    Here,dictionary keys are the column labels, and the dictionary values are the data values in the DataFrame.\n",
    "\n",
    "-   **Create DataFrame using list of list**\n",
    "\n",
    "    Here, it would be wise to explicitly specify the labels of columns, rows, or both when creating the DataFrame."
   ]
  },
  {
   "cell_type": "code",
   "execution_count": 3,
   "metadata": {},
   "outputs": [
    {
     "name": "stdout",
     "output_type": "stream",
     "text": [
      "Data frame using list of dictionary\n",
      "   x  y    z\n",
      "0  1  2  100\n",
      "1  2  4  100\n",
      "2  3  8  100\n",
      "Data frame using nested list\n",
      "   X  Y    Z\n",
      "A  1  2  100\n",
      "B  2  4  100\n",
      "C  3  8  100\n"
     ]
    }
   ],
   "source": [
    "import pandas as pd\n",
    "import numpy as np\n",
    "\n",
    "print('Data frame using list of dictionary')\n",
    "\n",
    "l1 = [{'x': 1, 'y': 2, 'z': 100},\n",
    "      {'x': 2, 'y': 4, 'z': 100},\n",
    "      {'x': 3, 'y': 8, 'z': 100}]\n",
    "\n",
    "df = pd.DataFrame(l1)\n",
    "\n",
    "print(df)\n",
    "\n",
    "l2 = [[1,2,100],\n",
    "      [2,4,100],\n",
    "      [3,8,100]]\n",
    "\n",
    "print('Data frame using nested list')\n",
    "\n",
    "df = pd.DataFrame(l2,index=['A','B','C'],columns=['X','Y','Z'])\n",
    "\n",
    "print(df)"
   ]
  },
  {
   "cell_type": "markdown",
   "metadata": {},
   "source": [
    "### Creating a pandas DataFrame With NumPy Arrays\n",
    "\n",
    "We can pass a two-dimensional NumPy array to the DataFrame constructor the same way you do with a list:"
   ]
  },
  {
   "cell_type": "code",
   "execution_count": 4,
   "metadata": {},
   "outputs": [
    {
     "name": "stdout",
     "output_type": "stream",
     "text": [
      "    A   B   C\n",
      "0   1   2   3\n",
      "1  17  19  18\n",
      "2  11   0  -1\n"
     ]
    }
   ],
   "source": [
    "l = np.array([[1,2,3],[17,19,18],[11,0,-1]])\n",
    "\n",
    "df = pd.DataFrame(l,columns=['A','B','C'])\n",
    "\n",
    "print(df)"
   ]
  },
  {
   "cell_type": "markdown",
   "metadata": {},
   "source": [
    "This looks almost the same as the nested list implementation above, it has one advantage: We can specify the optional parameter copy.\n",
    "\n",
    "When copy is set to False (its default setting), the data from the NumPy array isn’t copied. This means that the original data from the array is assigned to the pandas DataFrame. \n",
    "\n",
    "If we modify the array, then our DataFrame will change too:"
   ]
  },
  {
   "cell_type": "code",
   "execution_count": 5,
   "metadata": {},
   "outputs": [
    {
     "name": "stdout",
     "output_type": "stream",
     "text": [
      "      A   B   C\n",
      "0  1000   2   3\n",
      "1    17  19  18\n",
      "2    11   0  -1\n"
     ]
    }
   ],
   "source": [
    "l[0][0] = 1000\n",
    "print(df)"
   ]
  },
  {
   "cell_type": "markdown",
   "metadata": {},
   "source": [
    "To create a dataframe from the copy of the values of numpy array ``l``,we should specify ``copy=True``.This way,df won't change if we change ``l``."
   ]
  },
  {
   "cell_type": "code",
   "execution_count": 6,
   "metadata": {},
   "outputs": [
    {
     "name": "stdout",
     "output_type": "stream",
     "text": [
      "      A   B   C\n",
      "0  1000   2   3\n",
      "1    17  19  18\n",
      "2    11   0  -1\n",
      "Dataframe after modifying array l\n",
      "      A   B   C\n",
      "0  1000   2   3\n",
      "1    17  19  18\n",
      "2    11   0  -1\n"
     ]
    }
   ],
   "source": [
    "df = pd.DataFrame(l,columns=['A','B','C'],copy=True)\n",
    "\n",
    "print(df)\n",
    "\n",
    "l[0][0] = 123\n",
    "\n",
    "print('Dataframe after modifying array l')\n",
    "\n",
    "print(df)"
   ]
  },
  {
   "cell_type": "markdown",
   "metadata": {},
   "source": [
    "### Creating a pandas DataFrame From Files\n",
    "\n",
    "We can save your job candidate DataFrame to a CSV file with ``.to_csv()``:"
   ]
  },
  {
   "cell_type": "code",
   "execution_count": 7,
   "metadata": {},
   "outputs": [
    {
     "name": "stdout",
     "output_type": "stream",
     "text": [
      "       name         city  age  py-score\n",
      "101  Xavier  Mexico City   41      88.0\n",
      "102     Ann      Toronto   28      79.0\n",
      "103    Jana       Prague   33      81.0\n",
      "104      Yi     Shanghai   34      80.0\n",
      "105   Robin   Manchester   38      68.0\n",
      "106    Amal        Cairo   31      61.0\n",
      "107    Nori        Osaka   37      84.0\n"
     ]
    }
   ],
   "source": [
    "import os\n",
    "\n",
    "data = {\n",
    "     'name': ['Xavier', 'Ann', 'Jana', 'Yi', 'Robin', 'Amal', 'Nori'],\n",
    "     'city': ['Mexico City', 'Toronto', 'Prague', 'Shanghai',\n",
    "              'Manchester', 'Cairo', 'Osaka'],\n",
    "     'age': [41, 28, 33, 34, 38, 31, 37],\n",
    "     'py-score': [88.0, 79.0, 81.0, 80.0, 68.0, 61.0, 84.0]\n",
    "}\n",
    "\n",
    "row_labels = [101, 102, 103, 104, 105, 106, 107]\n",
    "\n",
    "directory = 'resources'\n",
    "\n",
    "if not os.path.exists(directory):\n",
    "    os.makedirs(directory)\n",
    "\n",
    "file_path = os.path.join(directory,'candidate.csv')\n",
    "\n",
    "df = pd.DataFrame(data = data,index=row_labels)\n",
    "\n",
    "df.to_csv(file_path)\n",
    "\n",
    "# load DataFrame from csv file\n",
    "\n",
    "df1 = pd.read_csv(file_path,index_col=0)\n",
    "\n",
    "print(df1)"
   ]
  },
  {
   "cell_type": "markdown",
   "metadata": {},
   "source": [
    "In this case, ``index_col=0`` specifies that the row labels are located in the first column of the CSV file."
   ]
  }
 ],
 "metadata": {
  "kernelspec": {
   "display_name": "base",
   "language": "python",
   "name": "python3"
  },
  "language_info": {
   "codemirror_mode": {
    "name": "ipython",
    "version": 3
   },
   "file_extension": ".py",
   "mimetype": "text/x-python",
   "name": "python",
   "nbconvert_exporter": "python",
   "pygments_lexer": "ipython3",
   "version": "3.12.4"
  }
 },
 "nbformat": 4,
 "nbformat_minor": 2
}
