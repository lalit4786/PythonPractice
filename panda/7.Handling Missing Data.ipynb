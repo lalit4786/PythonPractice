{
 "cells": [
  {
   "cell_type": "markdown",
   "metadata": {},
   "source": [
    "pandas usually represents missing data with NaN (not a number) values.\n",
    "\n",
    "In Python, you can get NaN with float('nan'), math.nan, or numpy.nan.\n",
    "\n",
    "Here’s an example of a pandas DataFrame with a missing value:"
   ]
  },
  {
   "cell_type": "code",
   "execution_count": 4,
   "metadata": {},
   "outputs": [
    {
     "name": "stdout",
     "output_type": "stream",
     "text": [
      "     x\n",
      "0  1.0\n",
      "1  2.0\n",
      "2  NaN\n",
      "3  4.0\n"
     ]
    }
   ],
   "source": [
    "import pandas as pd\n",
    "import numpy as np\n",
    "\n",
    "df = pd.DataFrame(data=[1,2,np.nan,4],columns=['x'])\n",
    "\n",
    "print(df)"
   ]
  },
  {
   "cell_type": "markdown",
   "metadata": {},
   "source": [
    "### Calculating With Missing Data\n",
    "\n",
    "Many pandas methods omit nan values when performing calculations unless they are explicitly instructed not to.\n",
    "\n",
    "However, if we instruct ``.mean()`` not to skip ``nan`` values with ``skipna=False``, then it will consider them and return ``nan`` if there’s any missing value among the data."
   ]
  },
  {
   "cell_type": "code",
   "execution_count": 6,
   "metadata": {},
   "outputs": [
    {
     "name": "stdout",
     "output_type": "stream",
     "text": [
      "Print Mean without NAN\n",
      "x    2.333333\n",
      "dtype: float64\n",
      "Print Mean NAN\n",
      "x   NaN\n",
      "dtype: float64\n"
     ]
    }
   ],
   "source": [
    "print('Print Mean without NAN')\n",
    "\n",
    "print(df.mean())\n",
    "\n",
    "print('Print Mean NAN')\n",
    "\n",
    "print(df.mean(skipna=False))"
   ]
  },
  {
   "cell_type": "markdown",
   "metadata": {},
   "source": [
    "### Filling Missing Data\n",
    "\n",
    "-   ``.fillna()`` - This method can be used to replace NAN with desired value.\n",
    "-   ``ffill``- Replaces the missing value with the value above it.\n",
    "-   ``bfill`` - Replaces the missing value with the value below it \n",
    "-   ``interpolate()`` - Replaces the missing value with the interpolated value.\n",
    "\n",
    "We can also use the optional parameter inplace with ``.fillna()``. Doing so will:\n",
    "\n",
    "-   Create and return a new DataFrame when inplace=False\n",
    "-   Modify the existing DataFrame and return None when inplace=True\n",
    "\n",
    "The default setting for inplace is False."
   ]
  },
  {
   "cell_type": "code",
   "execution_count": 14,
   "metadata": {},
   "outputs": [
    {
     "name": "stdout",
     "output_type": "stream",
     "text": [
      "Example of fillna\n",
      "     x\n",
      "0  1.0\n",
      "1  2.0\n",
      "2  0.0\n",
      "3  4.0\n",
      "Example of ffill\n",
      "     x\n",
      "0  1.0\n",
      "1  2.0\n",
      "2  2.0\n",
      "3  4.0\n",
      "Example of bfill\n",
      "     x\n",
      "0  1.0\n",
      "1  2.0\n",
      "2  4.0\n",
      "3  4.0\n",
      "Example of interpolate\n",
      "     x\n",
      "0  1.0\n",
      "1  2.0\n",
      "2  3.0\n",
      "3  4.0\n"
     ]
    }
   ],
   "source": [
    "print('Example of fillna')\n",
    "\n",
    "print(df.fillna(value=0))\n",
    "\n",
    "print('Example of ffill')\n",
    "\n",
    "print(df.ffill())\n",
    "\n",
    "print('Example of bfill')\n",
    "\n",
    "print(df.bfill())\n",
    "\n",
    "print('Example of interpolate')\n",
    "\n",
    "print(df.interpolate())\n",
    "\n",
    "\n"
   ]
  },
  {
   "cell_type": "markdown",
   "metadata": {},
   "source": [
    "### Deleting Rows and Columns With Missing Data\n",
    "\n",
    "``.dropna()`` - To delete rows or even columns that have missing values. "
   ]
  },
  {
   "cell_type": "code",
   "execution_count": 16,
   "metadata": {},
   "outputs": [
    {
     "name": "stdout",
     "output_type": "stream",
     "text": [
      "     x\n",
      "0  1.0\n",
      "1  2.0\n",
      "3  4.0\n"
     ]
    }
   ],
   "source": [
    "df.dropna(inplace=True)\n",
    "\n",
    "print(df)"
   ]
  }
 ],
 "metadata": {
  "kernelspec": {
   "display_name": "base",
   "language": "python",
   "name": "python3"
  },
  "language_info": {
   "codemirror_mode": {
    "name": "ipython",
    "version": 3
   },
   "file_extension": ".py",
   "mimetype": "text/x-python",
   "name": "python",
   "nbconvert_exporter": "python",
   "pygments_lexer": "ipython3",
   "version": "3.12.4"
  }
 },
 "nbformat": 4,
 "nbformat_minor": 2
}
