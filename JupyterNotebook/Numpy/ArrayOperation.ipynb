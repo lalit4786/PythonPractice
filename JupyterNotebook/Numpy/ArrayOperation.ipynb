{
 "cells": [
  {
   "cell_type": "markdown",
   "metadata": {},
   "source": [
    "# Introduction to the numpy reshape() function\n",
    "\n",
    "The ``reshape()`` function changes the shape of an array without changing its elements. Here’s the syntax of the reshape() function:\n",
    "\n",
    "``numpy.reshape(array, shape, order)``\n",
    "\n",
    "The ``reshape()`` method takes three arguments:\n",
    "\n",
    "-   **array** - an original array that is to be reshaped\n",
    "-   **shape** - desired new shape of the array (can be integer or tuple of integers)\n",
    "-   **order** (optional) - specifies the order in which the array elements are reshaped.\n",
    "\n",
    "The ``reshape()`` method returns the reshaped array.\n",
    "\n",
    ">**Note:** The reshape() method throws an error if the shape doesn't match the number of elements.\n",
    "\n",
    "<br><br>\n",
    "\n",
    "The following example uses the numpy reshape() function to change a 1-D array with 4 elements to a 2-D array:\n"
   ]
  },
  {
   "cell_type": "code",
   "execution_count": 1,
   "metadata": {},
   "outputs": [
    {
     "name": "stdout",
     "output_type": "stream",
     "text": [
      "[1 2 3 4]\n",
      "[[1 2]\n",
      " [3 4]]\n"
     ]
    }
   ],
   "source": [
    "import numpy as np\n",
    "\n",
    "a = np.arange(1, 5)\n",
    "print(a)\n",
    "\n",
    "b = np.reshape(a, (2, 2))\n",
    "print(b)"
   ]
  },
  {
   "attachments": {
    "image.png": {
     "image/png": "[encoded data removed]"
    }
   },
   "cell_type": "markdown",
   "metadata": {},
   "source": [
    "How it works.\n",
    "\n",
    "![image.png](attachment:image.png)\n",
    "\n",
    "\n",
    "<br><br>\n",
    "\n",
    "**Numpy reshape() returns a view** - It means that if you change an element of array b, the change is reflected in array a. For example:\n",
    "\n",
    "\n"
   ]
  },
  {
   "cell_type": "code",
   "execution_count": 2,
   "metadata": {},
   "outputs": [
    {
     "name": "stdout",
     "output_type": "stream",
     "text": [
      "[[0 2]\n",
      " [3 4]]\n",
      "[0 2 3 4]\n"
     ]
    }
   ],
   "source": [
    "import numpy as np\n",
    "\n",
    "a = np.arange(1, 5)\n",
    "b = np.reshape(a, (2, 2))\n",
    "\n",
    "# change the element [0,0]\n",
    "b[0, 0] = 0\n",
    "\n",
    "print(b)\n",
    "print(a)"
   ]
  },
  {
   "cell_type": "markdown",
   "metadata": {},
   "source": [
    "## Using Optional Order Argument in reshape()b\n",
    "\n",
    "The order argument specifies the order in which the array elements are reshaped.\n",
    "\n",
    "The order can be:\n",
    "\n",
    "-   'C' - elements are stored row-wise\n",
    "-   'F' - elements are stored column-wise\n",
    "-   'A' - elements are stored based on the original array's memory layout.\n",
    "<br><br>\n",
    "\n",
    "\n",
    "**For Example**"
   ]
  },
  {
   "cell_type": "code",
   "execution_count": 3,
   "metadata": {},
   "outputs": [
    {
     "name": "stdout",
     "output_type": "stream",
     "text": [
      "[[0 1 2 3]\n",
      " [4 5 6 7]]\n",
      "[[0 2 4 6]\n",
      " [1 3 5 7]]\n"
     ]
    }
   ],
   "source": [
    "import numpy as np\n",
    "\n",
    "originalArray = np.array([0, 1, 2, 3, 4, 5, 6, 7])\n",
    "\n",
    "# reshape the array to 2D\n",
    "# the last argument 'C' reshapes the array row-wise\n",
    "reshapedArray = np.reshape(originalArray, (2, 4), 'C')\n",
    "\n",
    "print(reshapedArray)\n",
    "\n",
    "# the last argument 'F' reshapes the array column-wise\n",
    "reshapedArray = np.reshape(originalArray, (2, 4), 'F')\n",
    "\n",
    "print(reshapedArray)\n"
   ]
  },
  {
   "cell_type": "markdown",
   "metadata": {},
   "source": [
    "**Example : Reshape 1D Array to 3D Array**"
   ]
  },
  {
   "cell_type": "code",
   "execution_count": 4,
   "metadata": {},
   "outputs": [
    {
     "name": "stdout",
     "output_type": "stream",
     "text": [
      "[[[0 1]\n",
      "  [2 3]]\n",
      "\n",
      " [[4 5]\n",
      "  [6 7]]]\n"
     ]
    }
   ],
   "source": [
    "import numpy as np\n",
    "\n",
    "# create an array\n",
    "originalArray = np.array([0, 1, 2, 3, 4, 5, 6, 7])\n",
    "\n",
    "# reshape the array to 3D\n",
    "reshapedArray = np.reshape(originalArray, (2, 2, 2))\n",
    "\n",
    "print(reshapedArray)"
   ]
  },
  {
   "cell_type": "markdown",
   "metadata": {},
   "source": [
    "**Example : Flatten a Multidimensional Array to 1D Array**"
   ]
  },
  {
   "cell_type": "code",
   "execution_count": 5,
   "metadata": {},
   "outputs": [
    {
     "name": "stdout",
     "output_type": "stream",
     "text": [
      "[0 1 2 3 4 5 6 7]\n"
     ]
    }
   ],
   "source": [
    "import numpy as np\n",
    "\n",
    "originalArray = np.array([[0, 1, 2, 3], [4, 5, 6, 7]])\n",
    "\n",
    "# flatten the array\n",
    "# to flatten the array, -1 is used as the second argument\n",
    "reshapedArray = np.reshape(originalArray, -1)\n",
    "\n",
    "print(reshapedArray)"
   ]
  },
  {
   "cell_type": "markdown",
   "metadata": {},
   "source": [
    "# NumPy transpose()\n",
    "\n",
    "The numpy transpose() function reverses the axes of an array. Here’s the syntax of the transpose() function.\n",
    "\n",
    "In the case of arrays with more than two dimensions, transpose() permutes the axes based on the given argument.\n",
    "\n",
    "**Syntax:**\n",
    "\n",
    "\n",
    "``numpy.transpose(a, axes=None)``\n",
    "\n",
    "**In this syntax:**\n",
    "\n",
    "a is an input array. It can be a numpy array or any object that can be converted to a numpy array.\n",
    "axes is a tuple or a list that contains a permutation of [0,1,..,N-1] where N is the number of axes of the array a.\n",
    "\n",
    "The ``transpose()`` function returns the array a with its axes permuted.\n",
    "\n",
    "The ``transpose()`` function is equivalent to:\n",
    "\n",
    "``ndarray.T`` property method that returns an array transposed.\n",
    "``ndarray.transpose(*axes)`` method that returns an array transposed.\n",
    "\n",
    "<br><br>\n",
    "\n",
    "The transpose() function has no effect on a 1-D array because a transposed vector is simply the same vector.For Example :-"
   ]
  },
  {
   "cell_type": "code",
   "execution_count": 6,
   "metadata": {},
   "outputs": [
    {
     "name": "stdout",
     "output_type": "stream",
     "text": [
      "[1 2 3]\n"
     ]
    }
   ],
   "source": [
    "import numpy as np\n",
    "\n",
    "a = np.array([1, 2, 3])\n",
    "b = np.transpose(a)\n",
    "print(b) # [1,2,3]"
   ]
  },
  {
   "cell_type": "markdown",
   "metadata": {},
   "source": [
    "**Transpose() function with 2-D array**\n",
    "\n",
    "The following example uses the transpose() function to transpose a 2-D array (or a matrix):"
   ]
  },
  {
   "cell_type": "code",
   "execution_count": 7,
   "metadata": {},
   "outputs": [
    {
     "name": "stdout",
     "output_type": "stream",
     "text": [
      "[[1 4]\n",
      " [2 5]\n",
      " [3 6]]\n"
     ]
    }
   ],
   "source": [
    "import numpy as np\n",
    "\n",
    "a = np.array([\n",
    "    [1, 2, 3],\n",
    "    [4, 5, 6]\n",
    "])\n",
    "\n",
    "b = np.transpose(a)\n",
    "print(b)"
   ]
  },
  {
   "attachments": {
    "image.png": {
     "image/png": "[encoded data removed]"
    }
   },
   "cell_type": "markdown",
   "metadata": {},
   "source": [
    "![image.png](attachment:image.png)"
   ]
  },
  {
   "cell_type": "markdown",
   "metadata": {},
   "source": [
    "**Transposing a 3D Array**\n",
    "\n",
    "The axes argument (second argument) defines which axes are swapped."
   ]
  },
  {
   "cell_type": "code",
   "execution_count": 8,
   "metadata": {},
   "outputs": [
    {
     "name": "stdout",
     "output_type": "stream",
     "text": [
      "When axes are (2, 0, 1):\n",
      "[[[0 2]\n",
      "  [4 6]]\n",
      "\n",
      " [[1 3]\n",
      "  [5 7]]]\n",
      "When axes are (0, 2, 1):\n",
      "[[[0 2]\n",
      "  [1 3]]\n",
      "\n",
      " [[4 6]\n",
      "  [5 7]]]\n"
     ]
    }
   ],
   "source": [
    "import numpy as np\n",
    "\n",
    "originalArray = np.array([[[0, 1], [2, 3]], [[4, 5], [6, 7]]])\n",
    "\n",
    "# swap the rows and columns of the array based on given axes\n",
    "print('When axes are (2, 0, 1):')\n",
    "transposedArray = np.transpose(originalArray, (2, 0, 1))\n",
    "\n",
    "print(transposedArray)\n",
    "\n",
    "# swap the rows and columns of the array based on given axes\n",
    "print('When axes are (0, 2, 1):')\n",
    "transposedArray = np.transpose(originalArray, (0, 2, 1))\n",
    "\n",
    "print(transposedArray)"
   ]
  },
  {
   "cell_type": "markdown",
   "metadata": {},
   "source": [
    "#### Using (2, 0, 1) as the second argument to transpose()\n",
    "\n",
    "In the original array, (x, y, z) are represented by (0, 1, 2).\n",
    "\n",
    "If we use (2, 0, 1) as the second argument to the transpose() method, it means\n",
    "\n",
    "1.  z-axis (index 2) becomes the new x-axis\n",
    "2.  x-axis (index 0) becomes the new y-axis\n",
    "3.  y-axis (index 1) becomes the new z-axis\n",
    "\n",
    "#### Using (0, 2, 1) as the second argument to transpose()\n",
    "\n",
    "If we use (0, 2, 1) as the second argument to the transpose() method, it means\n",
    "\n",
    "1.  x-axis (index 0) will remain unchanged\n",
    "2.  z-axis (index 2) becomes the new y-axis\n",
    "3.  y-axis (index 1) becomes the new z-axis"
   ]
  },
  {
   "cell_type": "markdown",
   "metadata": {},
   "source": [
    "## NumPy sort()\n",
    "\n",
    "The sort() function returns a sorted copy of an array. Here’s the syntax of the sort() function:\n",
    "\n",
    "``numpy.sort(a, axis=- 1, kind=None, order=None)``\n",
    "\n",
    "In this syntax:\n",
    "\n",
    "-   **a** is a numpy array to be sorted. Also, it can be any object that can be converted to an array.\n",
    "-   **axis** specifies the axis along which the elements will be sorted. If the axis is None, the function flattens the array before sorting. By default, the axis is -1 which sorts elements along the last axis.\n",
    "-   **kind** specifies the sorting algorithm which can be ‘quicksort’, ‘mergesort’, ‘heapsort’, and ‘stable’.\n",
    "-   **order** specifies which fields to compare first, second, etc when sorting an array with fields defined. The order can be a string that      represents the field to sort or a list of strings that represent a list of fields to sort.\n",
    "If you want to sort the elements of an array in place, you can use the sort() method of the ndarray object with the following syntax:\n",
    "\n",
    "``ndarray.sort(axis=- 1, kind=None, order=None)``\n",
    "\n",
    "<br><br>\n",
    "\n",
    "The following example uses the sort() function to sort numbers in a 1-D array:\n"
   ]
  },
  {
   "cell_type": "code",
   "execution_count": 9,
   "metadata": {},
   "outputs": [
    {
     "name": "stdout",
     "output_type": "stream",
     "text": [
      "Sort Element in Array from Low to High\n",
      "[1 2 3]\n"
     ]
    }
   ],
   "source": [
    "import numpy as np\n",
    "\n",
    "a = np.array([2, 3, 1])\n",
    "b = np.sort(a)\n",
    "print(f'Sort Element in Array from Low to High')\n",
    "print(b)"
   ]
  },
  {
   "cell_type": "markdown",
   "metadata": {},
   "source": [
    "To sort elements of an array from high to low, you can use the sort() function to sort an array from low to high and use a slice to reverse the array. For example:"
   ]
  },
  {
   "cell_type": "code",
   "execution_count": 10,
   "metadata": {},
   "outputs": [
    {
     "name": "stdout",
     "output_type": "stream",
     "text": [
      "Sort Element in Array from High to Low\n",
      "[3 2 1]\n"
     ]
    }
   ],
   "source": [
    "b = np.sort(a)[::-1]\n",
    "print(f'Sort Element in Array from High to Low')\n",
    "print(b)"
   ]
  },
  {
   "cell_type": "markdown",
   "metadata": {},
   "source": [
    "#### Using the numpy sort() function to sort a 2-D \n",
    "\n",
    "The following example uses the sort() funciton to sort a 2-D array:"
   ]
  },
  {
   "cell_type": "code",
   "execution_count": 12,
   "metadata": {},
   "outputs": [
    {
     "name": "stdout",
     "output_type": "stream",
     "text": [
      "Sort 2-D Array from Low to High\n",
      "[[1 2 3]\n",
      " [4 5 6]]\n",
      "Sort along axis = 0\n",
      "[[2 3 1]\n",
      " [5 6 4]]\n",
      "Sort along axis =1 \n",
      "[[1 2 3]\n",
      " [4 5 6]]\n"
     ]
    }
   ],
   "source": [
    "import numpy as np\n",
    "\n",
    "a = np.array([\n",
    "    [2, 3, 1],\n",
    "    [5, 6, 4]\n",
    "])\n",
    "\n",
    "b = np.sort(a)\n",
    "print(f'Sort 2-D Array from Low to High')\n",
    "print(b)\n",
    "\n",
    "b = np.sort(a,axis=0)\n",
    "print(f'Sort along axis = 0')\n",
    "print(b)\n",
    "\n",
    "b = np.sort(a,axis=1)\n",
    "print(f'Sort along axis =1 ')\n",
    "print(b)\n"
   ]
  },
  {
   "cell_type": "markdown",
   "metadata": {},
   "source": [
    "#### Using the numpy sort() function to sort a structured array\n",
    "\n",
    "The following example sorts the employees by year of services and then salary:\n",
    "\n"
   ]
  },
  {
   "cell_type": "code",
   "execution_count": 15,
   "metadata": {},
   "outputs": [
    {
     "name": "stdout",
     "output_type": "stream",
     "text": [
      "Payroll Table before Sorting\n",
      "[(b'Alice', 1.5, 12500.) (b'Bob', 1. , 15500.) (b'Jane', 1. , 11000.)]\n",
      "Payroll Table after Sorting\n",
      "[(b'Jane', 1. , 11000.) (b'Bob', 1. , 15500.) (b'Alice', 1.5, 12500.)]\n"
     ]
    }
   ],
   "source": [
    "import numpy as np\n",
    "\n",
    "dtype = [('name', 'S10'),\n",
    "         ('year_of_services', float),\n",
    "         ('salary', float)]\n",
    "\n",
    "employees = [\n",
    "    ('Alice', 1.5, 12500),\n",
    "    ('Bob', 1, 15500),\n",
    "    ('Jane', 1, 11000)\n",
    "]\n",
    "\n",
    "payroll = np.array(employees, dtype=dtype)\n",
    "\n",
    "print(f'Payroll Table before Sorting')\n",
    "print(payroll)\n",
    "\n",
    "result = np.sort(\n",
    "    payroll,\n",
    "    order=['year_of_services', 'salary']\n",
    ")\n",
    "\n",
    "print(f'Payroll Table after Sorting')\n",
    "print(result)"
   ]
  },
  {
   "cell_type": "markdown",
   "metadata": {},
   "source": [
    "## NumPy flatten()\n",
    "\n",
    "The flatten() method returns a copy of an array collapsed into one dimension.\n",
    "\n",
    "The following shows the syntax of the ``flatten()`` method:\n",
    "\n",
    "``ndarray.flatten(order='C')``\n",
    "\n",
    "The order parameter specifies the order of elements of an array in the returned array. It accepts one of the following values:\n",
    "\n",
    "-   ‘C’ means to flatten array elements into row-major order (C-style).\n",
    "-   ‘F’ means to flatten array elements into column-major order (Fortran-style).\n",
    "-   ‘A’ – means to flatten array elements in column-major order if a is Fortran contiguous in memory or row-major otherwise.\n",
    "-   ‘K’ means to flatten array elements in order of the elements laid out in memory.\n",
    "\n",
    "\n",
    "By default, the order is ‘C’ which flattens the array elements into row-major.\n",
    "\n",
    "\n",
    "<br><br>\n",
    "\n",
    "**The following example uses the flatten() method to return a 1-D array from a 2-D array:**\n",
    "\n"
   ]
  },
  {
   "cell_type": "code",
   "execution_count": 16,
   "metadata": {},
   "outputs": [
    {
     "name": "stdout",
     "output_type": "stream",
     "text": [
      "Row Wise Flattened Array - [1 2 3 4]\n",
      "Column Wise Flattened Array - [1 3 2 4]\n"
     ]
    }
   ],
   "source": [
    "import numpy as np\n",
    "\n",
    "a = np.array([[1, 2], [3, 4]])\n",
    "b = a.flatten()\n",
    "\n",
    "# Default Order is C - Flatten Array Row Wise\n",
    "print(f'Row Wise Flattened Array - {b}')\n",
    "\n",
    "b = a.flatten(order='F')\n",
    "# Order is F - Flatten Array Column Wise\n",
    "print(f'Column Wise Flattened Array - {b}')\n",
    "\n"
   ]
  },
  {
   "attachments": {
    "image-2.png": {
     "image/png": "[encoded data removed]"
    },
    "image.png": {
     "image/png": "[encoded data removed]"
    }
   },
   "cell_type": "markdown",
   "metadata": {},
   "source": [
    "![image.png](attachment:image.png) <br> ![image-2.png](attachment:image-2.png)"
   ]
  },
  {
   "cell_type": "markdown",
   "metadata": {},
   "source": [
    "# NumPy ravel()\n",
    "\n",
    "The ravel() function accepts an array and returns a 1-D array containing the elements of the input array:\n",
    "\n",
    "``numpy.ravel(a, order='C')``\n",
    "\n",
    "**In this syntax:**\n",
    "\n",
    "a is a numpy array. It can be any array-like object e.g., a list. An array-like object is an object that can be converted into a numpy array.\n",
    "order specifies the order of elements. Check out the flatten() method for detailed information on the order parameter and its values.\n",
    "\n",
    "The ``flatten()`` method creates a copy of an input array while the ``ravel()`` function creates a view of the array. The ravel() only makes a copy of an array if needed.\n",
    "\n",
    "Another important difference between the ``flatten()`` method and ``ravel()`` function is that we can call the ``flatten()`` method on a ndarray while we can call the ``ravel()`` function on an array-like object.\n"
   ]
  },
  {
   "cell_type": "code",
   "execution_count": 17,
   "metadata": {},
   "outputs": [
    {
     "name": "stdout",
     "output_type": "stream",
     "text": [
      "[0 2 3 4]\n",
      "[[0 2]\n",
      " [3 4]]\n"
     ]
    }
   ],
   "source": [
    "import numpy as np\n",
    "\n",
    "a = np.array([[1, 2], [3, 4]])\n",
    "b = np.ravel(a)\n",
    "\n",
    "# change element at index 0\n",
    "b[0] = 0\n",
    "\n",
    "# show both b & a array\n",
    "print(b)\n",
    "print(a)"
   ]
  }
 ],
 "metadata": {
  "kernelspec": {
   "display_name": "base",
   "language": "python",
   "name": "python3"
  },
  "language_info": {
   "codemirror_mode": {
    "name": "ipython",
    "version": 3
   },
   "file_extension": ".py",
   "mimetype": "text/x-python",
   "name": "python",
   "nbconvert_exporter": "python",
   "pygments_lexer": "ipython3",
   "version": "3.12.4"
  }
 },
 "nbformat": 4,
 "nbformat_minor": 2
}
