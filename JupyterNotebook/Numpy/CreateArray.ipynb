{
 "cells": [
  {
   "cell_type": "markdown",
   "metadata": {},
   "source": [
    "# Create NumPy Array\n",
    "\n",
    "A NumPy array is a grid of values with the same type and indexed by a tuple of non-negative integers.\n",
    "\n",
    "All arrays are instances of the ``ndarray`` class. \n",
    "\n",
    "To create a new NumPy array, we use the ``array()`` function of the NumPy library."
   ]
  },
  {
   "cell_type": "markdown",
   "metadata": {
    "vscode": {
     "languageId": "plaintext"
    }
   },
   "source": [
    "### Creating one-dimensional arrays\n",
    "\n",
    "A 1-D array is known as a vector."
   ]
  },
  {
   "cell_type": "code",
   "execution_count": 10,
   "metadata": {},
   "outputs": [
    {
     "name": "stdout",
     "output_type": "stream",
     "text": [
      "Type of a is <class 'numpy.ndarray'>\n",
      "Value of a is [1 2 3]\n"
     ]
    }
   ],
   "source": [
    "import numpy as np\n",
    "\n",
    "a = np.array([1,2,3])\n",
    "\n",
    "print(f'Type of a is {type(a)}')\n",
    "print(f'Value of a is {a}')"
   ]
  },
  {
   "cell_type": "markdown",
   "metadata": {},
   "source": [
    "## Getting the dimension of an array\n",
    "\n",
    "To get the number of dimensions of an array, use the ``ndim`` property. In NumPy, dimensions are called **axes**."
   ]
  },
  {
   "cell_type": "code",
   "execution_count": 11,
   "metadata": {},
   "outputs": [
    {
     "name": "stdout",
     "output_type": "stream",
     "text": [
      "Dimension of array at a ->  1\n"
     ]
    }
   ],
   "source": [
    "print(f'Dimension of array at a ->  {a.ndim}')"
   ]
  },
  {
   "cell_type": "markdown",
   "metadata": {},
   "source": [
    "### Getting the data type of array elements\n",
    "\n",
    "To get the data type of the elements of an array, use the ``dtype`` property."
   ]
  },
  {
   "cell_type": "code",
   "execution_count": 12,
   "metadata": {},
   "outputs": [
    {
     "name": "stdout",
     "output_type": "stream",
     "text": [
      "Type of elements in array at a -> int64\n"
     ]
    }
   ],
   "source": [
    "print(f'Type of elements in array at a -> {a.dtype}')"
   ]
  },
  {
   "cell_type": "markdown",
   "metadata": {},
   "source": [
    "### Set the type of elements in numpy array\n",
    "\n",
    "To set the type of the array’s elements, we can use the ``dtype`` argument of the ``array()``"
   ]
  },
  {
   "cell_type": "code",
   "execution_count": 13,
   "metadata": {},
   "outputs": [
    {
     "name": "stdout",
     "output_type": "stream",
     "text": [
      "Element in array at b are : [1.  2.9 3.  4. ]\n",
      "Type of Elements in Array at b is float64\n"
     ]
    }
   ],
   "source": [
    "b = np.array([1,2.9,3,4],dtype = np.float64)\n",
    "\n",
    "print(f'Element in array at b are : {b}')\n",
    "print(f'Type of Elements in Array at b is {b.dtype}')\n",
    "\n",
    "#Output"
   ]
  },
  {
   "cell_type": "markdown",
   "metadata": {},
   "source": [
    "### Creating two-dimensional arrays\n",
    "\n",
    "A two-dimensional array is also called a matrix.\n",
    "\n",
    "Please note that each element of 2-D arrays represent 1-D or Vector."
   ]
  },
  {
   "cell_type": "code",
   "execution_count": 20,
   "metadata": {},
   "outputs": [
    {
     "name": "stdout",
     "output_type": "stream",
     "text": [
      "[[1 2 3]\n",
      " [2 5 6]]\n",
      "Dimension of 2-D array c is 2\n"
     ]
    }
   ],
   "source": [
    "c = np.array([\n",
    "    [1,2,3],\n",
    "    [2,5,6]\n",
    "])\n",
    "\n",
    "print(c)\n",
    "\n",
    "## Output\n",
    "\n",
    "print(f'Dimension of 2-D array c is {c.ndim}')"
   ]
  },
  {
   "cell_type": "markdown",
   "metadata": {},
   "source": [
    "## Creating three-dimensional array\n",
    "\n",
    "A 3-D array is also called a tensor."
   ]
  },
  {
   "cell_type": "code",
   "execution_count": 23,
   "metadata": {},
   "outputs": [
    {
     "name": "stdout",
     "output_type": "stream",
     "text": [
      "[[[1 2 3]\n",
      "  [4 5 6]]\n",
      "\n",
      " [[7 8 9]\n",
      "  [1 3 4]]]\n",
      "Dimension of Array d is 3\n"
     ]
    }
   ],
   "source": [
    "d = np.array([\n",
    "    [\n",
    "        [1,2,3],\n",
    "        [4,5,6]\n",
    "    ],\n",
    "    [\n",
    "        [7,8,9],\n",
    "        [10,11,2]\n",
    "    ]\n",
    "])\n",
    "\n",
    "print(d)\n",
    "\n",
    "print(f'Dimension of Array d is {d.ndim}')\n",
    "\n",
    "## Output:"
   ]
  },
  {
   "cell_type": "markdown",
   "metadata": {},
   "source": [
    "## Getting shapes of arrays\n",
    "\n",
    "The ``shape`` attribute of an array returns the dimensions of the array as a tuple, indicating the size of the array along each dimension.\n",
    "\n",
    "**Key Points of shape**\n",
    "\n",
    "-   For a 1D array (like a vector), shape returns a tuple with one element (number of elements in the array).\n",
    "-   For a 2D array (like a matrix), shape returns a tuple with two elements: (rows, columns).\n",
    "-   For a 3D array or higher, shape continues to return the dimensions of each axis."
   ]
  },
  {
   "cell_type": "code",
   "execution_count": 26,
   "metadata": {},
   "outputs": [
    {
     "name": "stdout",
     "output_type": "stream",
     "text": [
      "[1 2 3]\n",
      "Shape of Array a is : (3,)\n",
      "[[1 2 3]\n",
      " [2 5 6]]\n",
      "Shape of Array c is : (2, 3)\n",
      "[[[1 2 3]\n",
      "  [4 5 6]]\n",
      "\n",
      " [[7 8 9]\n",
      "  [1 3 4]]]\n",
      "Shape of Array d is : (2, 2, 3)\n"
     ]
    }
   ],
   "source": [
    "\n",
    "print(a)\n",
    "print(f'Shape of Array a is : {a.shape}')\n",
    "print(c)\n",
    "print(f'Shape of Array c is : {c.shape}')\n",
    "print(d)\n",
    "print(f'Shape of Array d is : {d.shape}')"
   ]
  },
  {
   "attachments": {
    "image.png": {
     "image/png": "[encoded data removed]"
    }
   },
   "cell_type": "markdown",
   "metadata": {},
   "source": [
    "The following picture explains the shape of each array a, b, and c:\n",
    "\n",
    "![image.png](attachment:image.png)"
   ]
  },
  {
   "cell_type": "markdown",
   "metadata": {},
   "source": [
    "### NumPy zeros()\n",
    "\n",
    "The ``zeros()`` function of the numpy module allows you to create a numpy array of a given shape whose elements are filled with zeros.\n",
    "By default, ``zeros()`` function uses the type ``float64`` for its elements. "
   ]
  },
  {
   "cell_type": "code",
   "execution_count": 27,
   "metadata": {},
   "outputs": [
    {
     "name": "stdout",
     "output_type": "stream",
     "text": [
      "[[0. 0. 0.]\n",
      " [0. 0. 0.]]\n",
      "Element Data Type in a : float64\n",
      "[[0 0 0]\n",
      " [0 0 0]]\n",
      "Element Data Type in a : int64\n"
     ]
    }
   ],
   "source": [
    "a = np.zeros((2,3))\n",
    "\n",
    "print(a)\n",
    "print(f'Element Data Type in a : {a.dtype}')\n",
    "\n",
    "a = np.zeros((2,3),dtype=np.int64) # Using int type.\n",
    "\n",
    "print(a)\n",
    "print(f'Element Data Type in a : {a.dtype}')\n",
    "\n"
   ]
  },
  {
   "cell_type": "markdown",
   "metadata": {},
   "source": [
    "### NumPy ones()\n",
    "\n",
    "The ``ones()`` function of the numpy module allows us to create a numpy array of a given shape whose elements are filled with ones."
   ]
  },
  {
   "cell_type": "code",
   "execution_count": 28,
   "metadata": {},
   "outputs": [
    {
     "name": "stdout",
     "output_type": "stream",
     "text": [
      "[[[1 1 1]\n",
      "  [1 1 1]]\n",
      "\n",
      " [[1 1 1]\n",
      "  [1 1 1]]\n",
      "\n",
      " [[1 1 1]\n",
      "  [1 1 1]]]\n"
     ]
    }
   ],
   "source": [
    "b = np.ones((3,2,3),dtype=np.int64)\n",
    "print(b)"
   ]
  },
  {
   "cell_type": "markdown",
   "metadata": {},
   "source": [
    "### NumPy arange()\n",
    "\n",
    "The numpy ``arange()`` function creates a new numpy array with evenly spaced numbers between ``start`` (inclusive) and ``stop`` (exclusive) with a given ``step``. Syntax :-\n",
    "\n",
    "```\n",
    "numpy.arange(start, stop, step, dtype=None, *, like=None)\n",
    "```"
   ]
  },
  {
   "cell_type": "markdown",
   "metadata": {},
   "source": [
    "For example, the following uses arange() function to create a numpy array:"
   ]
  },
  {
   "cell_type": "code",
   "execution_count": 33,
   "metadata": {},
   "outputs": [
    {
     "name": "stdout",
     "output_type": "stream",
     "text": [
      "[1 3 5 7 9]\n",
      "[1. 3. 5. 7. 9.]\n",
      "[1. 3. 5. 7. 9.]\n"
     ]
    }
   ],
   "source": [
    "c = np.arange(1,10,2)\n",
    "print(c)\n",
    "\n",
    "c = np.arange(1.0,10.0,2) # To create an array of floats, pass the start and stop values as floats\n",
    "print(c)\n",
    "\n",
    "# or pass dtype value in arange function\n",
    "\n",
    "c = np.arange(1,10,2,dtype=np.float64)\n",
    "print(c)\n"
   ]
  },
  {
   "cell_type": "markdown",
   "metadata": {},
   "source": [
    "### NumPy linspace()\n",
    "\n",
    "The linspace() function in NumPy is used to generate a sequence of evenly spaced values over a specified interval. It’s particularly useful for creating ranges when we know the number of samples you want rather than the step size.\n",
    "\n",
    "**Syntax:**\n",
    "\n",
    "``numpy.linspace(start, stop, num=50, endpoint=True, retstep=False, dtype=None, axis=0)numpy.linspace(start, stop, num=50, endpoint=True, retstep=False, dtype=None, axis=0)``\n",
    "\n",
    "**Parameters:**\n",
    "\n",
    "-\tstart: The starting value of the sequence.\n",
    "-\tstop: The end value of the sequence.\n",
    "-\tnum: Number of samples to generate (default is 50).\n",
    "-\tendpoint: If True, stop is included in the sequence. If False, it is excluded.\n",
    "-\tretstep: If True, returns the spacing between samples.\n",
    "-\tdtype: The data type of the output array.\n",
    "-\taxis: The axis along which the samples are stored (useful for multi-dimensional arrays).\n",
    "\n",
    "**Returns:**\n",
    "\n",
    "-\tAn array of evenly spaced values.\n",
    "-\tIf retstep=True, a tuple of the array and the step size."
   ]
  },
  {
   "cell_type": "code",
   "execution_count": 34,
   "metadata": {},
   "outputs": [
    {
     "name": "stdout",
     "output_type": "stream",
     "text": [
      "[ 1.    3.25  5.5   7.75 10.  ]\n"
     ]
    }
   ],
   "source": [
    "## Basic Usage:\n",
    "\n",
    "a = np.linspace(1,10,num=5)\n",
    "print(a)"
   ]
  },
  {
   "cell_type": "code",
   "execution_count": 36,
   "metadata": {},
   "outputs": [
    {
     "name": "stdout",
     "output_type": "stream",
     "text": [
      "[1.  2.8 4.6 6.4 8.2]\n"
     ]
    }
   ],
   "source": [
    "# Excluding the Endpoint:\n",
    "\n",
    "a = np.linspace(1,10,num=5,endpoint=False)\n",
    "print(a)"
   ]
  },
  {
   "cell_type": "code",
   "execution_count": 38,
   "metadata": {},
   "outputs": [
    {
     "name": "stdout",
     "output_type": "stream",
     "text": [
      "[ 1.   2.5  4.   5.5  7.   8.5 10. ]\n",
      "1.5\n"
     ]
    }
   ],
   "source": [
    "# Returning the Step Size:\n",
    "\n",
    "array,step_size = np.linspace(1,10,num=7,retstep=True)\n",
    "print(array)\n",
    "print(step_size)"
   ]
  }
 ],
 "metadata": {
  "kernelspec": {
   "display_name": "base",
   "language": "python",
   "name": "python3"
  },
  "language_info": {
   "codemirror_mode": {
    "name": "ipython",
    "version": 3
   },
   "file_extension": ".py",
   "mimetype": "text/x-python",
   "name": "python",
   "nbconvert_exporter": "python",
   "pygments_lexer": "ipython3",
   "version": "3.12.4"
  }
 },
 "nbformat": 4,
 "nbformat_minor": 2
}
