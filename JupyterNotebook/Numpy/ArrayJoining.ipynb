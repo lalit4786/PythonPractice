{
 "cells": [
  {
   "cell_type": "markdown",
   "metadata": {},
   "source": [
    "# NumPy concatenate()\n",
    "\n",
    "The ``concatenate()`` function allows you to join two or more arrays into a single array. Here’s the basic syntax of the concatenate() function:\n",
    "\n",
    "``np.concatenate((a1,a2,...),axis=0)``\n",
    "\n",
    "In this syntax, the concatenate() function joins the elements of the sequence of arrays (a1, a2, …) into a single array. The arrays in the sequence must have the same shape.\n",
    "\n",
    "The axis specifies the axis along which the funciton will join the arrays. If the axis is None, the function will flatten the arrays before joining.\n",
    "<br><br>\n",
    "\n",
    "##### Using the concatenate() function to join two 1D arrays\n",
    "\n"
   ]
  },
  {
   "cell_type": "code",
   "execution_count": 1,
   "metadata": {},
   "outputs": [
    {
     "name": "stdout",
     "output_type": "stream",
     "text": [
      "[1 2 3 4]\n"
     ]
    }
   ],
   "source": [
    "import numpy as np\n",
    "\n",
    "a = np.array([1, 2])\n",
    "b = np.array([3, 4])\n",
    "\n",
    "c = np.concatenate((a, b))\n",
    "print(c)"
   ]
  },
  {
   "attachments": {
    "image.png": {
     "image/png": "[encoded data removed]"
    }
   },
   "cell_type": "markdown",
   "metadata": {},
   "source": [
    "![image.png](attachment:image.png)\n",
    "\n",
    "<br>\n",
    "\n",
    "##### Using the concatenate() function to join two 2D arrays"
   ]
  },
  {
   "cell_type": "code",
   "execution_count": 4,
   "metadata": {},
   "outputs": [
    {
     "name": "stdout",
     "output_type": "stream",
     "text": [
      "Concatenate Array a and b along axis = 0\n",
      "[[1 2]\n",
      " [3 4]\n",
      " [5 6]\n",
      " [7 8]]\n",
      "Concatenate Array a and b along axis = 1\n",
      "[[1 2 5 6]\n",
      " [3 4 7 8]]\n"
     ]
    }
   ],
   "source": [
    "import numpy as np\n",
    "\n",
    "a = np.array([\n",
    "    [1, 2],\n",
    "    [3, 4]\n",
    "])\n",
    "b = np.array([\n",
    "    [5, 6],\n",
    "    [7, 8]\n",
    "])\n",
    "\n",
    "c = np.concatenate((a, b))\n",
    "print(f'Concatenate Array a and b along axis = 0')\n",
    "print(c)\n",
    "\n",
    "c = np.concatenate((a, b),axis=1)\n",
    "print(f'Concatenate Array a and b along axis = 1')\n",
    "print(c)"
   ]
  },
  {
   "cell_type": "markdown",
   "metadata": {},
   "source": [
    "## Introduction to the NumPy stack() function\n",
    "\n",
    "The ``stack()`` function two or more arrays into a single array. Unlike the ``concatenate()`` function, the ``stack()`` function joins 1D arrays to be one 2D array and joins 2D arrays to be one 3D array.\n",
    "\n",
    "The following shows the syntax of the ``stack()`` function:\n",
    "\n",
    "``numpy.stack((a1,a2,...),axis=0)``\n",
    "\n",
    "In this syntax, the (a1, a2, …) is a sequence of arrays with ndarray type or array-like objects. All arrays a1, a2, .. must have the same shape.\n",
    "\n",
    "The axis parameter specifies the axis in the result array along which the function stacks the input arrays. By default, the axis is zero which joins the input arrays vertically.\n",
    "\n",
    "#### Example 1 : Using stack() function to join 1D arrays"
   ]
  },
  {
   "cell_type": "code",
   "execution_count": 9,
   "metadata": {},
   "outputs": [
    {
     "name": "stdout",
     "output_type": "stream",
     "text": [
      "Stacking arrays a and b along axis = 0\n",
      "[[1 2]\n",
      " [3 4]]\n",
      "Stacking arrays a and b along axis = 1\n",
      "[[1 3]\n",
      " [2 4]]\n"
     ]
    }
   ],
   "source": [
    "import numpy as np\n",
    "\n",
    "a = np.array([1, 2])\n",
    "b = np.array([3, 4])\n",
    "\n",
    "c = np.stack((a, b), axis=0)\n",
    "print(f'Stacking arrays a and b along axis = 0')\n",
    "print(c)\n",
    "\n",
    "c = np.stack((a, b), axis=1)\n",
    "print(f'Stacking arrays a and b along axis = 1')\n",
    "print(c)"
   ]
  },
  {
   "cell_type": "markdown",
   "metadata": {},
   "source": [
    "#### Using numpy stack() function to join 2D arrays"
   ]
  },
  {
   "cell_type": "code",
   "execution_count": 12,
   "metadata": {},
   "outputs": [
    {
     "name": "stdout",
     "output_type": "stream",
     "text": [
      "Stacking array a and b along axis = 0\n",
      "[[[1 2]\n",
      "  [3 4]]\n",
      "\n",
      " [[5 6]\n",
      "  [7 8]]]\n",
      "(2, 2, 2)\n",
      "Stacking array a and b along axis = 1\n",
      "[[[1 2]\n",
      "  [5 6]]\n",
      "\n",
      " [[3 4]\n",
      "  [7 8]]]\n",
      "(2, 2, 2)\n",
      "Stacking array a and b along axis = 2\n",
      "[[[1 5]\n",
      "  [2 6]]\n",
      "\n",
      " [[3 7]\n",
      "  [4 8]]]\n",
      "(2, 2, 2)\n"
     ]
    }
   ],
   "source": [
    "import numpy as np\n",
    "\n",
    "a = np.array([\n",
    "    [1, 2],\n",
    "    [3, 4]\n",
    "])\n",
    "b = np.array([\n",
    "    [5, 6],\n",
    "    [7, 8]\n",
    "])\n",
    "\n",
    "print(f'Stacking array a and b along axis = 0')\n",
    "c = np.stack((a, b),axis=0)\n",
    "print(c)\n",
    "print(c.shape)\n",
    "\n",
    "print(f'Stacking array a and b along axis = 1')\n",
    "c = np.stack((a, b),axis=1)\n",
    "print(c)\n",
    "print(c.shape)\n",
    "\n",
    "print(f'Stacking array a and b along axis = 2')\n",
    "c = np.stack((a, b),axis=2)\n",
    "print(c)\n",
    "print(c.shape)"
   ]
  },
  {
   "cell_type": "markdown",
   "metadata": {},
   "source": [
    "## Introduction to the NumPy vstack() function\n",
    "\n",
    "The vstack() function joins elements of two or more arrays into a single array vertically (row-wise).\n",
    "\n",
    "Here’s the syntax of the vstack() function:\n",
    "\n",
    "``numpy.vstack((a1,a2,...))``\n",
    "\n",
    "In this syntax, the (a1, a2, …) is a sequence of arrays with the ndarray type.\n",
    "\n",
    "All arrays a1, a2, .. must have the same shape along all but the first axis. If they’re 1D arrays, then they must have the same length.\n",
    "\n",
    "#### Using vstack() function to join elements of 1D arrays"
   ]
  },
  {
   "cell_type": "code",
   "execution_count": 13,
   "metadata": {},
   "outputs": [
    {
     "name": "stdout",
     "output_type": "stream",
     "text": [
      "Vertically stacking Array b over a\n",
      "[[1 2]\n",
      " [3 4]]\n"
     ]
    }
   ],
   "source": [
    "import numpy as np\n",
    "\n",
    "# Note that for 1D arrays, all input arrays must have the same length or you’ll get an error.\n",
    "a = np.array([1, 2])\n",
    "b = np.array([3, 4])\n",
    "\n",
    "c = np.vstack((a, b))\n",
    "\n",
    "print(f'Vertically stacking Array b over a')\n",
    "print(c)"
   ]
  },
  {
   "cell_type": "markdown",
   "metadata": {},
   "source": [
    "#### Using vstack() function to join elements of 2D arrays"
   ]
  },
  {
   "cell_type": "code",
   "execution_count": 15,
   "metadata": {},
   "outputs": [
    {
     "name": "stdout",
     "output_type": "stream",
     "text": [
      "Stacking array b over a vertically\n",
      "[[1 2]\n",
      " [3 4]\n",
      " [5 6]\n",
      " [7 8]]\n"
     ]
    }
   ],
   "source": [
    "import numpy as np\n",
    "\n",
    "a = np.array([\n",
    "    [1, 2],\n",
    "    [3, 4]\n",
    "])\n",
    "b = np.array([\n",
    "    [5, 6],\n",
    "    [7, 8]\n",
    "])\n",
    "\n",
    "c = np.vstack((a, b))\n",
    "print(f'Stacking array b over a vertically')\n",
    "print(c)"
   ]
  },
  {
   "attachments": {
    "image.png": {
     "image/png": "[encoded data removed]"
    }
   },
   "cell_type": "markdown",
   "metadata": {},
   "source": [
    "![image.png](attachment:image.png)"
   ]
  },
  {
   "cell_type": "markdown",
   "metadata": {},
   "source": [
    "## Introduction to the NumPy hstack() function\n",
    "\n",
    "The ``hstack()`` function joins elements of two or more arrays into a single array horizontally (column-wise).\n",
    "\n",
    "The following shows the syntax of the ``hstack()`` function:\n",
    "\n",
    "``numpy.hstack((a1,a2,...))``\n",
    "\n",
    "In this syntax, the (a1, a2, …) is a sequence of arrays with the ndarray type.\n",
    "\n",
    "All arrays a1, a2, .. must have the same shape along all but the second axis. If all arrays are 1D arrays, then they can have any length.\n",
    "\n",
    "#### Using numpy hstack() function to join elements of 1D arrays\n",
    "\n",
    "The following example uses the ``hstack()`` function to join two 1D arrays of different shape horizontally:"
   ]
  },
  {
   "cell_type": "code",
   "execution_count": 16,
   "metadata": {},
   "outputs": [
    {
     "name": "stdout",
     "output_type": "stream",
     "text": [
      "Stacking array a with b horizantally\n",
      "[1 2 3 4 5]\n"
     ]
    }
   ],
   "source": [
    "import numpy as np\n",
    "\n",
    "a = np.array([1, 2])\n",
    "b = np.array([3, 4, 5])\n",
    "\n",
    "c = np.hstack((a, b))\n",
    "print(f'Stacking array a with b horizantally')\n",
    "print(c)"
   ]
  },
  {
   "attachments": {
    "image.png": {
     "image/png": "[encoded data removed]"
    }
   },
   "cell_type": "markdown",
   "metadata": {},
   "source": [
    "![image.png](attachment:image.png)\n",
    "\n",
    "\n",
    "#### Using numpy hstack() function to join elements of 2D arrays"
   ]
  },
  {
   "cell_type": "code",
   "execution_count": 17,
   "metadata": {},
   "outputs": [
    {
     "name": "stdout",
     "output_type": "stream",
     "text": [
      "Stacking Array a with b horizantally\n",
      "[[1 2 5 5 6]\n",
      " [3 4 0 7 8]]\n"
     ]
    }
   ],
   "source": [
    "import numpy as np\n",
    "\n",
    "a = np.array([\n",
    "    [1, 2, 5],\n",
    "    [3, 4, 0]\n",
    "])\n",
    "b = np.array([\n",
    "    [5, 6],\n",
    "    [7, 8]\n",
    "])\n",
    "\n",
    "c = np.hstack((a, b))\n",
    "print(f'Stacking Array a with b horizantally')\n",
    "print(c)\n"
   ]
  },
  {
   "cell_type": "markdown",
   "metadata": {},
   "source": [
    "**Note :** Shape of array a is (2,3) while shape of b is (2,2), which implies shape should be same along axis = 0"
   ]
  },
  {
   "attachments": {
    "image.png": {
     "image/png": "[encoded data removed]"
    }
   },
   "cell_type": "markdown",
   "metadata": {},
   "source": [
    "## Introduction to the NumPy split() function\n",
    "\n",
    "The ``split()`` funciton splits an array into multiple sub-arrays as views. The syntax of the split() function is as follows:\n",
    "\n",
    "``numpy.split(ary, indices_or_sections, axis=0)``\n",
    "\n",
    "In this syntax:\n",
    "\n",
    "-   **ary** is the array to be split into subarrays.\n",
    "\n",
    "-   **indices_or_sections** can be an integer or a 1-D array of sorted integers.\n",
    "\n",
    "If it is an integer, the function splits the input array into N equal arrays along the axis. \n",
    "\n",
    "***If the split is not possible, the function will raise an error.***\n",
    "\n",
    "If **indices_or_sections** is a 1D array of sorted integers, the indices indicate where along the axis the function splits the array.\n",
    "\n",
    "When an index exceeds the dimension of the array along the axis, the function returns an empty subarray.\n",
    "\n",
    "The following picture shows how the split() function splits the array with indices 2, 3, and 4. It results in 4 arrays.\n",
    "\n",
    "![image.png](attachment:image.png)\n",
    "\n",
    "<br><br>\n",
    "\n",
    "#### The following example uses the split() function to split a 1D array with seven elements into three sub-arrays:\n",
    "\n"
   ]
  },
  {
   "cell_type": "code",
   "execution_count": 18,
   "metadata": {},
   "outputs": [
    {
     "name": "stdout",
     "output_type": "stream",
     "text": [
      "Original Array\n",
      "[1 2 3 4 5 6]\n",
      "Sub-Arrays\n",
      "[array([1, 2]), array([3, 4]), array([5, 6])]\n"
     ]
    }
   ],
   "source": [
    "import numpy as np\n",
    "\n",
    "\n",
    "a = np.arange(1,7)\n",
    "results = np.split(a,3)\n",
    "\n",
    "print(f'Original Array')\n",
    "print(a)\n",
    "\n",
    "print(f'Sub-Arrays')\n",
    "print(results)"
   ]
  },
  {
   "cell_type": "markdown",
   "metadata": {},
   "source": [
    "The following example raises an error because the split is not possible:\n",
    "\n"
   ]
  },
  {
   "cell_type": "code",
   "execution_count": 20,
   "metadata": {},
   "outputs": [
    {
     "ename": "ValueError",
     "evalue": "array split does not result in an equal division",
     "output_type": "error",
     "traceback": [
      "\u001b[0;31m---------------------------------------------------------------------------\u001b[0m",
      "\u001b[0;31mValueError\u001b[0m                                Traceback (most recent call last)",
      "Cell \u001b[0;32mIn[20], line 1\u001b[0m\n\u001b[0;32m----> 1\u001b[0m results \u001b[38;5;241m=\u001b[39m np\u001b[38;5;241m.\u001b[39msplit(a,\u001b[38;5;241m4\u001b[39m)\n",
      "File \u001b[0;32m/opt/anaconda3/lib/python3.12/site-packages/numpy/lib/shape_base.py:864\u001b[0m, in \u001b[0;36msplit\u001b[0;34m(ary, indices_or_sections, axis)\u001b[0m\n\u001b[1;32m    862\u001b[0m     N \u001b[38;5;241m=\u001b[39m ary\u001b[38;5;241m.\u001b[39mshape[axis]\n\u001b[1;32m    863\u001b[0m     \u001b[38;5;28;01mif\u001b[39;00m N \u001b[38;5;241m%\u001b[39m sections:\n\u001b[0;32m--> 864\u001b[0m         \u001b[38;5;28;01mraise\u001b[39;00m \u001b[38;5;167;01mValueError\u001b[39;00m(\n\u001b[1;32m    865\u001b[0m             \u001b[38;5;124m'\u001b[39m\u001b[38;5;124marray split does not result in an equal division\u001b[39m\u001b[38;5;124m'\u001b[39m) \u001b[38;5;28;01mfrom\u001b[39;00m \u001b[38;5;28;01mNone\u001b[39;00m\n\u001b[1;32m    866\u001b[0m \u001b[38;5;28;01mreturn\u001b[39;00m array_split(ary, indices_or_sections, axis)\n",
      "\u001b[0;31mValueError\u001b[0m: array split does not result in an equal division"
     ]
    }
   ],
   "source": [
    "results = np.split(a,4)"
   ]
  },
  {
   "cell_type": "markdown",
   "metadata": {},
   "source": [
    "#### Using the split() function to split a 2D array\n",
    "\n",
    "The following example uses the split() function to split a 2D array into two subarrays:"
   ]
  },
  {
   "cell_type": "code",
   "execution_count": 22,
   "metadata": {},
   "outputs": [
    {
     "name": "stdout",
     "output_type": "stream",
     "text": [
      "Original Array\n",
      "[[1 2]\n",
      " [3 4]\n",
      " [5 6]\n",
      " [7 8]]\n",
      "Sub-Arrays\n",
      "[array([[1, 2],\n",
      "       [3, 4]]), array([[5, 6],\n",
      "       [7, 8]])]\n"
     ]
    }
   ],
   "source": [
    "import numpy as np\n",
    "\n",
    "a = np.array([[1,2],[3,4],[5,6],[7,8]])\n",
    "results = np.split(a,2)\n",
    "\n",
    "print(f'Original Array')\n",
    "print(a)\n",
    "print(f'Sub-Arrays')\n",
    "print(results)"
   ]
  },
  {
   "cell_type": "markdown",
   "metadata": {},
   "source": [
    "#### Using the NumPy split() function using indices\n",
    "\n",
    "The following example uses the split() function to split a 1D array using an array of indices:"
   ]
  },
  {
   "cell_type": "code",
   "execution_count": 24,
   "metadata": {},
   "outputs": [
    {
     "name": "stdout",
     "output_type": "stream",
     "text": [
      "Orignal Array\n",
      "[10 20 30 40 50 60]\n",
      "Sub Arrays\n",
      "[array([10, 20]), array([30]), array([40]), array([50, 60])]\n"
     ]
    }
   ],
   "source": [
    "import numpy as np\n",
    "\n",
    "\n",
    "a = np.arange(10,70,10)\n",
    "results = np.split(a, [2, 3, 4])\n",
    "\n",
    "print(f'Orignal Array')\n",
    "print(a)\n",
    "\n",
    "print(f'Sub Arrays')\n",
    "print(results)"
   ]
  }
 ],
 "metadata": {
  "kernelspec": {
   "display_name": "base",
   "language": "python",
   "name": "python3"
  },
  "language_info": {
   "codemirror_mode": {
    "name": "ipython",
    "version": 3
   },
   "file_extension": ".py",
   "mimetype": "text/x-python",
   "name": "python",
   "nbconvert_exporter": "python",
   "pygments_lexer": "ipython3",
   "version": "3.12.4"
  }
 },
 "nbformat": 4,
 "nbformat_minor": 2
}
