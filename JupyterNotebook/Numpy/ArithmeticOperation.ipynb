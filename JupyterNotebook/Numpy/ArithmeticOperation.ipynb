{
 "cells": [
  {
   "cell_type": "markdown",
   "metadata": {},
   "source": [
    "# NumPy add()\n",
    "\n",
    "The + or add() function of two equal-sized arrays perform element-wise additions. It returns the sum of two arrays, element-wise.\n",
    "\n",
    "**The syntax of ``add()`` is:**\n",
    "\n",
    "``numpy.add(x1, x2, out = None, where = True, dtype = None)``\n",
    "\n",
    "\n",
    "The ``add()`` function takes following arguments:\n",
    "\n",
    "-   **x1 and x2** - two input arrays or scalars to be added\n",
    "-   **out (optional)** - the output array where the result will be stored\n",
    "-   **where (optional)** - a boolean array or condition specifying which elements to add\n",
    "-   **dtype (optional)** - data type of the output array\n",
    "<br><br>\n",
    "\n",
    "##### Example 1 : Add NumPy Array by scalar (Single Value)"
   ]
  },
  {
   "cell_type": "code",
   "execution_count": 2,
   "metadata": {},
   "outputs": [
    {
     "name": "stdout",
     "output_type": "stream",
     "text": [
      "[11 12 13]\n"
     ]
    }
   ],
   "source": [
    "import numpy as np\n",
    "\n",
    "# create an array\n",
    "array1 = np.array([1, 2, 3])\n",
    "\n",
    "# add a scalar value to the array\n",
    "result = np.add(array1, 10)\n",
    "\n",
    "print(result)"
   ]
  },
  {
   "cell_type": "markdown",
   "metadata": {},
   "source": [
    "##### Example 2: Use of out and where in add()"
   ]
  },
  {
   "cell_type": "code",
   "execution_count": 4,
   "metadata": {},
   "outputs": [
    {
     "name": "stdout",
     "output_type": "stream",
     "text": [
      "[11  2 33 55]\n"
     ]
    }
   ],
   "source": [
    "import numpy as np\n",
    "\n",
    "# create two input arrays\n",
    "array1 = np.array([1, 2, 3, 5])\n",
    "array2 = np.array([10, 20, 30, 50])\n",
    "\n",
    "# create a boolean array to specify the condition for element selection\n",
    "condition = np.array([True, False, True, True])\n",
    "\n",
    "# create an empty array to store the subtracted values\n",
    "result = np.empty_like(array1)\n",
    "\n",
    "# add elements in array1 and array2 based on values in the condition array and \n",
    "# store the sum in the result array\n",
    "np.add(array1, array2, where=condition, out=result)\n",
    "\n",
    "print(result)"
   ]
  },
  {
   "cell_type": "markdown",
   "metadata": {},
   "source": [
    "##### Using NumPy add() function to add two 2D arrays "
   ]
  },
  {
   "cell_type": "code",
   "execution_count": 5,
   "metadata": {},
   "outputs": [
    {
     "name": "stdout",
     "output_type": "stream",
     "text": [
      "[[ 6  8]\n",
      " [10 12]]\n"
     ]
    }
   ],
   "source": [
    "import numpy as np\n",
    "\n",
    "a = np.array([[1, 2], [3, 4]])\n",
    "b = np.array([[5, 6], [7, 8]])\n",
    "\n",
    "c = np.add(a,b)\n",
    "print(c)"
   ]
  },
  {
   "cell_type": "markdown",
   "metadata": {},
   "source": [
    "##### Add Scalar to 2-D Array"
   ]
  },
  {
   "cell_type": "code",
   "execution_count": 6,
   "metadata": {},
   "outputs": [
    {
     "name": "stdout",
     "output_type": "stream",
     "text": [
      "[[11 12]\n",
      " [13 14]]\n"
     ]
    }
   ],
   "source": [
    "import numpy as np\n",
    "\n",
    "a = np.array([[1, 2], [3, 4]])\n",
    "b = 10\n",
    "\n",
    "c = np.add(a,b)\n",
    "print(c)"
   ]
  },
  {
   "cell_type": "markdown",
   "metadata": {},
   "source": [
    "## NumPy subtract()\n",
    "\n",
    "The ``-`` or ``subtract()`` function returns the difference between two equal-sized arrays by performing element-wise subtractions.\n",
    "\n",
    "Let's take example of 2-D Array:"
   ]
  },
  {
   "cell_type": "code",
   "execution_count": 11,
   "metadata": {},
   "outputs": [
    {
     "name": "stdout",
     "output_type": "stream",
     "text": [
      "Subtraction of scalar 1- using `-` is [[-9 -8]\n",
      " [-7 -6]]\n",
      "Subtraction of Scalar from array a using numpy subtraction function :: [[-9 -8]\n",
      " [-7 -6]]\n",
      "Subtraction of array b from array a using `-` operator\n",
      "[[-1 -2]\n",
      " [ 2 -4]]\n",
      "Subtraction of array b from array a using subtraction function\n",
      "[[-1 -2]\n",
      " [ 2 -4]]\n"
     ]
    }
   ],
   "source": [
    "import numpy as np\n",
    "\n",
    "a = np.array([[1, 2], [3, 4]])\n",
    "b = np.array([[2,4],[1,8]])\n",
    "\n",
    "c = a-10 # Subtraction of scalar using `-` operator\n",
    "print(f'Subtraction of scalar 1- using `-` is {c}')\n",
    "\n",
    "c = np.subtract(a,10) # Subtraction of Scalar from array a using numpy subtraction function\n",
    "\n",
    "print(f'Subtraction of Scalar from array a using numpy subtraction function :: {c}')\n",
    "\n",
    "# Subtraction of array b from array a using `-` operator\n",
    "print(f'Subtraction of array b from array a using `-` operator')\n",
    "print(a-b)\n",
    "\n",
    "# Subtraction of array b from array a using subtraction function\n",
    "print(f'Subtraction of array b from array a using subtraction function')\n",
    "print(np.subtract(a,b))\n",
    "\n"
   ]
  },
  {
   "cell_type": "markdown",
   "metadata": {},
   "source": [
    "## NumPy multiply()\n",
    "\n",
    "The * operator or multiply() function returns the product of two equal-sized arrays by performing element-wise multiplication.\n",
    "\n",
    "**Syntax**\n",
    "\n",
    "``numpy.multiply(array1, array2, out=None)``\n",
    "\n",
    "The multiply() function takes following arguments:\n",
    "\n",
    "-   array1 and array2 - two input arrays to be multiplied element-wise\n",
    "-   out (optional) - the output array where the result will be stored\n",
    "\n",
    ">**Note:** array1 and array2 must have the same shape unless one of them is a scalar value.\n",
    "\n",
    "The multiply() function returns an array that contains the result of element-wise multiplication between the input arrays.\n",
    "\n",
    "Let's take an example of multiplying 2-D Array by Scalar using ``*`` and ``multiply()`` function\n"
   ]
  },
  {
   "cell_type": "code",
   "execution_count": 15,
   "metadata": {},
   "outputs": [
    {
     "name": "stdout",
     "output_type": "stream",
     "text": [
      "Multiplying array 'a' with Scalar value 10 using '*' operator\n",
      "[[10 20]\n",
      " [30 40]]\n",
      "Multiplying array 'a' with Array 'b' value 10 using '*' operator\n",
      "[[ 5 12]\n",
      " [21 32]]\n"
     ]
    }
   ],
   "source": [
    "import numpy as np\n",
    "\n",
    "a = np.array([[1, 2], [3, 4]])\n",
    "b = np.array([[5, 6], [7, 8]])\n",
    "\n",
    "print(f'Multiplying array \\'a\\' with Scalar value 10 using \\'*\\' operator')\n",
    "print(a*10)\n",
    "\n",
    "print(f'Multiplying array \\'a\\' with Array \\'b\\' value 10 using \\'*\\' operator')\n",
    "print(a*b)"
   ]
  },
  {
   "attachments": {
    "image.png": {
     "image/png": "[encoded data removed]"
    }
   },
   "cell_type": "markdown",
   "metadata": {},
   "source": [
    "![image.png](attachment:image.png)"
   ]
  },
  {
   "cell_type": "markdown",
   "metadata": {},
   "source": [
    "**Multiplying Array with Scalar or multiplyinng two array using ``multiply()`` function**"
   ]
  },
  {
   "cell_type": "code",
   "execution_count": 17,
   "metadata": {},
   "outputs": [
    {
     "name": "stdout",
     "output_type": "stream",
     "text": [
      "Multiplying array 'a' with Scalar value 10 using numpy multiply()\n",
      "[[10 20]\n",
      " [30 40]]\n",
      "Multiplying array 'a' with Array 'b' value 10 using numpy multiply()\n",
      "[[ 5 12]\n",
      " [21 32]]\n"
     ]
    }
   ],
   "source": [
    "import numpy as np\n",
    "\n",
    "a = np.array([[1, 2], [3, 4]])\n",
    "b = np.array([[5, 6], [7, 8]])\n",
    "\n",
    "print(f'Multiplying array \\'a\\' with Scalar value 10 using numpy multiply()')\n",
    "print(np.multiply(a,10))\n",
    "\n",
    "print(f'Multiplying array \\'a\\' with Array \\'b\\' value 10 using numpy multiply()')\n",
    "print(np.multiply(a,b))"
   ]
  },
  {
   "cell_type": "markdown",
   "metadata": {},
   "source": [
    "## NumPy divide()\n",
    "\n",
    "The / operator or divide() function returns the quotient of two equal-sized arrays by performing element-wise division.\n",
    "\n",
    "**The syntax of divide() is:**\n",
    "\n",
    "``numpy.divide(array1, array2, out = None)``\n",
    "\n",
    "The divide() function takes following arguments:\n",
    "\n",
    "-   array1 - the numerator array or scalar value\n",
    "-   array2 - the denominator array or scalar value\n",
    "-   out (optional) - the output array where the result will be stored\n",
    "\n",
    "The ``divide()`` function returns an array that contains the result of element-wise division of the elements in two input arrays.\n",
    "<br><br>\n",
    "**Example 1 : Divide using '/' Operator**"
   ]
  },
  {
   "cell_type": "code",
   "execution_count": 21,
   "metadata": {},
   "outputs": [
    {
     "name": "stdout",
     "output_type": "stream",
     "text": [
      "Divide array 'a' by Scalar value 2 using '/'\n",
      "[[5. 4.]\n",
      " [3. 2.]]\n",
      "Divide array 'a' by Array 'b' using '/'\n",
      "[[2. 4.]\n",
      " [3. 4.]]\n"
     ]
    }
   ],
   "source": [
    "import numpy as np\n",
    "\n",
    "a = np.array([[10, 8], [6, 4]])\n",
    "b = np.array([[5, 2], [2, 1]])\n",
    "\n",
    "print(f'Divide array \\'a\\' by Scalar value 2 using \\'/\\'')\n",
    "print(a/2)\n",
    "\n",
    "print(f'Divide array \\'a\\' by Array \\'b\\' using \\'/\\'')\n",
    "print(a/b)"
   ]
  },
  {
   "cell_type": "markdown",
   "metadata": {},
   "source": [
    "**Example 2: Divide Array using `divide()` numpy function**"
   ]
  },
  {
   "cell_type": "code",
   "execution_count": 20,
   "metadata": {},
   "outputs": [
    {
     "name": "stdout",
     "output_type": "stream",
     "text": [
      "Divide array 'a' by Scalar value 2 using divide() function from numpy\n",
      "[[5. 4.]\n",
      " [3. 2.]]\n",
      "Divide array 'a' by Array 'b' using divide() function from numpy\n",
      "[[2. 4.]\n",
      " [3. 4.]]\n"
     ]
    }
   ],
   "source": [
    "import numpy as np\n",
    "\n",
    "a = np.array([[10, 8], [6, 4]])\n",
    "b = np.array([[5, 2], [2, 1]])\n",
    "\n",
    "print(f'Divide array \\'a\\' by Scalar value 2 using divide() function from numpy')\n",
    "print(np.divide(a,2))\n",
    "\n",
    "print(f'Divide array \\'a\\' by Array \\'b\\' using divide() function from numpy')\n",
    "print(np.divide(a,b))"
   ]
  },
  {
   "attachments": {
    "image.png": {
     "image/png": "[encoded data removed]"
    }
   },
   "cell_type": "markdown",
   "metadata": {},
   "source": [
    "## NumPy Broadcasting\n",
    "\n",
    "To perform arithmetic operations on arrays of different shapes, NumPy uses a technique called broadcasting.\n",
    "\n",
    "By definition, broadcasting is a set of rules for applying arithmetic operations on arrays of different shapes. \n",
    "\n",
    "For instance, you can use the + operator to add a number to an array like this:\n",
    "\n",
    "```python\n",
    "import numpy as np\n",
    "\n",
    "a = np.array([1, 2, 3])\n",
    "b = a + 1\n",
    "print(b) # [2 3 4]\n",
    "```\n",
    "\n",
    "This example adds the number one to a 1D array using the operator +. Internally, NumPy adds the number 1 to every element of the array. This technique is called **broadcasting**.\n",
    "\n",
    "In other words, NumPy broadcasts the number one across the first dimension to match the shape of the 1D array.\n",
    "\n",
    "```python\n",
    "import numpy as np\n",
    "\n",
    "a = np.array([1, 2, 3])\n",
    "b = a + np.array([1, 1, 1])\n",
    "print(b)\n",
    "```\n",
    "\n",
    "So adding the number one to a 1D array is like duplicating the number one into another 1D array [1, 1, 1] and adding that array to the array:\n",
    "\n",
    "![image.png](attachment:image.png)\n",
    "\n",
    "Similarly, we can add a 1D array to a 2D array using broadcasting like this:\n",
    "\n",
    "```python\n",
    "import numpy as np\n",
    "\n",
    "a = np.array([\n",
    "    [1, 2, 3],\n",
    "    [4, 5, 6]\n",
    "])\n",
    "b = np.array([10, 20, 30])\n",
    "c = a + b\n",
    "print(c)\n",
    "```\n",
    "\n",
    "Output:\n",
    "\n",
    "```\n",
    "[[11 22 33]\n",
    " [14 25 36]]\n",
    "```\n",
    "\n",
    "In this example, NumPy broadcasts the 1D array b across the second dimension to match the shape of the array a.\n",
    "\n",
    "### NumPy broadcasting rules\n",
    "\n",
    "-   Rule 1: if two arrays have different dimensions, it pads ones on the left side of the shape of the array that has fewer dimensions.\n",
    "-   Rule 2: if two dimensions of arrays do not match in any dimension, the array with a shape equal to 1 in that dimension is stretched (or broadcast) to match the shape of another array.\n",
    "-   Rule 3: if any dimension of two arrays is not equal and neither is equal to one, NumPy raises an error.\n",
    "\n",
    "##### Example 1: NumPy broadcasting on one array example"
   ]
  },
  {
   "cell_type": "code",
   "execution_count": 22,
   "metadata": {},
   "outputs": [
    {
     "name": "stdout",
     "output_type": "stream",
     "text": [
      "[[2. 3. 4.]\n",
      " [5. 6. 7.]]\n"
     ]
    }
   ],
   "source": [
    "import numpy as np\n",
    "\n",
    "a = np.array([\n",
    "    [1, 2, 3],\n",
    "    [4, 5, 6]\n",
    "])\n",
    "b = np.ones(3)\n",
    "c = a + b\n",
    "print(c)"
   ]
  },
  {
   "cell_type": "markdown",
   "metadata": {},
   "source": [
    "The following table shows the shapes of a and b:\n",
    "\n",
    "<table border=\"1\" style=\"border-collapse: collapse; width: 50%;\">\n",
    "  <tr>\n",
    "    <th>Array</th>\n",
    "    <th>Shape</th>\n",
    "  </tr>\n",
    "  <tr>\n",
    "    <td>a</td>\n",
    "    <td>(2, 3)</td>\n",
    "  </tr>\n",
    "  <tr>\n",
    "    <td>b</td>\n",
    "    <td>(3,)</td>\n",
    "  </tr>\n",
    "</table>\n",
    "\n",
    "By rule 1, because the array b has fewer dimensions, NumPy pads one on the left:\n",
    "\n",
    "<table border=\"1\" style=\"border-collapse: collapse; width: 50%;\">\n",
    "  <tr>\n",
    "    <th>Array</th>\n",
    "    <th>Shape</th>\n",
    "  </tr>\n",
    "  <tr>\n",
    "    <td>a</td>\n",
    "    <td>(2, 3)</td>\n",
    "  </tr>\n",
    "  <tr>\n",
    "    <td>b</td>\n",
    "    <td>(1,3)</td>\n",
    "  </tr>\n",
    "</table>\n",
    "\n",
    "By rule 2, the first dimensions of two shapes are not equal, NumPy stretches (or broadcasts) the first dimension of the array b to match:\n",
    "\n",
    "<table border=\"1\" style=\"border-collapse: collapse; width: 50%;\">\n",
    "  <tr>\n",
    "    <th>Array</th>\n",
    "    <th>Shape</th>\n",
    "  </tr>\n",
    "  <tr>\n",
    "    <td>a</td>\n",
    "    <td>(2, 3)</td>\n",
    "  </tr>\n",
    "  <tr>\n",
    "    <td>b</td>\n",
    "    <td>(2,3)</td>\n",
    "  </tr>\n",
    "</table>\n",
    "\n",
    "Now, the dimensions of both arrays match. The shape of the result array is (2,3)."
   ]
  },
  {
   "cell_type": "markdown",
   "metadata": {},
   "source": [
    "##### Example 2 : NumPy broadcasting on both arrays"
   ]
  },
  {
   "cell_type": "code",
   "execution_count": 23,
   "metadata": {},
   "outputs": [
    {
     "name": "stdout",
     "output_type": "stream",
     "text": [
      "a shape:  (3, 1)\n",
      "b shape:  (3,)\n",
      "[[2 3 4]\n",
      " [3 4 5]\n",
      " [4 5 6]]\n",
      "c shape:  (3, 3)\n"
     ]
    }
   ],
   "source": [
    "import numpy as np\n",
    "\n",
    "a = np.array([\n",
    "    [1],\n",
    "    [2],\n",
    "    [3],\n",
    "])\n",
    "print(f\"a shape: \", a.shape)\n",
    "\n",
    "b = np.array([1, 2, 3])\n",
    "print(f\"b shape: \", b.shape)\n",
    "\n",
    "c = a + b\n",
    "print(c)\n",
    "print(f\"c shape: \", c.shape)"
   ]
  },
  {
   "cell_type": "markdown",
   "metadata": {},
   "source": [
    "In this example, the shape of a and b arrays are (3,1) and (3,) respectively.\n",
    "\n",
    "<table border=\"1\" style=\"border-collapse: collapse; width: 50%;\">\n",
    "  <tr>\n",
    "    <th>Array</th>\n",
    "    <th>Shape</th>\n",
    "  </tr>\n",
    "  <tr>\n",
    "    <td>a</td>\n",
    "    <td>(3, 1)</td>\n",
    "  </tr>\n",
    "  <tr>\n",
    "    <td>b</td>\n",
    "    <td>(3,)</td>\n",
    "  </tr>\n",
    "</table>\n",
    "\n",
    "By rule 1, NumPy pads the shape of b with ones:\n",
    "\n",
    "<table border=\"1\" style=\"border-collapse: collapse; width: 50%;\">\n",
    "  <tr>\n",
    "    <th>Array</th>\n",
    "    <th>Shape</th>\n",
    "  </tr>\n",
    "  <tr>\n",
    "    <td>a</td>\n",
    "    <td>(3, 1)</td>\n",
    "  </tr>\n",
    "  <tr>\n",
    "    <td>b</td>\n",
    "    <td>(1,3)</td>\n",
    "  </tr>\n",
    "</table>\n",
    "\n",
    "By rule 2, NumPy stretches the dimensions of both arrays a and b to match because they’re both ones:\n",
    "\n",
    "<table border=\"1\" style=\"border-collapse: collapse; width: 50%;\">\n",
    "  <tr>\n",
    "    <th>Array</th>\n",
    "    <th>Shape</th>\n",
    "  </tr>\n",
    "  <tr>\n",
    "    <td>a</td>\n",
    "    <td>(3, 3)</td>\n",
    "  </tr>\n",
    "  <tr>\n",
    "    <td>b</td>\n",
    "    <td>(3,3)</td>\n",
    "  </tr>\n",
    "</table>\n",
    "\n",
    "The resulting array has the shape of (3,3).\n",
    "\n",
    "\n"
   ]
  },
  {
   "cell_type": "markdown",
   "metadata": {},
   "source": [
    "#### Example 3 : NumPy broadcasting with error"
   ]
  },
  {
   "cell_type": "code",
   "execution_count": 24,
   "metadata": {},
   "outputs": [
    {
     "name": "stdout",
     "output_type": "stream",
     "text": [
      "a shape:  (3, 2)\n",
      "b shape:  (3,)\n"
     ]
    },
    {
     "ename": "ValueError",
     "evalue": "operands could not be broadcast together with shapes (3,2) (3,) ",
     "output_type": "error",
     "traceback": [
      "\u001b[0;31m---------------------------------------------------------------------------\u001b[0m",
      "\u001b[0;31mValueError\u001b[0m                                Traceback (most recent call last)",
      "Cell \u001b[0;32mIn[24], line 13\u001b[0m\n\u001b[1;32m     10\u001b[0m b \u001b[38;5;241m=\u001b[39m np\u001b[38;5;241m.\u001b[39marray([\u001b[38;5;241m1\u001b[39m, \u001b[38;5;241m2\u001b[39m, \u001b[38;5;241m3\u001b[39m])\n\u001b[1;32m     11\u001b[0m \u001b[38;5;28mprint\u001b[39m(\u001b[38;5;124mf\u001b[39m\u001b[38;5;124m\"\u001b[39m\u001b[38;5;124mb shape: \u001b[39m\u001b[38;5;124m\"\u001b[39m, b\u001b[38;5;241m.\u001b[39mshape)\n\u001b[0;32m---> 13\u001b[0m c \u001b[38;5;241m=\u001b[39m a \u001b[38;5;241m+\u001b[39m b\n",
      "\u001b[0;31mValueError\u001b[0m: operands could not be broadcast together with shapes (3,2) (3,) "
     ]
    }
   ],
   "source": [
    "import numpy as np\n",
    "\n",
    "a = np.array([\n",
    "    [1, 2],\n",
    "    [3, 4],\n",
    "    [5, 6],\n",
    "])\n",
    "print(f\"a shape: \", a.shape)\n",
    "\n",
    "b = np.array([1, 2, 3])\n",
    "print(f\"b shape: \", b.shape)\n",
    "\n",
    "c = a + b"
   ]
  },
  {
   "cell_type": "markdown",
   "metadata": {},
   "source": [
    "In this example, the array a and b have the following shapes:\n",
    "\n",
    "<table border=\"1\" style=\"border-collapse: collapse; width: 50%;\">\n",
    "  <tr>\n",
    "    <th>Array</th>\n",
    "    <th>Shape</th>\n",
    "  </tr>\n",
    "  <tr>\n",
    "    <td>a</td>\n",
    "    <td>(3, 2)</td>\n",
    "  </tr>\n",
    "  <tr>\n",
    "    <td>b</td>\n",
    "    <td>(3,)</td>\n",
    "  </tr>\n",
    "</table>\n",
    "\n",
    "By rule 1, NumPy pads the shape of the second array with ones:\n",
    "\n",
    "<table border=\"1\" style=\"border-collapse: collapse; width: 50%;\">\n",
    "  <tr>\n",
    "    <th>Array</th>\n",
    "    <th>Shape</th>\n",
    "  </tr>\n",
    "  <tr>\n",
    "    <td>a</td>\n",
    "    <td>(3, 2)</td>\n",
    "  </tr>\n",
    "  <tr>\n",
    "    <td>b</td>\n",
    "    <td>(1,3)</td>\n",
    "  </tr>\n",
    "</table>\n",
    "\n",
    "By rule 2, NumPy stretches the first dimension of the b array from 1 to 3 to match:\n",
    "\n",
    "<table border=\"1\" style=\"border-collapse: collapse; width: 50%;\">\n",
    "  <tr>\n",
    "    <th>Array</th>\n",
    "    <th>Shape</th>\n",
    "  </tr>\n",
    "  <tr>\n",
    "    <td>a</td>\n",
    "    <td>(3, 2)</td>\n",
    "  </tr>\n",
    "  <tr>\n",
    "    <td>b</td>\n",
    "    <td>(3,3)</td>\n",
    "  </tr>\n",
    "</table>\n",
    "\n",
    "By rule 3, the final shapes do not match, therefore, NumPy raises an error.\n",
    "\n"
   ]
  }
 ],
 "metadata": {
  "kernelspec": {
   "display_name": "base",
   "language": "python",
   "name": "python3"
  },
  "language_info": {
   "codemirror_mode": {
    "name": "ipython",
    "version": 3
   },
   "file_extension": ".py",
   "mimetype": "text/x-python",
   "name": "python",
   "nbconvert_exporter": "python",
   "pygments_lexer": "ipython3",
   "version": "3.12.4"
  }
 },
 "nbformat": 4,
 "nbformat_minor": 2
}
